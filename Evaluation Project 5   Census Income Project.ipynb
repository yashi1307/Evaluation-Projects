{
 "cells": [
  {
   "cell_type": "markdown",
   "id": "d495f30f",
   "metadata": {},
   "source": [
    "**Project Description:**\n",
    "\n",
    "**This data was extracted from the 1994 Census bureau database by Ronny Kohavi and Barry Becker (Data Mining and Visualization, Silicon Graphics). A set of reasonably clean records was extracted using the following conditions: ((AAGE>16) && (AGI>100) && (AFNLWGT>1) && (HRSWK>0)). The prediction task is to determine whether a person makes over $50K a year.**\n",
    "\n",
    "Description of fnlwgt (final weight)\n",
    "The weights on the Current Population Survey (CPS) files are controlled to independent estimates of the civilian non-institutional population of the US. These are prepared monthly for us by Population Division here at the Census Bureau. We use 3 sets of controls. These are:\n",
    "1.\tA single cell estimate of the population 16+ for each state.\n",
    "2.\tControls for Hispanic Origin by age and sex.\n",
    "3.\tControls by Race, age and sex.\n",
    "We use all three sets of controls in our weighting program and \"rake\" through them 6 times so that by the end we come back to all the controls we used. The term estimate refers to population totals derived from CPS by creating \"weighted tallies\" of any specified socio-economic characteristics of the population. People with similar demographic characteristics should have similar weights. There is one important caveat to remember about this statement. That is that since the CPS sample is actually a collection of 51 state samples, each with its own probability of selection, the statement only applies within state.\n",
    "\n"
   ]
  },
  {
   "cell_type": "code",
   "execution_count": 2,
   "id": "fe744081",
   "metadata": {},
   "outputs": [],
   "source": [
    "# Importing Necessary Libraries:\n",
    "\n",
    "import pandas as pd\n",
    "import numpy as np\n",
    "import matplotlib.pyplot as plt \n",
    "%matplotlib inline\n",
    "import seaborn as sns\n",
    "from scipy.stats import zscore\n",
    "from sklearn.preprocessing  import power_transform, StandardScaler\n",
    "from sklearn.model_selection import train_test_split, GridSearchCV,cross_val_score\n",
    "from sklearn.metrics import  accuracy_score, classification_report\n",
    "from sklearn.linear_model import LogisticRegression\n",
    "import pickle\n",
    "import warnings\n",
    "warnings.filterwarnings('ignore')"
   ]
  },
  {
   "cell_type": "code",
   "execution_count": 3,
   "id": "ce058138",
   "metadata": {},
   "outputs": [],
   "source": [
    "# Importing the Dataset:\n",
    "census=pd.read_csv(\"https://raw.githubusercontent.com/dsrscientist/dataset1/master/census_income.csv\")"
   ]
  },
  {
   "cell_type": "code",
   "execution_count": 4,
   "id": "c7a6d9a8",
   "metadata": {},
   "outputs": [
    {
     "data": {
      "text/html": [
       "<div>\n",
       "<style scoped>\n",
       "    .dataframe tbody tr th:only-of-type {\n",
       "        vertical-align: middle;\n",
       "    }\n",
       "\n",
       "    .dataframe tbody tr th {\n",
       "        vertical-align: top;\n",
       "    }\n",
       "\n",
       "    .dataframe thead th {\n",
       "        text-align: right;\n",
       "    }\n",
       "</style>\n",
       "<table border=\"1\" class=\"dataframe\">\n",
       "  <thead>\n",
       "    <tr style=\"text-align: right;\">\n",
       "      <th></th>\n",
       "      <th>Age</th>\n",
       "      <th>Workclass</th>\n",
       "      <th>Fnlwgt</th>\n",
       "      <th>Education</th>\n",
       "      <th>Education_num</th>\n",
       "      <th>Marital_status</th>\n",
       "      <th>Occupation</th>\n",
       "      <th>Relationship</th>\n",
       "      <th>Race</th>\n",
       "      <th>Sex</th>\n",
       "      <th>Capital_gain</th>\n",
       "      <th>Capital_loss</th>\n",
       "      <th>Hours_per_week</th>\n",
       "      <th>Native_country</th>\n",
       "      <th>Income</th>\n",
       "    </tr>\n",
       "  </thead>\n",
       "  <tbody>\n",
       "    <tr>\n",
       "      <th>0</th>\n",
       "      <td>50</td>\n",
       "      <td>Self-emp-not-inc</td>\n",
       "      <td>83311</td>\n",
       "      <td>Bachelors</td>\n",
       "      <td>13</td>\n",
       "      <td>Married-civ-spouse</td>\n",
       "      <td>Exec-managerial</td>\n",
       "      <td>Husband</td>\n",
       "      <td>White</td>\n",
       "      <td>Male</td>\n",
       "      <td>0</td>\n",
       "      <td>0</td>\n",
       "      <td>13</td>\n",
       "      <td>United-States</td>\n",
       "      <td>&lt;=50K</td>\n",
       "    </tr>\n",
       "    <tr>\n",
       "      <th>1</th>\n",
       "      <td>38</td>\n",
       "      <td>Private</td>\n",
       "      <td>215646</td>\n",
       "      <td>HS-grad</td>\n",
       "      <td>9</td>\n",
       "      <td>Divorced</td>\n",
       "      <td>Handlers-cleaners</td>\n",
       "      <td>Not-in-family</td>\n",
       "      <td>White</td>\n",
       "      <td>Male</td>\n",
       "      <td>0</td>\n",
       "      <td>0</td>\n",
       "      <td>40</td>\n",
       "      <td>United-States</td>\n",
       "      <td>&lt;=50K</td>\n",
       "    </tr>\n",
       "    <tr>\n",
       "      <th>2</th>\n",
       "      <td>53</td>\n",
       "      <td>Private</td>\n",
       "      <td>234721</td>\n",
       "      <td>11th</td>\n",
       "      <td>7</td>\n",
       "      <td>Married-civ-spouse</td>\n",
       "      <td>Handlers-cleaners</td>\n",
       "      <td>Husband</td>\n",
       "      <td>Black</td>\n",
       "      <td>Male</td>\n",
       "      <td>0</td>\n",
       "      <td>0</td>\n",
       "      <td>40</td>\n",
       "      <td>United-States</td>\n",
       "      <td>&lt;=50K</td>\n",
       "    </tr>\n",
       "    <tr>\n",
       "      <th>3</th>\n",
       "      <td>28</td>\n",
       "      <td>Private</td>\n",
       "      <td>338409</td>\n",
       "      <td>Bachelors</td>\n",
       "      <td>13</td>\n",
       "      <td>Married-civ-spouse</td>\n",
       "      <td>Prof-specialty</td>\n",
       "      <td>Wife</td>\n",
       "      <td>Black</td>\n",
       "      <td>Female</td>\n",
       "      <td>0</td>\n",
       "      <td>0</td>\n",
       "      <td>40</td>\n",
       "      <td>Cuba</td>\n",
       "      <td>&lt;=50K</td>\n",
       "    </tr>\n",
       "    <tr>\n",
       "      <th>4</th>\n",
       "      <td>37</td>\n",
       "      <td>Private</td>\n",
       "      <td>284582</td>\n",
       "      <td>Masters</td>\n",
       "      <td>14</td>\n",
       "      <td>Married-civ-spouse</td>\n",
       "      <td>Exec-managerial</td>\n",
       "      <td>Wife</td>\n",
       "      <td>White</td>\n",
       "      <td>Female</td>\n",
       "      <td>0</td>\n",
       "      <td>0</td>\n",
       "      <td>40</td>\n",
       "      <td>United-States</td>\n",
       "      <td>&lt;=50K</td>\n",
       "    </tr>\n",
       "  </tbody>\n",
       "</table>\n",
       "</div>"
      ],
      "text/plain": [
       "   Age          Workclass  Fnlwgt   Education  Education_num  \\\n",
       "0   50   Self-emp-not-inc   83311   Bachelors             13   \n",
       "1   38            Private  215646     HS-grad              9   \n",
       "2   53            Private  234721        11th              7   \n",
       "3   28            Private  338409   Bachelors             13   \n",
       "4   37            Private  284582     Masters             14   \n",
       "\n",
       "        Marital_status          Occupation    Relationship    Race      Sex  \\\n",
       "0   Married-civ-spouse     Exec-managerial         Husband   White     Male   \n",
       "1             Divorced   Handlers-cleaners   Not-in-family   White     Male   \n",
       "2   Married-civ-spouse   Handlers-cleaners         Husband   Black     Male   \n",
       "3   Married-civ-spouse      Prof-specialty            Wife   Black   Female   \n",
       "4   Married-civ-spouse     Exec-managerial            Wife   White   Female   \n",
       "\n",
       "   Capital_gain  Capital_loss  Hours_per_week  Native_country  Income  \n",
       "0             0             0              13   United-States   <=50K  \n",
       "1             0             0              40   United-States   <=50K  \n",
       "2             0             0              40   United-States   <=50K  \n",
       "3             0             0              40            Cuba   <=50K  \n",
       "4             0             0              40   United-States   <=50K  "
      ]
     },
     "execution_count": 4,
     "metadata": {},
     "output_type": "execute_result"
    }
   ],
   "source": [
    "# To display top 5 rows:\n",
    "census.head()"
   ]
  },
  {
   "cell_type": "code",
   "execution_count": 5,
   "id": "697f650a",
   "metadata": {},
   "outputs": [
    {
     "data": {
      "text/plain": [
       "(32560, 15)"
      ]
     },
     "execution_count": 5,
     "metadata": {},
     "output_type": "execute_result"
    }
   ],
   "source": [
    "# To display total number of rows and columns:\n",
    "census.shape"
   ]
  },
  {
   "cell_type": "markdown",
   "id": "4c3462ba",
   "metadata": {},
   "source": [
    "**There are 32560 rows and 15 columns.**"
   ]
  },
  {
   "cell_type": "code",
   "execution_count": 6,
   "id": "e0fccaf2",
   "metadata": {},
   "outputs": [
    {
     "data": {
      "text/plain": [
       "Index(['Age', 'Workclass', 'Fnlwgt', 'Education', 'Education_num',\n",
       "       'Marital_status', 'Occupation', 'Relationship', 'Race', 'Sex',\n",
       "       'Capital_gain', 'Capital_loss', 'Hours_per_week', 'Native_country',\n",
       "       'Income'],\n",
       "      dtype='object')"
      ]
     },
     "execution_count": 6,
     "metadata": {},
     "output_type": "execute_result"
    }
   ],
   "source": [
    "# To display all the columns:\n",
    "census.columns"
   ]
  },
  {
   "cell_type": "code",
   "execution_count": 7,
   "id": "91199f21",
   "metadata": {},
   "outputs": [
    {
     "data": {
      "text/plain": [
       "Age                int64\n",
       "Workclass         object\n",
       "Fnlwgt             int64\n",
       "Education         object\n",
       "Education_num      int64\n",
       "Marital_status    object\n",
       "Occupation        object\n",
       "Relationship      object\n",
       "Race              object\n",
       "Sex               object\n",
       "Capital_gain       int64\n",
       "Capital_loss       int64\n",
       "Hours_per_week     int64\n",
       "Native_country    object\n",
       "Income            object\n",
       "dtype: object"
      ]
     },
     "execution_count": 7,
     "metadata": {},
     "output_type": "execute_result"
    }
   ],
   "source": [
    "# Checking datatypes all the columns present:\n",
    "census.dtypes"
   ]
  },
  {
   "cell_type": "markdown",
   "id": "1c38422c",
   "metadata": {},
   "source": [
    "**There are int and object datatypes are present in this given dataset.**"
   ]
  },
  {
   "cell_type": "code",
   "execution_count": 8,
   "id": "b083c7b8",
   "metadata": {},
   "outputs": [
    {
     "data": {
      "text/plain": [
       "Age               0\n",
       "Workclass         0\n",
       "Fnlwgt            0\n",
       "Education         0\n",
       "Education_num     0\n",
       "Marital_status    0\n",
       "Occupation        0\n",
       "Relationship      0\n",
       "Race              0\n",
       "Sex               0\n",
       "Capital_gain      0\n",
       "Capital_loss      0\n",
       "Hours_per_week    0\n",
       "Native_country    0\n",
       "Income            0\n",
       "dtype: int64"
      ]
     },
     "execution_count": 8,
     "metadata": {},
     "output_type": "execute_result"
    }
   ],
   "source": [
    "# Finding the null values:\n",
    "census.isnull().sum()"
   ]
  },
  {
   "cell_type": "markdown",
   "id": "8101389a",
   "metadata": {},
   "source": [
    "**Great , There are no null values . We can go ahead.**"
   ]
  },
  {
   "cell_type": "code",
   "execution_count": 9,
   "id": "45c722e4",
   "metadata": {},
   "outputs": [
    {
     "name": "stdout",
     "output_type": "stream",
     "text": [
      "<class 'pandas.core.frame.DataFrame'>\n",
      "RangeIndex: 32560 entries, 0 to 32559\n",
      "Data columns (total 15 columns):\n",
      " #   Column          Non-Null Count  Dtype \n",
      "---  ------          --------------  ----- \n",
      " 0   Age             32560 non-null  int64 \n",
      " 1   Workclass       32560 non-null  object\n",
      " 2   Fnlwgt          32560 non-null  int64 \n",
      " 3   Education       32560 non-null  object\n",
      " 4   Education_num   32560 non-null  int64 \n",
      " 5   Marital_status  32560 non-null  object\n",
      " 6   Occupation      32560 non-null  object\n",
      " 7   Relationship    32560 non-null  object\n",
      " 8   Race            32560 non-null  object\n",
      " 9   Sex             32560 non-null  object\n",
      " 10  Capital_gain    32560 non-null  int64 \n",
      " 11  Capital_loss    32560 non-null  int64 \n",
      " 12  Hours_per_week  32560 non-null  int64 \n",
      " 13  Native_country  32560 non-null  object\n",
      " 14  Income          32560 non-null  object\n",
      "dtypes: int64(6), object(9)\n",
      "memory usage: 3.7+ MB\n"
     ]
    }
   ],
   "source": [
    "# To display brief information of data:\n",
    "census.info()"
   ]
  },
  {
   "cell_type": "markdown",
   "id": "eede3057",
   "metadata": {},
   "source": [
    "**As we have to predict the Target Variable . So let's start working on target variable.**"
   ]
  },
  {
   "cell_type": "code",
   "execution_count": 10,
   "id": "dd72a0c1",
   "metadata": {},
   "outputs": [
    {
     "data": {
      "text/plain": [
       "array([' <=50K', ' >50K'], dtype=object)"
      ]
     },
     "execution_count": 10,
     "metadata": {},
     "output_type": "execute_result"
    }
   ],
   "source": [
    "# Checking unique values in the target variable:\n",
    "census['Income'].unique()"
   ]
  },
  {
   "cell_type": "markdown",
   "id": "87a3c583",
   "metadata": {},
   "source": [
    "**There are only two values in the target variable.**"
   ]
  },
  {
   "cell_type": "code",
   "execution_count": 11,
   "id": "373f6980",
   "metadata": {},
   "outputs": [
    {
     "data": {
      "text/plain": [
       " <=50K    24719\n",
       " >50K      7841\n",
       "Name: Income, dtype: int64"
      ]
     },
     "execution_count": 11,
     "metadata": {},
     "output_type": "execute_result"
    }
   ],
   "source": [
    "# To display value counts in the target variable:\n",
    "census['Income'].value_counts()"
   ]
  },
  {
   "cell_type": "code",
   "execution_count": 12,
   "id": "aee9e88d",
   "metadata": {},
   "outputs": [
    {
     "data": {
      "text/plain": [
       "Age                  0\n",
       "Workclass         1836\n",
       "Fnlwgt               0\n",
       "Education            0\n",
       "Education_num        0\n",
       "Marital_status       0\n",
       "Occupation        1843\n",
       "Relationship         0\n",
       "Race                 0\n",
       "Sex                  0\n",
       "Capital_gain         0\n",
       "Capital_loss         0\n",
       "Hours_per_week       0\n",
       "Native_country     583\n",
       "Income               0\n",
       "dtype: int64"
      ]
     },
     "execution_count": 12,
     "metadata": {},
     "output_type": "execute_result"
    }
   ],
   "source": [
    "(census==' ?').sum()"
   ]
  },
  {
   "cell_type": "code",
   "execution_count": 13,
   "id": "f93ca461",
   "metadata": {},
   "outputs": [],
   "source": [
    "census.replace({' ?': np.nan}, inplace=True)"
   ]
  },
  {
   "cell_type": "code",
   "execution_count": 14,
   "id": "ed9a0508",
   "metadata": {},
   "outputs": [
    {
     "data": {
      "text/plain": [
       "Age                  0\n",
       "Workclass         1836\n",
       "Fnlwgt               0\n",
       "Education            0\n",
       "Education_num        0\n",
       "Marital_status       0\n",
       "Occupation        1843\n",
       "Relationship         0\n",
       "Race                 0\n",
       "Sex                  0\n",
       "Capital_gain         0\n",
       "Capital_loss         0\n",
       "Hours_per_week       0\n",
       "Native_country     583\n",
       "Income               0\n",
       "dtype: int64"
      ]
     },
     "execution_count": 14,
     "metadata": {},
     "output_type": "execute_result"
    }
   ],
   "source": [
    "# let's again check for null values:\n",
    "census.isnull().sum()"
   ]
  },
  {
   "cell_type": "markdown",
   "id": "685cc0cd",
   "metadata": {},
   "source": [
    "**There are some columns where null values are present . We will treat these null values.**"
   ]
  },
  {
   "cell_type": "code",
   "execution_count": 15,
   "id": "0c45a0c4",
   "metadata": {},
   "outputs": [
    {
     "data": {
      "text/html": [
       "<div>\n",
       "<style scoped>\n",
       "    .dataframe tbody tr th:only-of-type {\n",
       "        vertical-align: middle;\n",
       "    }\n",
       "\n",
       "    .dataframe tbody tr th {\n",
       "        vertical-align: top;\n",
       "    }\n",
       "\n",
       "    .dataframe thead th {\n",
       "        text-align: right;\n",
       "    }\n",
       "</style>\n",
       "<table border=\"1\" class=\"dataframe\">\n",
       "  <thead>\n",
       "    <tr style=\"text-align: right;\">\n",
       "      <th></th>\n",
       "      <th>Age</th>\n",
       "      <th>Fnlwgt</th>\n",
       "      <th>Education_num</th>\n",
       "      <th>Capital_gain</th>\n",
       "      <th>Capital_loss</th>\n",
       "      <th>Hours_per_week</th>\n",
       "    </tr>\n",
       "  </thead>\n",
       "  <tbody>\n",
       "    <tr>\n",
       "      <th>count</th>\n",
       "      <td>32560.000000</td>\n",
       "      <td>3.256000e+04</td>\n",
       "      <td>32560.000000</td>\n",
       "      <td>32560.000000</td>\n",
       "      <td>32560.000000</td>\n",
       "      <td>32560.000000</td>\n",
       "    </tr>\n",
       "    <tr>\n",
       "      <th>mean</th>\n",
       "      <td>38.581634</td>\n",
       "      <td>1.897818e+05</td>\n",
       "      <td>10.080590</td>\n",
       "      <td>1077.615172</td>\n",
       "      <td>87.306511</td>\n",
       "      <td>40.437469</td>\n",
       "    </tr>\n",
       "    <tr>\n",
       "      <th>std</th>\n",
       "      <td>13.640642</td>\n",
       "      <td>1.055498e+05</td>\n",
       "      <td>2.572709</td>\n",
       "      <td>7385.402999</td>\n",
       "      <td>402.966116</td>\n",
       "      <td>12.347618</td>\n",
       "    </tr>\n",
       "    <tr>\n",
       "      <th>min</th>\n",
       "      <td>17.000000</td>\n",
       "      <td>1.228500e+04</td>\n",
       "      <td>1.000000</td>\n",
       "      <td>0.000000</td>\n",
       "      <td>0.000000</td>\n",
       "      <td>1.000000</td>\n",
       "    </tr>\n",
       "    <tr>\n",
       "      <th>25%</th>\n",
       "      <td>28.000000</td>\n",
       "      <td>1.178315e+05</td>\n",
       "      <td>9.000000</td>\n",
       "      <td>0.000000</td>\n",
       "      <td>0.000000</td>\n",
       "      <td>40.000000</td>\n",
       "    </tr>\n",
       "    <tr>\n",
       "      <th>50%</th>\n",
       "      <td>37.000000</td>\n",
       "      <td>1.783630e+05</td>\n",
       "      <td>10.000000</td>\n",
       "      <td>0.000000</td>\n",
       "      <td>0.000000</td>\n",
       "      <td>40.000000</td>\n",
       "    </tr>\n",
       "    <tr>\n",
       "      <th>75%</th>\n",
       "      <td>48.000000</td>\n",
       "      <td>2.370545e+05</td>\n",
       "      <td>12.000000</td>\n",
       "      <td>0.000000</td>\n",
       "      <td>0.000000</td>\n",
       "      <td>45.000000</td>\n",
       "    </tr>\n",
       "    <tr>\n",
       "      <th>max</th>\n",
       "      <td>90.000000</td>\n",
       "      <td>1.484705e+06</td>\n",
       "      <td>16.000000</td>\n",
       "      <td>99999.000000</td>\n",
       "      <td>4356.000000</td>\n",
       "      <td>99.000000</td>\n",
       "    </tr>\n",
       "  </tbody>\n",
       "</table>\n",
       "</div>"
      ],
      "text/plain": [
       "                Age        Fnlwgt  Education_num  Capital_gain  Capital_loss  \\\n",
       "count  32560.000000  3.256000e+04   32560.000000  32560.000000  32560.000000   \n",
       "mean      38.581634  1.897818e+05      10.080590   1077.615172     87.306511   \n",
       "std       13.640642  1.055498e+05       2.572709   7385.402999    402.966116   \n",
       "min       17.000000  1.228500e+04       1.000000      0.000000      0.000000   \n",
       "25%       28.000000  1.178315e+05       9.000000      0.000000      0.000000   \n",
       "50%       37.000000  1.783630e+05      10.000000      0.000000      0.000000   \n",
       "75%       48.000000  2.370545e+05      12.000000      0.000000      0.000000   \n",
       "max       90.000000  1.484705e+06      16.000000  99999.000000   4356.000000   \n",
       "\n",
       "       Hours_per_week  \n",
       "count    32560.000000  \n",
       "mean        40.437469  \n",
       "std         12.347618  \n",
       "min          1.000000  \n",
       "25%         40.000000  \n",
       "50%         40.000000  \n",
       "75%         45.000000  \n",
       "max         99.000000  "
      ]
     },
     "execution_count": 15,
     "metadata": {},
     "output_type": "execute_result"
    }
   ],
   "source": [
    "# To get the descriptive statistics of data:\n",
    "census.describe()"
   ]
  },
  {
   "cell_type": "markdown",
   "id": "0bdb4aee",
   "metadata": {},
   "source": [
    "# Data Cleaning:"
   ]
  },
  {
   "cell_type": "code",
   "execution_count": 16,
   "id": "215e39e7",
   "metadata": {},
   "outputs": [
    {
     "data": {
      "text/plain": [
       "array([' Self-emp-not-inc', ' Private', ' State-gov', ' Federal-gov',\n",
       "       ' Local-gov', nan, ' Self-emp-inc', ' Without-pay',\n",
       "       ' Never-worked'], dtype=object)"
      ]
     },
     "execution_count": 16,
     "metadata": {},
     "output_type": "execute_result"
    }
   ],
   "source": [
    "#checking all values of column 'Workclass'\n",
    "census[\"Workclass\"].unique() "
   ]
  },
  {
   "cell_type": "code",
   "execution_count": 17,
   "id": "8d9aa6ec",
   "metadata": {},
   "outputs": [
    {
     "name": "stdout",
     "output_type": "stream",
     "text": [
      "0     Private\n",
      "Name: Workclass, dtype: object\n"
     ]
    }
   ],
   "source": [
    "#checking repeated values in \"Workclass\" column through mode so that we can fill null values with the mode :\n",
    "print(census[\"Workclass\"].mode())"
   ]
  },
  {
   "cell_type": "code",
   "execution_count": 18,
   "id": "9c9806db",
   "metadata": {},
   "outputs": [],
   "source": [
    "#Filling Null Values of \"Workclass\" column in dataset by mode value with repeated value that is 'Private'\n",
    "census[\"Workclass\"].fillna(census[\"Workclass\"].mode()[0], inplace=True)"
   ]
  },
  {
   "cell_type": "code",
   "execution_count": 19,
   "id": "eba1265e",
   "metadata": {},
   "outputs": [
    {
     "data": {
      "text/plain": [
       "array([' Exec-managerial', ' Handlers-cleaners', ' Prof-specialty',\n",
       "       ' Other-service', ' Adm-clerical', ' Sales', ' Craft-repair',\n",
       "       ' Transport-moving', ' Farming-fishing', ' Machine-op-inspct',\n",
       "       ' Tech-support', nan, ' Protective-serv', ' Armed-Forces',\n",
       "       ' Priv-house-serv'], dtype=object)"
      ]
     },
     "execution_count": 19,
     "metadata": {},
     "output_type": "execute_result"
    }
   ],
   "source": [
    "#checking all values of column 'Occupation'\n",
    "census[\"Occupation\"].unique() "
   ]
  },
  {
   "cell_type": "code",
   "execution_count": 20,
   "id": "de5694f1",
   "metadata": {},
   "outputs": [
    {
     "name": "stdout",
     "output_type": "stream",
     "text": [
      "0     Prof-specialty\n",
      "Name: Occupation, dtype: object\n"
     ]
    }
   ],
   "source": [
    "#checking repeated values in \"Occupation\" column through mode\n",
    "print(census[\"Occupation\"].mode())"
   ]
  },
  {
   "cell_type": "code",
   "execution_count": 21,
   "id": "310a6ac2",
   "metadata": {},
   "outputs": [],
   "source": [
    "#Filling Null Values of \"Occupation\" column in dataset by mode value with repeated value that is 'Prof-specialty'\n",
    "census[\"Occupation\"].fillna(census[\"Occupation\"].mode()[0], inplace=True)"
   ]
  },
  {
   "cell_type": "code",
   "execution_count": 22,
   "id": "bfd84576",
   "metadata": {},
   "outputs": [
    {
     "data": {
      "text/plain": [
       "array([' United-States', ' Cuba', ' Jamaica', ' India', nan, ' Mexico',\n",
       "       ' South', ' Puerto-Rico', ' Honduras', ' England', ' Canada',\n",
       "       ' Germany', ' Iran', ' Philippines', ' Italy', ' Poland',\n",
       "       ' Columbia', ' Cambodia', ' Thailand', ' Ecuador', ' Laos',\n",
       "       ' Taiwan', ' Haiti', ' Portugal', ' Dominican-Republic',\n",
       "       ' El-Salvador', ' France', ' Guatemala', ' China', ' Japan',\n",
       "       ' Yugoslavia', ' Peru', ' Outlying-US(Guam-USVI-etc)', ' Scotland',\n",
       "       ' Trinadad&Tobago', ' Greece', ' Nicaragua', ' Vietnam', ' Hong',\n",
       "       ' Ireland', ' Hungary', ' Holand-Netherlands'], dtype=object)"
      ]
     },
     "execution_count": 22,
     "metadata": {},
     "output_type": "execute_result"
    }
   ],
   "source": [
    "#checking all values of column 'Native_country'\n",
    "census[\"Native_country\"].unique() "
   ]
  },
  {
   "cell_type": "code",
   "execution_count": 23,
   "id": "9a65994a",
   "metadata": {},
   "outputs": [
    {
     "name": "stdout",
     "output_type": "stream",
     "text": [
      "0     United-States\n",
      "Name: Native_country, dtype: object\n"
     ]
    }
   ],
   "source": [
    "#checking repeated values in \"Native_country\" column through mode\n",
    "print(census[\"Native_country\"].mode())"
   ]
  },
  {
   "cell_type": "code",
   "execution_count": 24,
   "id": "5184b859",
   "metadata": {},
   "outputs": [],
   "source": [
    "#Filling Null Values of \"Native_country\" column in dataset by mode value with repeated value that is 'United-States'\n",
    "census[\"Native_country\"].fillna(census[\"Native_country\"].mode()[0], inplace=True)"
   ]
  },
  {
   "cell_type": "code",
   "execution_count": 25,
   "id": "4462aac1",
   "metadata": {},
   "outputs": [],
   "source": [
    "#Filling Null Values of \"Capital_gain\" column in dataset by mean value\n",
    "census[\"Capital_gain\"].fillna(census[\"Capital_gain\"].mean(), inplace=True)"
   ]
  },
  {
   "cell_type": "code",
   "execution_count": 26,
   "id": "be3b759a",
   "metadata": {},
   "outputs": [],
   "source": [
    "#Filling Null Values of \"Capital_loss\" column in dataset by mean value\n",
    "census[\"Capital_loss\"].fillna(census[\"Capital_loss\"].mean(), inplace=True)"
   ]
  },
  {
   "cell_type": "code",
   "execution_count": 27,
   "id": "6e7136ef",
   "metadata": {},
   "outputs": [
    {
     "data": {
      "text/plain": [
       "Age               0\n",
       "Workclass         0\n",
       "Fnlwgt            0\n",
       "Education         0\n",
       "Education_num     0\n",
       "Marital_status    0\n",
       "Occupation        0\n",
       "Relationship      0\n",
       "Race              0\n",
       "Sex               0\n",
       "Capital_gain      0\n",
       "Capital_loss      0\n",
       "Hours_per_week    0\n",
       "Native_country    0\n",
       "Income            0\n",
       "dtype: int64"
      ]
     },
     "execution_count": 27,
     "metadata": {},
     "output_type": "execute_result"
    }
   ],
   "source": [
    "# To verify , if the null values are filled or not:\n",
    "census.isnull().sum()"
   ]
  },
  {
   "cell_type": "markdown",
   "id": "c66c79cd",
   "metadata": {},
   "source": [
    "# Data Visualization:"
   ]
  },
  {
   "cell_type": "code",
   "execution_count": 28,
   "id": "758c146e",
   "metadata": {},
   "outputs": [],
   "source": [
    "# Univariate Analysis:"
   ]
  },
  {
   "cell_type": "code",
   "execution_count": 29,
   "id": "ebe5e024",
   "metadata": {},
   "outputs": [
    {
     "name": "stdout",
     "output_type": "stream",
     "text": [
      " Private             24532\n",
      " Self-emp-not-inc     2541\n",
      " Local-gov            2093\n",
      " State-gov            1297\n",
      " Self-emp-inc         1116\n",
      " Federal-gov           960\n",
      " Without-pay            14\n",
      " Never-worked            7\n",
      "Name: Workclass, dtype: int64\n"
     ]
    },
    {
     "data": {
      "text/plain": [
       "<AxesSubplot:xlabel='Workclass', ylabel='count'>"
      ]
     },
     "execution_count": 29,
     "metadata": {},
     "output_type": "execute_result"
    },
    {
     "data": {
      "image/png": "[encoded data removed]",
      "text/plain": [
       "<Figure size 1440x504 with 1 Axes>"
      ]
     },
     "metadata": {
      "needs_background": "light"
     },
     "output_type": "display_data"
    }
   ],
   "source": [
    "#Count Plot for \"Workclass\" column\n",
    "print(census[\"Workclass\"].value_counts())\n",
    "\n",
    "plt.figure(figsize=(20,7))\n",
    "sns.countplot(\"Workclass\",data=census)"
   ]
  },
  {
   "cell_type": "code",
   "execution_count": 30,
   "id": "df995efc",
   "metadata": {},
   "outputs": [
    {
     "name": "stdout",
     "output_type": "stream",
     "text": [
      " HS-grad         10501\n",
      " Some-college     7291\n",
      " Bachelors        5354\n",
      " Masters          1723\n",
      " Assoc-voc        1382\n",
      " 11th             1175\n",
      " Assoc-acdm       1067\n",
      " 10th              933\n",
      " 7th-8th           646\n",
      " Prof-school       576\n",
      " 9th               514\n",
      " 12th              433\n",
      " Doctorate         413\n",
      " 5th-6th           333\n",
      " 1st-4th           168\n",
      " Preschool          51\n",
      "Name: Education, dtype: int64\n"
     ]
    },
    {
     "data": {
      "text/plain": [
       "<AxesSubplot:xlabel='Education', ylabel='count'>"
      ]
     },
     "execution_count": 30,
     "metadata": {},
     "output_type": "execute_result"
    },
    {
     "data": {
      "image/png": "[encoded data removed]",
      "text/plain": [
       "<Figure size 1440x504 with 1 Axes>"
      ]
     },
     "metadata": {
      "needs_background": "light"
     },
     "output_type": "display_data"
    }
   ],
   "source": [
    "#Count Plot for \"Education\" column\n",
    "print(census[\"Education\"].value_counts())\n",
    "\n",
    "plt.figure(figsize=(20,7))\n",
    "sns.countplot(\"Education\",data=census)\n"
   ]
  },
  {
   "cell_type": "code",
   "execution_count": 31,
   "id": "583f2335",
   "metadata": {},
   "outputs": [
    {
     "name": "stdout",
     "output_type": "stream",
     "text": [
      " Married-civ-spouse       14976\n",
      " Never-married            10682\n",
      " Divorced                  4443\n",
      " Separated                 1025\n",
      " Widowed                    993\n",
      " Married-spouse-absent      418\n",
      " Married-AF-spouse           23\n",
      "Name: Marital_status, dtype: int64\n"
     ]
    },
    {
     "data": {
      "text/plain": [
       "<AxesSubplot:xlabel='Marital_status', ylabel='count'>"
      ]
     },
     "execution_count": 31,
     "metadata": {},
     "output_type": "execute_result"
    },
    {
     "data": {
      "image/png": "[encoded data removed]",
      "text/plain": [
       "<Figure size 1080x360 with 1 Axes>"
      ]
     },
     "metadata": {
      "needs_background": "light"
     },
     "output_type": "display_data"
    }
   ],
   "source": [
    "#Count Plot for \"Marital_status\" column\n",
    "print(census[\"Marital_status\"].value_counts())\n",
    "\n",
    "plt.figure(figsize=(15,5))\n",
    "sns.countplot(\"Marital_status\",data=census)"
   ]
  },
  {
   "cell_type": "code",
   "execution_count": 32,
   "id": "057bc230",
   "metadata": {},
   "outputs": [
    {
     "name": "stdout",
     "output_type": "stream",
     "text": [
      " Prof-specialty       5983\n",
      " Craft-repair         4099\n",
      " Exec-managerial      4066\n",
      " Adm-clerical         3769\n",
      " Sales                3650\n",
      " Other-service        3295\n",
      " Machine-op-inspct    2002\n",
      " Transport-moving     1597\n",
      " Handlers-cleaners    1370\n",
      " Farming-fishing       994\n",
      " Tech-support          928\n",
      " Protective-serv       649\n",
      " Priv-house-serv       149\n",
      " Armed-Forces            9\n",
      "Name: Occupation, dtype: int64\n"
     ]
    },
    {
     "data": {
      "text/plain": [
       "<AxesSubplot:xlabel='Occupation', ylabel='count'>"
      ]
     },
     "execution_count": 32,
     "metadata": {},
     "output_type": "execute_result"
    },
    {
     "data": {
      "image/png": "[encoded data removed]",
      "text/plain": [
       "<Figure size 1800x504 with 1 Axes>"
      ]
     },
     "metadata": {
      "needs_background": "light"
     },
     "output_type": "display_data"
    }
   ],
   "source": [
    "#Count Plot for \"Occupation\" column\n",
    "print(census[\"Occupation\"].value_counts())\n",
    "plt.figure(figsize=(25,7))\n",
    "sns.countplot(\"Occupation\",data=census)"
   ]
  },
  {
   "cell_type": "code",
   "execution_count": 33,
   "id": "54025efd",
   "metadata": {},
   "outputs": [
    {
     "name": "stdout",
     "output_type": "stream",
     "text": [
      " Husband           13193\n",
      " Not-in-family      8304\n",
      " Own-child          5068\n",
      " Unmarried          3446\n",
      " Wife               1568\n",
      " Other-relative      981\n",
      "Name: Relationship, dtype: int64\n"
     ]
    },
    {
     "data": {
      "text/plain": [
       "<AxesSubplot:xlabel='Relationship', ylabel='count'>"
      ]
     },
     "execution_count": 33,
     "metadata": {},
     "output_type": "execute_result"
    },
    {
     "data": {
      "image/png": "[encoded data removed]",
      "text/plain": [
       "<Figure size 1080x360 with 1 Axes>"
      ]
     },
     "metadata": {
      "needs_background": "light"
     },
     "output_type": "display_data"
    }
   ],
   "source": [
    "#Count Plot for \"Relationship\" column\n",
    "print(census[\"Relationship\"].value_counts())\n",
    "\n",
    "plt.figure(figsize=(15,5))\n",
    "sns.countplot(\"Relationship\",data=census)"
   ]
  },
  {
   "cell_type": "code",
   "execution_count": 34,
   "id": "8f87c6ac",
   "metadata": {},
   "outputs": [
    {
     "name": "stdout",
     "output_type": "stream",
     "text": [
      " White                 27815\n",
      " Black                  3124\n",
      " Asian-Pac-Islander     1039\n",
      " Amer-Indian-Eskimo      311\n",
      " Other                   271\n",
      "Name: Race, dtype: int64\n"
     ]
    },
    {
     "data": {
      "text/plain": [
       "<AxesSubplot:xlabel='Race', ylabel='count'>"
      ]
     },
     "execution_count": 34,
     "metadata": {},
     "output_type": "execute_result"
    },
    {
     "data": {
      "image/png": "[encoded data removed]",
      "text/plain": [
       "<Figure size 1080x360 with 1 Axes>"
      ]
     },
     "metadata": {
      "needs_background": "light"
     },
     "output_type": "display_data"
    }
   ],
   "source": [
    "#Count Plot for \"Race\" column\n",
    "print(census[\"Race\"].value_counts())\n",
    "\n",
    "plt.figure(figsize=(15,5))\n",
    "sns.countplot(\"Race\",data=census)"
   ]
  },
  {
   "cell_type": "code",
   "execution_count": 35,
   "id": "db953e51",
   "metadata": {},
   "outputs": [
    {
     "name": "stdout",
     "output_type": "stream",
     "text": [
      " Male      21789\n",
      " Female    10771\n",
      "Name: Sex, dtype: int64\n"
     ]
    },
    {
     "data": {
      "text/plain": [
       "<AxesSubplot:xlabel='Sex', ylabel='count'>"
      ]
     },
     "execution_count": 35,
     "metadata": {},
     "output_type": "execute_result"
    },
    {
     "data": {
      "image/png": "[encoded data removed]",
      "text/plain": [
       "<Figure size 432x288 with 1 Axes>"
      ]
     },
     "metadata": {
      "needs_background": "light"
     },
     "output_type": "display_data"
    }
   ],
   "source": [
    "#Count Plot for \"Sex\" column\n",
    "print(census[\"Sex\"].value_counts())\n",
    "\n",
    "sns.countplot(\"Sex\",data=census)"
   ]
  },
  {
   "cell_type": "code",
   "execution_count": 36,
   "id": "f535037e",
   "metadata": {},
   "outputs": [
    {
     "name": "stdout",
     "output_type": "stream",
     "text": [
      " United-States                 29752\n",
      " Mexico                          643\n",
      " Philippines                     198\n",
      " Germany                         137\n",
      " Canada                          121\n",
      " Puerto-Rico                     114\n",
      " El-Salvador                     106\n",
      " India                           100\n",
      " Cuba                             95\n",
      " England                          90\n",
      " Jamaica                          81\n",
      " South                            80\n",
      " China                            75\n",
      " Italy                            73\n",
      " Dominican-Republic               70\n",
      " Vietnam                          67\n",
      " Guatemala                        64\n",
      " Japan                            62\n",
      " Poland                           60\n",
      " Columbia                         59\n",
      " Taiwan                           51\n",
      " Haiti                            44\n",
      " Iran                             43\n",
      " Portugal                         37\n",
      " Nicaragua                        34\n",
      " Peru                             31\n",
      " France                           29\n",
      " Greece                           29\n",
      " Ecuador                          28\n",
      " Ireland                          24\n",
      " Hong                             20\n",
      " Cambodia                         19\n",
      " Trinadad&Tobago                  19\n",
      " Laos                             18\n",
      " Thailand                         18\n",
      " Yugoslavia                       16\n",
      " Outlying-US(Guam-USVI-etc)       14\n",
      " Honduras                         13\n",
      " Hungary                          13\n",
      " Scotland                         12\n",
      " Holand-Netherlands                1\n",
      "Name: Native_country, dtype: int64\n"
     ]
    },
    {
     "data": {
      "text/plain": [
       "<AxesSubplot:xlabel='Native_country', ylabel='count'>"
      ]
     },
     "execution_count": 36,
     "metadata": {},
     "output_type": "execute_result"
    },
    {
     "data": {
      "image/png": "[encoded data removed]",
      "text/plain": [
       "<Figure size 1800x1440 with 1 Axes>"
      ]
     },
     "metadata": {
      "needs_background": "light"
     },
     "output_type": "display_data"
    }
   ],
   "source": [
    "#Count Plot for \"Native_country\" column\n",
    "print(census[\"Native_country\"].value_counts())\n",
    "plt.figure(figsize=(25,20))\n",
    "plt.xticks(rotation=90)\n",
    "sns.countplot(x=\"Native_country\",data=census)"
   ]
  },
  {
   "cell_type": "code",
   "execution_count": 37,
   "id": "4222a0e7",
   "metadata": {},
   "outputs": [
    {
     "name": "stdout",
     "output_type": "stream",
     "text": [
      " <=50K    24719\n",
      " >50K      7841\n",
      "Name: Income, dtype: int64\n"
     ]
    },
    {
     "data": {
      "text/plain": [
       "<AxesSubplot:xlabel='Income', ylabel='count'>"
      ]
     },
     "execution_count": 37,
     "metadata": {},
     "output_type": "execute_result"
    },
    {
     "data": {
      "image/png": "[encoded data removed]",
      "text/plain": [
       "<Figure size 432x288 with 1 Axes>"
      ]
     },
     "metadata": {
      "needs_background": "light"
     },
     "output_type": "display_data"
    }
   ],
   "source": [
    "#Count Plot for \"Income\" column\n",
    "print(census[\"Income\"].value_counts())\n",
    "\n",
    "sns.countplot(\"Income\",data=census)"
   ]
  },
  {
   "cell_type": "code",
   "execution_count": 38,
   "id": "92a636f9",
   "metadata": {},
   "outputs": [],
   "source": [
    "# Visualizing Continuous columns using \"HistPlot\""
   ]
  },
  {
   "cell_type": "code",
   "execution_count": 39,
   "id": "bae5ca05",
   "metadata": {},
   "outputs": [
    {
     "name": "stdout",
     "output_type": "stream",
     "text": [
      "36    898\n",
      "31    888\n",
      "34    886\n",
      "23    877\n",
      "35    876\n",
      "     ... \n",
      "83      6\n",
      "88      3\n",
      "85      3\n",
      "86      1\n",
      "87      1\n",
      "Name: Age, Length: 73, dtype: int64\n"
     ]
    },
    {
     "data": {
      "text/plain": [
       "<AxesSubplot:xlabel='Age', ylabel='Count'>"
      ]
     },
     "execution_count": 39,
     "metadata": {},
     "output_type": "execute_result"
    },
    {
     "data": {
      "image/png": "[encoded data removed]",
      "text/plain": [
       "<Figure size 1080x360 with 1 Axes>"
      ]
     },
     "metadata": {
      "needs_background": "light"
     },
     "output_type": "display_data"
    }
   ],
   "source": [
    "#Histplot for \"Age\" column\n",
    "print(census[\"Age\"].value_counts())\n",
    "plt.figure(figsize=(15,5))\n",
    "sns.histplot(x='Age',data=census,bins=10)"
   ]
  },
  {
   "cell_type": "code",
   "execution_count": 40,
   "id": "0610205e",
   "metadata": {},
   "outputs": [
    {
     "name": "stdout",
     "output_type": "stream",
     "text": [
      "164190    13\n",
      "203488    13\n",
      "123011    13\n",
      "148995    12\n",
      "126675    12\n",
      "          ..\n",
      "325573     1\n",
      "140176     1\n",
      "318264     1\n",
      "329205     1\n",
      "257302     1\n",
      "Name: Fnlwgt, Length: 21647, dtype: int64\n"
     ]
    },
    {
     "data": {
      "text/plain": [
       "<AxesSubplot:xlabel='Fnlwgt', ylabel='Count'>"
      ]
     },
     "execution_count": 40,
     "metadata": {},
     "output_type": "execute_result"
    },
    {
     "data": {
      "image/png": "[encoded data removed]",
      "text/plain": [
       "<Figure size 1080x360 with 1 Axes>"
      ]
     },
     "metadata": {
      "needs_background": "light"
     },
     "output_type": "display_data"
    }
   ],
   "source": [
    "#Histplot for \"Fnlwgt\" column\n",
    "print(census[\"Fnlwgt\"].value_counts())\n",
    "plt.figure(figsize=(15,5))\n",
    "sns.histplot(x='Fnlwgt',data=census,bins=10)"
   ]
  },
  {
   "cell_type": "code",
   "execution_count": 41,
   "id": "e10d4e28",
   "metadata": {},
   "outputs": [
    {
     "name": "stdout",
     "output_type": "stream",
     "text": [
      "9     10501\n",
      "10     7291\n",
      "13     5354\n",
      "14     1723\n",
      "11     1382\n",
      "7      1175\n",
      "12     1067\n",
      "6       933\n",
      "4       646\n",
      "15      576\n",
      "5       514\n",
      "8       433\n",
      "16      413\n",
      "3       333\n",
      "2       168\n",
      "1        51\n",
      "Name: Education_num, dtype: int64\n"
     ]
    },
    {
     "data": {
      "text/plain": [
       "<AxesSubplot:xlabel='Education_num', ylabel='Count'>"
      ]
     },
     "execution_count": 41,
     "metadata": {},
     "output_type": "execute_result"
    },
    {
     "data": {
      "image/png": "[encoded data removed]",
      "text/plain": [
       "<Figure size 1080x360 with 1 Axes>"
      ]
     },
     "metadata": {
      "needs_background": "light"
     },
     "output_type": "display_data"
    }
   ],
   "source": [
    "#Histplot for \"Education_num\" column\n",
    "print(census[\"Education_num\"].value_counts())\n",
    "plt.figure(figsize=(15,5))\n",
    "sns.histplot(x='Education_num',data=census,bins=10)"
   ]
  },
  {
   "cell_type": "code",
   "execution_count": 42,
   "id": "fdf14c82",
   "metadata": {},
   "outputs": [
    {
     "name": "stdout",
     "output_type": "stream",
     "text": [
      "0        29849\n",
      "15024      347\n",
      "7688       284\n",
      "7298       246\n",
      "99999      159\n",
      "         ...  \n",
      "1111         1\n",
      "2538         1\n",
      "22040        1\n",
      "4931         1\n",
      "5060         1\n",
      "Name: Capital_gain, Length: 119, dtype: int64\n"
     ]
    },
    {
     "data": {
      "text/plain": [
       "<AxesSubplot:xlabel='Capital_gain', ylabel='Count'>"
      ]
     },
     "execution_count": 42,
     "metadata": {},
     "output_type": "execute_result"
    },
    {
     "data": {
      "image/png": "[encoded data removed]",
      "text/plain": [
       "<Figure size 1080x360 with 1 Axes>"
      ]
     },
     "metadata": {
      "needs_background": "light"
     },
     "output_type": "display_data"
    }
   ],
   "source": [
    "#Histplot for \"Capital_gain\" column\n",
    "print(census[\"Capital_gain\"].value_counts())\n",
    "plt.figure(figsize=(15,5))\n",
    "sns.histplot(x='Capital_gain',data=census,bins=10)"
   ]
  },
  {
   "cell_type": "code",
   "execution_count": 43,
   "id": "aba14186",
   "metadata": {},
   "outputs": [
    {
     "name": "stdout",
     "output_type": "stream",
     "text": [
      "0       31041\n",
      "1902      202\n",
      "1977      168\n",
      "1887      159\n",
      "1848       51\n",
      "        ...  \n",
      "2080        1\n",
      "1539        1\n",
      "1844        1\n",
      "2489        1\n",
      "1411        1\n",
      "Name: Capital_loss, Length: 92, dtype: int64\n"
     ]
    },
    {
     "data": {
      "text/plain": [
       "<AxesSubplot:xlabel='Capital_loss', ylabel='Count'>"
      ]
     },
     "execution_count": 43,
     "metadata": {},
     "output_type": "execute_result"
    },
    {
     "data": {
      "image/png": "[encoded data removed]",
      "text/plain": [
       "<Figure size 1080x360 with 1 Axes>"
      ]
     },
     "metadata": {
      "needs_background": "light"
     },
     "output_type": "display_data"
    }
   ],
   "source": [
    "#Histplot for \"Capital_loss\" column\n",
    "print(census[\"Capital_loss\"].value_counts())\n",
    "plt.figure(figsize=(15,5))\n",
    "sns.histplot(x='Capital_loss',data=census,bins=10)"
   ]
  },
  {
   "cell_type": "code",
   "execution_count": 44,
   "id": "243b5358",
   "metadata": {},
   "outputs": [
    {
     "name": "stdout",
     "output_type": "stream",
     "text": [
      "40    15216\n",
      "50     2819\n",
      "45     1824\n",
      "60     1475\n",
      "35     1297\n",
      "      ...  \n",
      "82        1\n",
      "94        1\n",
      "92        1\n",
      "74        1\n",
      "87        1\n",
      "Name: Hours_per_week, Length: 94, dtype: int64\n"
     ]
    },
    {
     "data": {
      "text/plain": [
       "<AxesSubplot:xlabel='Hours_per_week', ylabel='Count'>"
      ]
     },
     "execution_count": 44,
     "metadata": {},
     "output_type": "execute_result"
    },
    {
     "data": {
      "image/png": "[encoded data removed]",
      "text/plain": [
       "<Figure size 1080x360 with 1 Axes>"
      ]
     },
     "metadata": {
      "needs_background": "light"
     },
     "output_type": "display_data"
    }
   ],
   "source": [
    "#Histplot for \"Hours_per_week\" column\n",
    "print(census[\"Hours_per_week\"].value_counts())\n",
    "plt.figure(figsize=(15,5))\n",
    "sns.histplot(x='Hours_per_week',data=census,bins=10)"
   ]
  },
  {
   "cell_type": "code",
   "execution_count": 45,
   "id": "a691c21f",
   "metadata": {},
   "outputs": [],
   "source": [
    "# Bivariate Analysis:"
   ]
  },
  {
   "cell_type": "code",
   "execution_count": 46,
   "id": "c778704d",
   "metadata": {},
   "outputs": [
    {
     "data": {
      "text/plain": [
       "<AxesSubplot:xlabel='Workclass', ylabel='count'>"
      ]
     },
     "execution_count": 46,
     "metadata": {},
     "output_type": "execute_result"
    },
    {
     "data": {
      "image/png": "[encoded data removed]",
      "text/plain": [
       "<Figure size 1080x360 with 1 Axes>"
      ]
     },
     "metadata": {
      "needs_background": "light"
     },
     "output_type": "display_data"
    }
   ],
   "source": [
    "#Count Plot for comparision between \"Workclass\" column and \"Income\" column\n",
    "plt.figure(figsize=(15,5))\n",
    "sns.countplot(\"Workclass\",data=census, hue='Income')"
   ]
  },
  {
   "cell_type": "code",
   "execution_count": 47,
   "id": "5c644300",
   "metadata": {},
   "outputs": [
    {
     "data": {
      "text/plain": [
       "<AxesSubplot:xlabel='Education', ylabel='count'>"
      ]
     },
     "execution_count": 47,
     "metadata": {},
     "output_type": "execute_result"
    },
    {
     "data": {
      "image/png": "[encoded data removed]",
      "text/plain": [
       "<Figure size 1440x360 with 1 Axes>"
      ]
     },
     "metadata": {
      "needs_background": "light"
     },
     "output_type": "display_data"
    }
   ],
   "source": [
    "#Count Plot for comparision between \"Education\" column and \"Income\" column\n",
    "plt.figure(figsize=(20,5))\n",
    "sns.countplot(\"Education\",data=census, hue='Income')"
   ]
  },
  {
   "cell_type": "code",
   "execution_count": 48,
   "id": "264098d7",
   "metadata": {},
   "outputs": [
    {
     "data": {
      "text/plain": [
       "<AxesSubplot:xlabel='Marital_status', ylabel='count'>"
      ]
     },
     "execution_count": 48,
     "metadata": {},
     "output_type": "execute_result"
    },
    {
     "data": {
      "image/png": "[encoded data removed]",
      "text/plain": [
       "<Figure size 1080x360 with 1 Axes>"
      ]
     },
     "metadata": {
      "needs_background": "light"
     },
     "output_type": "display_data"
    }
   ],
   "source": [
    "#Count Plot for comparision between \"Marital_status\" column and \"Income\" column\n",
    "plt.figure(figsize=(15,5))\n",
    "sns.countplot(\"Marital_status\",data=census, hue='Income')"
   ]
  },
  {
   "cell_type": "code",
   "execution_count": 49,
   "id": "d55b511c",
   "metadata": {},
   "outputs": [
    {
     "data": {
      "text/plain": [
       "<AxesSubplot:xlabel='Occupation', ylabel='count'>"
      ]
     },
     "execution_count": 49,
     "metadata": {},
     "output_type": "execute_result"
    },
    {
     "data": {
      "image/png": "[encoded data removed]",
      "text/plain": [
       "<Figure size 1800x360 with 1 Axes>"
      ]
     },
     "metadata": {
      "needs_background": "light"
     },
     "output_type": "display_data"
    }
   ],
   "source": [
    "#Count Plot for comparision between \"Occupation\" column and \"Income\" column\n",
    "plt.figure(figsize=(25,5))\n",
    "sns.countplot(\"Occupation\",data=census, hue='Income')"
   ]
  },
  {
   "cell_type": "code",
   "execution_count": 50,
   "id": "987221ae",
   "metadata": {},
   "outputs": [
    {
     "data": {
      "text/plain": [
       "<AxesSubplot:xlabel='Relationship', ylabel='count'>"
      ]
     },
     "execution_count": 50,
     "metadata": {},
     "output_type": "execute_result"
    },
    {
     "data": {
      "image/png": "[encoded data removed]",
      "text/plain": [
       "<Figure size 1080x360 with 1 Axes>"
      ]
     },
     "metadata": {
      "needs_background": "light"
     },
     "output_type": "display_data"
    }
   ],
   "source": [
    "#Count Plot for comparision between \"Relationship\" column and \"Income\" column\n",
    "plt.figure(figsize=(15,5))\n",
    "sns.countplot(\"Relationship\",data=census, hue='Income')"
   ]
  },
  {
   "cell_type": "code",
   "execution_count": 51,
   "id": "c0416ad4",
   "metadata": {},
   "outputs": [
    {
     "data": {
      "text/plain": [
       "<AxesSubplot:xlabel='Race', ylabel='count'>"
      ]
     },
     "execution_count": 51,
     "metadata": {},
     "output_type": "execute_result"
    },
    {
     "data": {
      "image/png": "[encoded data removed]",
      "text/plain": [
       "<Figure size 1080x360 with 1 Axes>"
      ]
     },
     "metadata": {
      "needs_background": "light"
     },
     "output_type": "display_data"
    }
   ],
   "source": [
    "#Count Plot for comparision between \"Race\" column and \"Income\" column\n",
    "plt.figure(figsize=(15,5))\n",
    "sns.countplot(\"Race\",data=census, hue='Income')"
   ]
  },
  {
   "cell_type": "code",
   "execution_count": 52,
   "id": "284f9e10",
   "metadata": {},
   "outputs": [
    {
     "data": {
      "text/plain": [
       "<AxesSubplot:xlabel='Sex', ylabel='count'>"
      ]
     },
     "execution_count": 52,
     "metadata": {},
     "output_type": "execute_result"
    },
    {
     "data": {
      "image/png": "[encoded data removed]",
      "text/plain": [
       "<Figure size 432x288 with 1 Axes>"
      ]
     },
     "metadata": {
      "needs_background": "light"
     },
     "output_type": "display_data"
    }
   ],
   "source": [
    "#Count Plot for comparision between \"Sex\" column and \"Income\" column\n",
    "sns.countplot(\"Sex\",data=census, hue='Income')"
   ]
  },
  {
   "cell_type": "code",
   "execution_count": 53,
   "id": "b8dc90ed",
   "metadata": {},
   "outputs": [
    {
     "data": {
      "text/plain": [
       "<AxesSubplot:xlabel='Native_country', ylabel='count'>"
      ]
     },
     "execution_count": 53,
     "metadata": {},
     "output_type": "execute_result"
    },
    {
     "data": {
      "image/png": "[encoded data removed]",
      "text/plain": [
       "<Figure size 2160x1080 with 1 Axes>"
      ]
     },
     "metadata": {
      "needs_background": "light"
     },
     "output_type": "display_data"
    }
   ],
   "source": [
    "#Count Plot for comparision between \"Native_country\" column and \"Income\" column\n",
    "plt.figure(figsize=(30,15))\n",
    "sns.countplot(\"Native_country\",data=census, hue='Income')"
   ]
  },
  {
   "cell_type": "code",
   "execution_count": 54,
   "id": "bd20af94",
   "metadata": {},
   "outputs": [
    {
     "data": {
      "text/plain": [
       "<AxesSubplot:xlabel='Income', ylabel='Age'>"
      ]
     },
     "execution_count": 54,
     "metadata": {},
     "output_type": "execute_result"
    },
    {
     "data": {
      "image/png": "[encoded data removed]",
      "text/plain": [
       "<Figure size 360x360 with 1 Axes>"
      ]
     },
     "metadata": {
      "needs_background": "light"
     },
     "output_type": "display_data"
    }
   ],
   "source": [
    "#Bar Plot for comparision between \"Age\" and \"Income\" column\n",
    "plt.figure(figsize=(5,5))\n",
    "sns.barplot(y='Age', x='Income',data=census, palette='ocean')"
   ]
  },
  {
   "cell_type": "code",
   "execution_count": 55,
   "id": "a9c429e2",
   "metadata": {},
   "outputs": [
    {
     "data": {
      "text/plain": [
       "<AxesSubplot:xlabel='Income', ylabel='Fnlwgt'>"
      ]
     },
     "execution_count": 55,
     "metadata": {},
     "output_type": "execute_result"
    },
    {
     "data": {
      "image/png": "[encoded data removed]",
      "text/plain": [
       "<Figure size 360x360 with 1 Axes>"
      ]
     },
     "metadata": {
      "needs_background": "light"
     },
     "output_type": "display_data"
    }
   ],
   "source": [
    "#Bar Plot for comparision between \"Fnlwgt\" and \"Income\" column\n",
    "plt.figure(figsize=(5,5))\n",
    "sns.barplot(y='Fnlwgt', x='Income',data=census, palette='ocean')"
   ]
  },
  {
   "cell_type": "code",
   "execution_count": 56,
   "id": "ecd5d06a",
   "metadata": {},
   "outputs": [
    {
     "data": {
      "text/plain": [
       "<AxesSubplot:xlabel='Income', ylabel='Education_num'>"
      ]
     },
     "execution_count": 56,
     "metadata": {},
     "output_type": "execute_result"
    },
    {
     "data": {
      "image/png": "[encoded data removed]",
      "text/plain": [
       "<Figure size 360x360 with 1 Axes>"
      ]
     },
     "metadata": {
      "needs_background": "light"
     },
     "output_type": "display_data"
    }
   ],
   "source": [
    "#Bar Plot for comparision between \"Education_num\" and \"Income\" column\n",
    "plt.figure(figsize=(5,5))\n",
    "sns.barplot(y='Education_num', x='Income',data=census, palette='ocean')"
   ]
  },
  {
   "cell_type": "code",
   "execution_count": 57,
   "id": "3e427f34",
   "metadata": {},
   "outputs": [
    {
     "data": {
      "text/plain": [
       "<AxesSubplot:xlabel='Income', ylabel='Capital_gain'>"
      ]
     },
     "execution_count": 57,
     "metadata": {},
     "output_type": "execute_result"
    },
    {
     "data": {
      "image/png": "[encoded data removed]",
      "text/plain": [
       "<Figure size 360x360 with 1 Axes>"
      ]
     },
     "metadata": {
      "needs_background": "light"
     },
     "output_type": "display_data"
    }
   ],
   "source": [
    "#Bar Plot for comparision between \"Capital_gain\" and \"Income\" column\n",
    "plt.figure(figsize=(5,5))\n",
    "sns.barplot(y='Capital_gain', x='Income',data=census, palette='ocean')"
   ]
  },
  {
   "cell_type": "code",
   "execution_count": 58,
   "id": "7c8db73f",
   "metadata": {},
   "outputs": [
    {
     "data": {
      "text/plain": [
       "<AxesSubplot:xlabel='Income', ylabel='Capital_loss'>"
      ]
     },
     "execution_count": 58,
     "metadata": {},
     "output_type": "execute_result"
    },
    {
     "data": {
      "image/png": "[encoded data removed]",
      "text/plain": [
       "<Figure size 360x360 with 1 Axes>"
      ]
     },
     "metadata": {
      "needs_background": "light"
     },
     "output_type": "display_data"
    }
   ],
   "source": [
    "#Bar Plot for comparision between \"Capital_loss\" and \"Income\" column\n",
    "plt.figure(figsize=(5,5))\n",
    "sns.barplot(y='Capital_loss', x='Income',data=census, palette='ocean')"
   ]
  },
  {
   "cell_type": "code",
   "execution_count": 59,
   "id": "4324d282",
   "metadata": {},
   "outputs": [
    {
     "data": {
      "text/plain": [
       "<AxesSubplot:xlabel='Income', ylabel='Hours_per_week'>"
      ]
     },
     "execution_count": 59,
     "metadata": {},
     "output_type": "execute_result"
    },
    {
     "data": {
      "image/png": "[encoded data removed]",
      "text/plain": [
       "<Figure size 360x360 with 1 Axes>"
      ]
     },
     "metadata": {
      "needs_background": "light"
     },
     "output_type": "display_data"
    }
   ],
   "source": [
    "#Bar Plot for comparision between \"Hours_per_week\" and \"Income\" column\n",
    "plt.figure(figsize=(5,5))\n",
    "sns.barplot(y='Hours_per_week', x='Income',data=census, palette='ocean')"
   ]
  },
  {
   "cell_type": "markdown",
   "id": "d4f4a2b3",
   "metadata": {},
   "source": [
    "**We observed that the Capital gain and capital loss is not very much related to the target variable . So let's drop this columns and go ahead.**"
   ]
  },
  {
   "cell_type": "code",
   "execution_count": 60,
   "id": "2f838840",
   "metadata": {},
   "outputs": [],
   "source": [
    "census.drop(columns = \"Capital_gain\", inplace = True)"
   ]
  },
  {
   "cell_type": "code",
   "execution_count": 61,
   "id": "15e9f20d",
   "metadata": {},
   "outputs": [],
   "source": [
    "census.drop(columns = \"Capital_loss\", inplace = True)"
   ]
  },
  {
   "cell_type": "markdown",
   "id": "bcb24947",
   "metadata": {},
   "source": [
    "# Label Encoding:"
   ]
  },
  {
   "cell_type": "markdown",
   "id": "c613a0b6",
   "metadata": {},
   "source": [
    "**There are some columns where object datatype is present , so we have to use label encoding to convert categorical data to numeric data.**"
   ]
  },
  {
   "cell_type": "code",
   "execution_count": 62,
   "id": "b3b85229",
   "metadata": {},
   "outputs": [],
   "source": [
    "from sklearn.preprocessing import LabelEncoder"
   ]
  },
  {
   "cell_type": "code",
   "execution_count": 63,
   "id": "2a658285",
   "metadata": {},
   "outputs": [],
   "source": [
    "encoder=LabelEncoder()"
   ]
  },
  {
   "cell_type": "code",
   "execution_count": 64,
   "id": "01e20d85",
   "metadata": {},
   "outputs": [],
   "source": [
    "census['Workclass'] = encoder.fit_transform(census['Workclass'])\n",
    "census['Education'] = encoder.fit_transform(census['Education'])\n",
    "census['Marital_status'] = encoder.fit_transform(census['Marital_status'])\n",
    "census['Occupation'] = encoder.fit_transform(census['Occupation'])\n",
    "census['Relationship'] = encoder.fit_transform(census['Relationship'])\n",
    "census['Race'] = encoder.fit_transform(census['Race'])\n",
    "census['Sex'] = encoder.fit_transform(census['Sex'])\n",
    "census['Native_country'] = encoder.fit_transform(census['Native_country'])\n",
    "census['Income'] = encoder.fit_transform(census['Income'])"
   ]
  },
  {
   "cell_type": "code",
   "execution_count": 65,
   "id": "736f3de7",
   "metadata": {},
   "outputs": [
    {
     "data": {
      "text/plain": [
       "Age               int64\n",
       "Workclass         int32\n",
       "Fnlwgt            int64\n",
       "Education         int32\n",
       "Education_num     int64\n",
       "Marital_status    int32\n",
       "Occupation        int32\n",
       "Relationship      int32\n",
       "Race              int32\n",
       "Sex               int32\n",
       "Hours_per_week    int64\n",
       "Native_country    int32\n",
       "Income            int32\n",
       "dtype: object"
      ]
     },
     "execution_count": 65,
     "metadata": {},
     "output_type": "execute_result"
    }
   ],
   "source": [
    "# To verify , if the datatype converted or not:\n",
    "census.dtypes"
   ]
  },
  {
   "cell_type": "markdown",
   "id": "f5ebefe6",
   "metadata": {},
   "source": [
    "# Correlation:"
   ]
  },
  {
   "cell_type": "code",
   "execution_count": 66,
   "id": "ca56b6fd",
   "metadata": {},
   "outputs": [
    {
     "data": {
      "text/html": [
       "<div>\n",
       "<style scoped>\n",
       "    .dataframe tbody tr th:only-of-type {\n",
       "        vertical-align: middle;\n",
       "    }\n",
       "\n",
       "    .dataframe tbody tr th {\n",
       "        vertical-align: top;\n",
       "    }\n",
       "\n",
       "    .dataframe thead th {\n",
       "        text-align: right;\n",
       "    }\n",
       "</style>\n",
       "<table border=\"1\" class=\"dataframe\">\n",
       "  <thead>\n",
       "    <tr style=\"text-align: right;\">\n",
       "      <th></th>\n",
       "      <th>Age</th>\n",
       "      <th>Workclass</th>\n",
       "      <th>Fnlwgt</th>\n",
       "      <th>Education</th>\n",
       "      <th>Education_num</th>\n",
       "      <th>Marital_status</th>\n",
       "      <th>Occupation</th>\n",
       "      <th>Relationship</th>\n",
       "      <th>Race</th>\n",
       "      <th>Sex</th>\n",
       "      <th>Hours_per_week</th>\n",
       "      <th>Native_country</th>\n",
       "      <th>Income</th>\n",
       "    </tr>\n",
       "  </thead>\n",
       "  <tbody>\n",
       "    <tr>\n",
       "      <th>Age</th>\n",
       "      <td>1.000000</td>\n",
       "      <td>0.040506</td>\n",
       "      <td>-0.076646</td>\n",
       "      <td>-0.010508</td>\n",
       "      <td>0.036527</td>\n",
       "      <td>-0.266292</td>\n",
       "      <td>0.001740</td>\n",
       "      <td>-0.263698</td>\n",
       "      <td>0.028718</td>\n",
       "      <td>0.088832</td>\n",
       "      <td>0.068756</td>\n",
       "      <td>-0.000271</td>\n",
       "      <td>0.234039</td>\n",
       "    </tr>\n",
       "    <tr>\n",
       "      <th>Workclass</th>\n",
       "      <td>0.040506</td>\n",
       "      <td>1.000000</td>\n",
       "      <td>-0.024255</td>\n",
       "      <td>0.004901</td>\n",
       "      <td>0.003445</td>\n",
       "      <td>-0.020545</td>\n",
       "      <td>0.007236</td>\n",
       "      <td>-0.057931</td>\n",
       "      <td>0.048323</td>\n",
       "      <td>0.071535</td>\n",
       "      <td>0.042206</td>\n",
       "      <td>-0.001646</td>\n",
       "      <td>0.002739</td>\n",
       "    </tr>\n",
       "    <tr>\n",
       "      <th>Fnlwgt</th>\n",
       "      <td>-0.076646</td>\n",
       "      <td>-0.024255</td>\n",
       "      <td>1.000000</td>\n",
       "      <td>-0.028156</td>\n",
       "      <td>-0.043159</td>\n",
       "      <td>0.028184</td>\n",
       "      <td>0.000138</td>\n",
       "      <td>0.008922</td>\n",
       "      <td>-0.021278</td>\n",
       "      <td>0.026882</td>\n",
       "      <td>-0.018770</td>\n",
       "      <td>-0.063279</td>\n",
       "      <td>-0.009481</td>\n",
       "    </tr>\n",
       "    <tr>\n",
       "      <th>Education</th>\n",
       "      <td>-0.010508</td>\n",
       "      <td>0.004901</td>\n",
       "      <td>-0.028156</td>\n",
       "      <td>1.000000</td>\n",
       "      <td>0.359172</td>\n",
       "      <td>-0.038398</td>\n",
       "      <td>-0.041297</td>\n",
       "      <td>-0.010879</td>\n",
       "      <td>0.014135</td>\n",
       "      <td>-0.027349</td>\n",
       "      <td>0.055510</td>\n",
       "      <td>0.076062</td>\n",
       "      <td>0.079311</td>\n",
       "    </tr>\n",
       "    <tr>\n",
       "      <th>Education_num</th>\n",
       "      <td>0.036527</td>\n",
       "      <td>0.003445</td>\n",
       "      <td>-0.043159</td>\n",
       "      <td>0.359172</td>\n",
       "      <td>1.000000</td>\n",
       "      <td>-0.069338</td>\n",
       "      <td>0.071012</td>\n",
       "      <td>-0.094145</td>\n",
       "      <td>0.031825</td>\n",
       "      <td>0.012256</td>\n",
       "      <td>0.148127</td>\n",
       "      <td>0.088887</td>\n",
       "      <td>0.335182</td>\n",
       "    </tr>\n",
       "    <tr>\n",
       "      <th>Marital_status</th>\n",
       "      <td>-0.266292</td>\n",
       "      <td>-0.020545</td>\n",
       "      <td>0.028184</td>\n",
       "      <td>-0.038398</td>\n",
       "      <td>-0.069338</td>\n",
       "      <td>1.000000</td>\n",
       "      <td>0.035008</td>\n",
       "      <td>0.185461</td>\n",
       "      <td>-0.068025</td>\n",
       "      <td>-0.129337</td>\n",
       "      <td>-0.190521</td>\n",
       "      <td>-0.021285</td>\n",
       "      <td>-0.199295</td>\n",
       "    </tr>\n",
       "    <tr>\n",
       "      <th>Occupation</th>\n",
       "      <td>0.001740</td>\n",
       "      <td>0.007236</td>\n",
       "      <td>0.000138</td>\n",
       "      <td>-0.041297</td>\n",
       "      <td>0.071012</td>\n",
       "      <td>0.035008</td>\n",
       "      <td>1.000000</td>\n",
       "      <td>-0.037465</td>\n",
       "      <td>-0.004821</td>\n",
       "      <td>0.047497</td>\n",
       "      <td>-0.012881</td>\n",
       "      <td>-0.002205</td>\n",
       "      <td>0.034599</td>\n",
       "    </tr>\n",
       "    <tr>\n",
       "      <th>Relationship</th>\n",
       "      <td>-0.263698</td>\n",
       "      <td>-0.057931</td>\n",
       "      <td>0.008922</td>\n",
       "      <td>-0.010879</td>\n",
       "      <td>-0.094145</td>\n",
       "      <td>0.185461</td>\n",
       "      <td>-0.037465</td>\n",
       "      <td>1.000000</td>\n",
       "      <td>-0.116052</td>\n",
       "      <td>-0.582453</td>\n",
       "      <td>-0.248975</td>\n",
       "      <td>-0.010710</td>\n",
       "      <td>-0.250924</td>\n",
       "    </tr>\n",
       "    <tr>\n",
       "      <th>Race</th>\n",
       "      <td>0.028718</td>\n",
       "      <td>0.048323</td>\n",
       "      <td>-0.021278</td>\n",
       "      <td>0.014135</td>\n",
       "      <td>0.031825</td>\n",
       "      <td>-0.068025</td>\n",
       "      <td>-0.004821</td>\n",
       "      <td>-0.116052</td>\n",
       "      <td>1.000000</td>\n",
       "      <td>0.087197</td>\n",
       "      <td>0.041910</td>\n",
       "      <td>0.116526</td>\n",
       "      <td>0.071853</td>\n",
       "    </tr>\n",
       "    <tr>\n",
       "      <th>Sex</th>\n",
       "      <td>0.088832</td>\n",
       "      <td>0.071535</td>\n",
       "      <td>0.026882</td>\n",
       "      <td>-0.027349</td>\n",
       "      <td>0.012256</td>\n",
       "      <td>-0.129337</td>\n",
       "      <td>0.047497</td>\n",
       "      <td>-0.582453</td>\n",
       "      <td>0.087197</td>\n",
       "      <td>1.000000</td>\n",
       "      <td>0.229312</td>\n",
       "      <td>0.002055</td>\n",
       "      <td>0.215995</td>\n",
       "    </tr>\n",
       "    <tr>\n",
       "      <th>Hours_per_week</th>\n",
       "      <td>0.068756</td>\n",
       "      <td>0.042206</td>\n",
       "      <td>-0.018770</td>\n",
       "      <td>0.055510</td>\n",
       "      <td>0.148127</td>\n",
       "      <td>-0.190521</td>\n",
       "      <td>-0.012881</td>\n",
       "      <td>-0.248975</td>\n",
       "      <td>0.041910</td>\n",
       "      <td>0.229312</td>\n",
       "      <td>1.000000</td>\n",
       "      <td>0.006592</td>\n",
       "      <td>0.229690</td>\n",
       "    </tr>\n",
       "    <tr>\n",
       "      <th>Native_country</th>\n",
       "      <td>-0.000271</td>\n",
       "      <td>-0.001646</td>\n",
       "      <td>-0.063279</td>\n",
       "      <td>0.076062</td>\n",
       "      <td>0.088887</td>\n",
       "      <td>-0.021285</td>\n",
       "      <td>-0.002205</td>\n",
       "      <td>-0.010710</td>\n",
       "      <td>0.116526</td>\n",
       "      <td>0.002055</td>\n",
       "      <td>0.006592</td>\n",
       "      <td>1.000000</td>\n",
       "      <td>0.023063</td>\n",
       "    </tr>\n",
       "    <tr>\n",
       "      <th>Income</th>\n",
       "      <td>0.234039</td>\n",
       "      <td>0.002739</td>\n",
       "      <td>-0.009481</td>\n",
       "      <td>0.079311</td>\n",
       "      <td>0.335182</td>\n",
       "      <td>-0.199295</td>\n",
       "      <td>0.034599</td>\n",
       "      <td>-0.250924</td>\n",
       "      <td>0.071853</td>\n",
       "      <td>0.215995</td>\n",
       "      <td>0.229690</td>\n",
       "      <td>0.023063</td>\n",
       "      <td>1.000000</td>\n",
       "    </tr>\n",
       "  </tbody>\n",
       "</table>\n",
       "</div>"
      ],
      "text/plain": [
       "                     Age  Workclass    Fnlwgt  Education  Education_num  \\\n",
       "Age             1.000000   0.040506 -0.076646  -0.010508       0.036527   \n",
       "Workclass       0.040506   1.000000 -0.024255   0.004901       0.003445   \n",
       "Fnlwgt         -0.076646  -0.024255  1.000000  -0.028156      -0.043159   \n",
       "Education      -0.010508   0.004901 -0.028156   1.000000       0.359172   \n",
       "Education_num   0.036527   0.003445 -0.043159   0.359172       1.000000   \n",
       "Marital_status -0.266292  -0.020545  0.028184  -0.038398      -0.069338   \n",
       "Occupation      0.001740   0.007236  0.000138  -0.041297       0.071012   \n",
       "Relationship   -0.263698  -0.057931  0.008922  -0.010879      -0.094145   \n",
       "Race            0.028718   0.048323 -0.021278   0.014135       0.031825   \n",
       "Sex             0.088832   0.071535  0.026882  -0.027349       0.012256   \n",
       "Hours_per_week  0.068756   0.042206 -0.018770   0.055510       0.148127   \n",
       "Native_country -0.000271  -0.001646 -0.063279   0.076062       0.088887   \n",
       "Income          0.234039   0.002739 -0.009481   0.079311       0.335182   \n",
       "\n",
       "                Marital_status  Occupation  Relationship      Race       Sex  \\\n",
       "Age                  -0.266292    0.001740     -0.263698  0.028718  0.088832   \n",
       "Workclass            -0.020545    0.007236     -0.057931  0.048323  0.071535   \n",
       "Fnlwgt                0.028184    0.000138      0.008922 -0.021278  0.026882   \n",
       "Education            -0.038398   -0.041297     -0.010879  0.014135 -0.027349   \n",
       "Education_num        -0.069338    0.071012     -0.094145  0.031825  0.012256   \n",
       "Marital_status        1.000000    0.035008      0.185461 -0.068025 -0.129337   \n",
       "Occupation            0.035008    1.000000     -0.037465 -0.004821  0.047497   \n",
       "Relationship          0.185461   -0.037465      1.000000 -0.116052 -0.582453   \n",
       "Race                 -0.068025   -0.004821     -0.116052  1.000000  0.087197   \n",
       "Sex                  -0.129337    0.047497     -0.582453  0.087197  1.000000   \n",
       "Hours_per_week       -0.190521   -0.012881     -0.248975  0.041910  0.229312   \n",
       "Native_country       -0.021285   -0.002205     -0.010710  0.116526  0.002055   \n",
       "Income               -0.199295    0.034599     -0.250924  0.071853  0.215995   \n",
       "\n",
       "                Hours_per_week  Native_country    Income  \n",
       "Age                   0.068756       -0.000271  0.234039  \n",
       "Workclass             0.042206       -0.001646  0.002739  \n",
       "Fnlwgt               -0.018770       -0.063279 -0.009481  \n",
       "Education             0.055510        0.076062  0.079311  \n",
       "Education_num         0.148127        0.088887  0.335182  \n",
       "Marital_status       -0.190521       -0.021285 -0.199295  \n",
       "Occupation           -0.012881       -0.002205  0.034599  \n",
       "Relationship         -0.248975       -0.010710 -0.250924  \n",
       "Race                  0.041910        0.116526  0.071853  \n",
       "Sex                   0.229312        0.002055  0.215995  \n",
       "Hours_per_week        1.000000        0.006592  0.229690  \n",
       "Native_country        0.006592        1.000000  0.023063  \n",
       "Income                0.229690        0.023063  1.000000  "
      ]
     },
     "execution_count": 66,
     "metadata": {},
     "output_type": "execute_result"
    }
   ],
   "source": [
    "census.corr()"
   ]
  },
  {
   "cell_type": "code",
   "execution_count": 67,
   "id": "aad67063",
   "metadata": {},
   "outputs": [
    {
     "data": {
      "text/plain": [
       "Relationship     -0.250924\n",
       "Marital_status   -0.199295\n",
       "Fnlwgt           -0.009481\n",
       "Workclass         0.002739\n",
       "Native_country    0.023063\n",
       "Occupation        0.034599\n",
       "Race              0.071853\n",
       "Education         0.079311\n",
       "Sex               0.215995\n",
       "Hours_per_week    0.229690\n",
       "Age               0.234039\n",
       "Education_num     0.335182\n",
       "Income            1.000000\n",
       "Name: Income, dtype: float64"
      ]
     },
     "execution_count": 67,
     "metadata": {},
     "output_type": "execute_result"
    }
   ],
   "source": [
    "census.corr()[\"Income\"].sort_values()"
   ]
  },
  {
   "cell_type": "code",
   "execution_count": 68,
   "id": "b03b9d30",
   "metadata": {},
   "outputs": [
    {
     "data": {
      "text/plain": [
       "<AxesSubplot:>"
      ]
     },
     "execution_count": 68,
     "metadata": {},
     "output_type": "execute_result"
    },
    {
     "data": {
      "image/png": "[encoded data removed]",
      "text/plain": [
       "<Figure size 1080x504 with 2 Axes>"
      ]
     },
     "metadata": {
      "needs_background": "light"
     },
     "output_type": "display_data"
    }
   ],
   "source": [
    "# Visualization of Correlation:\n",
    "plt.figure(figsize=(15,7))\n",
    "sns.heatmap(census.corr(),annot=True, linewidth=0.5, linecolor='white', fmt='.2f')"
   ]
  },
  {
   "cell_type": "markdown",
   "id": "b77fb705",
   "metadata": {},
   "source": [
    "**Maximum correlated columns  is Education_num.**\n",
    "\n",
    "**Minimum correlated column is Relationship.**"
   ]
  },
  {
   "cell_type": "markdown",
   "id": "77e8c9d2",
   "metadata": {},
   "source": [
    "# Outliers Detection:"
   ]
  },
  {
   "cell_type": "code",
   "execution_count": 69,
   "id": "a3476e5d",
   "metadata": {},
   "outputs": [
    {
     "data": {
      "image/png": "[encoded data removed]",
      "text/plain": [
       "<Figure size 936x2808 with 13 Axes>"
      ]
     },
     "metadata": {
      "needs_background": "light"
     },
     "output_type": "display_data"
    }
   ],
   "source": [
    "outliers=census.columns.values\n",
    "ncol=13\n",
    "nrows=7\n",
    "plt.figure(figsize=(ncol,3*ncol))\n",
    "for column in range(0,len(outliers)):\n",
    "    plt.subplot(nrows,ncol,column+1)\n",
    "    sns.boxplot(data=census[outliers[column]],color='green',orient='v')\n",
    "    plt.xlabel(column,fontsize = 15)\n",
    "    plt.tight_layout()"
   ]
  },
  {
   "cell_type": "markdown",
   "id": "49b52efe",
   "metadata": {},
   "source": [
    "**Here we observed that Outliers present in columns: 'Age', 'Workclass', 'Fnlwgt', 'Education', 'Education_num', 'Race', 'Hours_per_week', 'Native_country', 'Income'.**"
   ]
  },
  {
   "cell_type": "markdown",
   "id": "ab35d8d5",
   "metadata": {},
   "source": [
    "**Removing outliers using Z score method:**"
   ]
  },
  {
   "cell_type": "code",
   "execution_count": 70,
   "id": "feb03707",
   "metadata": {},
   "outputs": [
    {
     "data": {
      "text/html": [
       "<div>\n",
       "<style scoped>\n",
       "    .dataframe tbody tr th:only-of-type {\n",
       "        vertical-align: middle;\n",
       "    }\n",
       "\n",
       "    .dataframe tbody tr th {\n",
       "        vertical-align: top;\n",
       "    }\n",
       "\n",
       "    .dataframe thead th {\n",
       "        text-align: right;\n",
       "    }\n",
       "</style>\n",
       "<table border=\"1\" class=\"dataframe\">\n",
       "  <thead>\n",
       "    <tr style=\"text-align: right;\">\n",
       "      <th></th>\n",
       "      <th>Age</th>\n",
       "      <th>Workclass</th>\n",
       "      <th>Fnlwgt</th>\n",
       "      <th>Education</th>\n",
       "      <th>Education_num</th>\n",
       "      <th>Marital_status</th>\n",
       "      <th>Occupation</th>\n",
       "      <th>Relationship</th>\n",
       "      <th>Race</th>\n",
       "      <th>Sex</th>\n",
       "      <th>Hours_per_week</th>\n",
       "      <th>Native_country</th>\n",
       "      <th>Income</th>\n",
       "    </tr>\n",
       "  </thead>\n",
       "  <tbody>\n",
       "    <tr>\n",
       "      <th>0</th>\n",
       "      <td>50</td>\n",
       "      <td>5</td>\n",
       "      <td>83311</td>\n",
       "      <td>9</td>\n",
       "      <td>13</td>\n",
       "      <td>2</td>\n",
       "      <td>3</td>\n",
       "      <td>0</td>\n",
       "      <td>4</td>\n",
       "      <td>1</td>\n",
       "      <td>13</td>\n",
       "      <td>38</td>\n",
       "      <td>0</td>\n",
       "    </tr>\n",
       "    <tr>\n",
       "      <th>1</th>\n",
       "      <td>38</td>\n",
       "      <td>3</td>\n",
       "      <td>215646</td>\n",
       "      <td>11</td>\n",
       "      <td>9</td>\n",
       "      <td>0</td>\n",
       "      <td>5</td>\n",
       "      <td>1</td>\n",
       "      <td>4</td>\n",
       "      <td>1</td>\n",
       "      <td>40</td>\n",
       "      <td>38</td>\n",
       "      <td>0</td>\n",
       "    </tr>\n",
       "    <tr>\n",
       "      <th>2</th>\n",
       "      <td>53</td>\n",
       "      <td>3</td>\n",
       "      <td>234721</td>\n",
       "      <td>1</td>\n",
       "      <td>7</td>\n",
       "      <td>2</td>\n",
       "      <td>5</td>\n",
       "      <td>0</td>\n",
       "      <td>2</td>\n",
       "      <td>1</td>\n",
       "      <td>40</td>\n",
       "      <td>38</td>\n",
       "      <td>0</td>\n",
       "    </tr>\n",
       "    <tr>\n",
       "      <th>3</th>\n",
       "      <td>28</td>\n",
       "      <td>3</td>\n",
       "      <td>338409</td>\n",
       "      <td>9</td>\n",
       "      <td>13</td>\n",
       "      <td>2</td>\n",
       "      <td>9</td>\n",
       "      <td>5</td>\n",
       "      <td>2</td>\n",
       "      <td>0</td>\n",
       "      <td>40</td>\n",
       "      <td>4</td>\n",
       "      <td>0</td>\n",
       "    </tr>\n",
       "    <tr>\n",
       "      <th>4</th>\n",
       "      <td>37</td>\n",
       "      <td>3</td>\n",
       "      <td>284582</td>\n",
       "      <td>12</td>\n",
       "      <td>14</td>\n",
       "      <td>2</td>\n",
       "      <td>3</td>\n",
       "      <td>5</td>\n",
       "      <td>4</td>\n",
       "      <td>0</td>\n",
       "      <td>40</td>\n",
       "      <td>38</td>\n",
       "      <td>0</td>\n",
       "    </tr>\n",
       "  </tbody>\n",
       "</table>\n",
       "</div>"
      ],
      "text/plain": [
       "   Age  Workclass  Fnlwgt  Education  Education_num  Marital_status  \\\n",
       "0   50          5   83311          9             13               2   \n",
       "1   38          3  215646         11              9               0   \n",
       "2   53          3  234721          1              7               2   \n",
       "3   28          3  338409          9             13               2   \n",
       "4   37          3  284582         12             14               2   \n",
       "\n",
       "   Occupation  Relationship  Race  Sex  Hours_per_week  Native_country  Income  \n",
       "0           3             0     4    1              13              38       0  \n",
       "1           5             1     4    1              40              38       0  \n",
       "2           5             0     2    1              40              38       0  \n",
       "3           9             5     2    0              40               4       0  \n",
       "4           3             5     4    0              40              38       0  "
      ]
     },
     "execution_count": 70,
     "metadata": {},
     "output_type": "execute_result"
    }
   ],
   "source": [
    "variables = census[['Age', 'Fnlwgt', 'Education_num', 'Hours_per_week']]\n",
    "z=np.abs(zscore(variables))\n",
    "\n",
    "# Creating new dataframe\n",
    "census_income = census[(z<3).all(axis=1)]\n",
    "census_income.head()"
   ]
  },
  {
   "cell_type": "code",
   "execution_count": 71,
   "id": "53171091",
   "metadata": {},
   "outputs": [
    {
     "data": {
      "text/html": [
       "<div>\n",
       "<style scoped>\n",
       "    .dataframe tbody tr th:only-of-type {\n",
       "        vertical-align: middle;\n",
       "    }\n",
       "\n",
       "    .dataframe tbody tr th {\n",
       "        vertical-align: top;\n",
       "    }\n",
       "\n",
       "    .dataframe thead th {\n",
       "        text-align: right;\n",
       "    }\n",
       "</style>\n",
       "<table border=\"1\" class=\"dataframe\">\n",
       "  <thead>\n",
       "    <tr style=\"text-align: right;\">\n",
       "      <th></th>\n",
       "      <th>Age</th>\n",
       "      <th>Fnlwgt</th>\n",
       "      <th>Education_num</th>\n",
       "      <th>Hours_per_week</th>\n",
       "    </tr>\n",
       "  </thead>\n",
       "  <tbody>\n",
       "    <tr>\n",
       "      <th>0</th>\n",
       "      <td>0.837097</td>\n",
       "      <td>1.008742</td>\n",
       "      <td>1.134779</td>\n",
       "      <td>2.22212</td>\n",
       "    </tr>\n",
       "    <tr>\n",
       "      <th>1</th>\n",
       "      <td>0.042640</td>\n",
       "      <td>0.245046</td>\n",
       "      <td>0.420027</td>\n",
       "      <td>0.03543</td>\n",
       "    </tr>\n",
       "    <tr>\n",
       "      <th>2</th>\n",
       "      <td>1.057031</td>\n",
       "      <td>0.425770</td>\n",
       "      <td>1.197429</td>\n",
       "      <td>0.03543</td>\n",
       "    </tr>\n",
       "    <tr>\n",
       "      <th>3</th>\n",
       "      <td>0.775755</td>\n",
       "      <td>1.408146</td>\n",
       "      <td>1.134779</td>\n",
       "      <td>0.03543</td>\n",
       "    </tr>\n",
       "    <tr>\n",
       "      <th>4</th>\n",
       "      <td>0.115952</td>\n",
       "      <td>0.898170</td>\n",
       "      <td>1.523480</td>\n",
       "      <td>0.03543</td>\n",
       "    </tr>\n",
       "  </tbody>\n",
       "</table>\n",
       "</div>"
      ],
      "text/plain": [
       "        Age    Fnlwgt  Education_num  Hours_per_week\n",
       "0  0.837097  1.008742       1.134779         2.22212\n",
       "1  0.042640  0.245046       0.420027         0.03543\n",
       "2  1.057031  0.425770       1.197429         0.03543\n",
       "3  0.775755  1.408146       1.134779         0.03543\n",
       "4  0.115952  0.898170       1.523480         0.03543"
      ]
     },
     "execution_count": 71,
     "metadata": {},
     "output_type": "execute_result"
    }
   ],
   "source": [
    "z.head()"
   ]
  },
  {
   "cell_type": "code",
   "execution_count": 72,
   "id": "53370e23",
   "metadata": {},
   "outputs": [
    {
     "data": {
      "text/plain": [
       "(31461, 13)"
      ]
     },
     "execution_count": 72,
     "metadata": {},
     "output_type": "execute_result"
    }
   ],
   "source": [
    "census_income.shape"
   ]
  },
  {
   "cell_type": "code",
   "execution_count": 73,
   "id": "8e16ec75",
   "metadata": {},
   "outputs": [
    {
     "data": {
      "text/plain": [
       "1099"
      ]
     },
     "execution_count": 73,
     "metadata": {},
     "output_type": "execute_result"
    }
   ],
   "source": [
    "# To find number of dropped rows after using Z score method:\n",
    "census.shape[0]-census_income.shape[0]"
   ]
  },
  {
   "cell_type": "code",
   "execution_count": 74,
   "id": "13dcf0f3",
   "metadata": {},
   "outputs": [],
   "source": [
    "# To find the loss in data:"
   ]
  },
  {
   "cell_type": "code",
   "execution_count": 75,
   "id": "a71657fb",
   "metadata": {},
   "outputs": [
    {
     "name": "stdout",
     "output_type": "stream",
     "text": [
      "3.3753071253071254 %\n"
     ]
    }
   ],
   "source": [
    "loss=(32560-31461)/32560*100\n",
    "print(loss,\"%\")"
   ]
  },
  {
   "cell_type": "markdown",
   "id": "63dfc4e2",
   "metadata": {},
   "source": [
    "**Checking for skewness:**"
   ]
  },
  {
   "cell_type": "code",
   "execution_count": 76,
   "id": "47b3339c",
   "metadata": {},
   "outputs": [
    {
     "data": {
      "text/plain": [
       "Age               0.472279\n",
       "Workclass         0.077358\n",
       "Fnlwgt            0.634828\n",
       "Education        -0.949556\n",
       "Education_num    -0.159752\n",
       "Marital_status   -0.025162\n",
       "Occupation        0.003278\n",
       "Relationship      0.777721\n",
       "Race             -2.453934\n",
       "Sex              -0.708658\n",
       "Hours_per_week   -0.341724\n",
       "Native_country   -4.362026\n",
       "Income            1.205962\n",
       "dtype: float64"
      ]
     },
     "execution_count": 76,
     "metadata": {},
     "output_type": "execute_result"
    }
   ],
   "source": [
    "census_income.skew()"
   ]
  },
  {
   "cell_type": "markdown",
   "id": "f05ee8b0",
   "metadata": {},
   "source": [
    "**Removing skewness using yeo-johnson method**"
   ]
  },
  {
   "cell_type": "code",
   "execution_count": 77,
   "id": "7c5ca6f6",
   "metadata": {},
   "outputs": [],
   "source": [
    "from sklearn.preprocessing import PowerTransformer"
   ]
  },
  {
   "cell_type": "code",
   "execution_count": 78,
   "id": "90af1b1c",
   "metadata": {},
   "outputs": [
    {
     "data": {
      "text/html": [
       "<div>\n",
       "<style scoped>\n",
       "    .dataframe tbody tr th:only-of-type {\n",
       "        vertical-align: middle;\n",
       "    }\n",
       "\n",
       "    .dataframe tbody tr th {\n",
       "        vertical-align: top;\n",
       "    }\n",
       "\n",
       "    .dataframe thead th {\n",
       "        text-align: right;\n",
       "    }\n",
       "</style>\n",
       "<table border=\"1\" class=\"dataframe\">\n",
       "  <thead>\n",
       "    <tr style=\"text-align: right;\">\n",
       "      <th></th>\n",
       "      <th>Age</th>\n",
       "      <th>Fnlwgt</th>\n",
       "      <th>Hours_per_week</th>\n",
       "    </tr>\n",
       "  </thead>\n",
       "  <tbody>\n",
       "    <tr>\n",
       "      <th>0</th>\n",
       "      <td>0.915570</td>\n",
       "      <td>-1.114171</td>\n",
       "      <td>-2.228173</td>\n",
       "    </tr>\n",
       "    <tr>\n",
       "      <th>1</th>\n",
       "      <td>0.109856</td>\n",
       "      <td>0.427192</td>\n",
       "      <td>-0.053366</td>\n",
       "    </tr>\n",
       "    <tr>\n",
       "      <th>2</th>\n",
       "      <td>1.093043</td>\n",
       "      <td>0.607320</td>\n",
       "      <td>-0.053366</td>\n",
       "    </tr>\n",
       "    <tr>\n",
       "      <th>3</th>\n",
       "      <td>-0.729959</td>\n",
       "      <td>1.487719</td>\n",
       "      <td>-0.053366</td>\n",
       "    </tr>\n",
       "    <tr>\n",
       "      <th>4</th>\n",
       "      <td>0.034167</td>\n",
       "      <td>1.048962</td>\n",
       "      <td>-0.053366</td>\n",
       "    </tr>\n",
       "    <tr>\n",
       "      <th>...</th>\n",
       "      <td>...</td>\n",
       "      <td>...</td>\n",
       "      <td>...</td>\n",
       "    </tr>\n",
       "    <tr>\n",
       "      <th>32555</th>\n",
       "      <td>-0.826095</td>\n",
       "      <td>0.812145</td>\n",
       "      <td>-0.235369</td>\n",
       "    </tr>\n",
       "    <tr>\n",
       "      <th>32556</th>\n",
       "      <td>0.256719</td>\n",
       "      <td>-0.207385</td>\n",
       "      <td>-0.053366</td>\n",
       "    </tr>\n",
       "    <tr>\n",
       "      <th>32557</th>\n",
       "      <td>1.372134</td>\n",
       "      <td>-0.235114</td>\n",
       "      <td>-0.053366</td>\n",
       "    </tr>\n",
       "    <tr>\n",
       "      <th>32558</th>\n",
       "      <td>-1.352384</td>\n",
       "      <td>0.288776</td>\n",
       "      <td>-1.732436</td>\n",
       "    </tr>\n",
       "    <tr>\n",
       "      <th>32559</th>\n",
       "      <td>1.034776</td>\n",
       "      <td>1.077275</td>\n",
       "      <td>-0.053366</td>\n",
       "    </tr>\n",
       "  </tbody>\n",
       "</table>\n",
       "<p>31461 rows × 3 columns</p>\n",
       "</div>"
      ],
      "text/plain": [
       "            Age    Fnlwgt  Hours_per_week\n",
       "0      0.915570 -1.114171       -2.228173\n",
       "1      0.109856  0.427192       -0.053366\n",
       "2      1.093043  0.607320       -0.053366\n",
       "3     -0.729959  1.487719       -0.053366\n",
       "4      0.034167  1.048962       -0.053366\n",
       "...         ...       ...             ...\n",
       "32555 -0.826095  0.812145       -0.235369\n",
       "32556  0.256719 -0.207385       -0.053366\n",
       "32557  1.372134 -0.235114       -0.053366\n",
       "32558 -1.352384  0.288776       -1.732436\n",
       "32559  1.034776  1.077275       -0.053366\n",
       "\n",
       "[31461 rows x 3 columns]"
      ]
     },
     "execution_count": 78,
     "metadata": {},
     "output_type": "execute_result"
    }
   ],
   "source": [
    "columns=['Age', 'Fnlwgt', 'Hours_per_week']\n",
    "census_income[columns]=power_transform(census_income[columns],method='yeo-johnson')\n",
    "census_income[columns]"
   ]
  },
  {
   "cell_type": "code",
   "execution_count": 79,
   "id": "7e555290",
   "metadata": {},
   "outputs": [
    {
     "data": {
      "text/plain": [
       "Age              -0.019700\n",
       "Workclass         0.077358\n",
       "Fnlwgt           -0.034507\n",
       "Education        -0.949556\n",
       "Education_num    -0.159752\n",
       "Marital_status   -0.025162\n",
       "Occupation        0.003278\n",
       "Relationship      0.777721\n",
       "Race             -2.453934\n",
       "Sex              -0.708658\n",
       "Hours_per_week    0.107284\n",
       "Native_country   -4.362026\n",
       "Income            1.205962\n",
       "dtype: float64"
      ]
     },
     "execution_count": 79,
     "metadata": {},
     "output_type": "execute_result"
    }
   ],
   "source": [
    "# To verify if the skewness removed or not:\n",
    "census_income.skew()"
   ]
  },
  {
   "cell_type": "markdown",
   "id": "f2ef09a2",
   "metadata": {},
   "source": [
    "# Data Preprocessing:"
   ]
  },
  {
   "cell_type": "markdown",
   "id": "9bde6fae",
   "metadata": {},
   "source": [
    "**Splitting the training and testing dataset:**"
   ]
  },
  {
   "cell_type": "code",
   "execution_count": 80,
   "id": "234e890e",
   "metadata": {},
   "outputs": [],
   "source": [
    "x=census_income.drop(\"Income\",axis=1)\n",
    "y=census_income[\"Income\"]"
   ]
  },
  {
   "cell_type": "code",
   "execution_count": 81,
   "id": "94c7614d",
   "metadata": {},
   "outputs": [
    {
     "data": {
      "text/plain": [
       "Index(['Age', 'Workclass', 'Fnlwgt', 'Education', 'Education_num',\n",
       "       'Marital_status', 'Occupation', 'Relationship', 'Race', 'Sex',\n",
       "       'Hours_per_week', 'Native_country'],\n",
       "      dtype='object')"
      ]
     },
     "execution_count": 81,
     "metadata": {},
     "output_type": "execute_result"
    }
   ],
   "source": [
    "x.columns"
   ]
  },
  {
   "cell_type": "code",
   "execution_count": 82,
   "id": "2f87b736",
   "metadata": {},
   "outputs": [
    {
     "data": {
      "text/html": [
       "<div>\n",
       "<style scoped>\n",
       "    .dataframe tbody tr th:only-of-type {\n",
       "        vertical-align: middle;\n",
       "    }\n",
       "\n",
       "    .dataframe tbody tr th {\n",
       "        vertical-align: top;\n",
       "    }\n",
       "\n",
       "    .dataframe thead th {\n",
       "        text-align: right;\n",
       "    }\n",
       "</style>\n",
       "<table border=\"1\" class=\"dataframe\">\n",
       "  <thead>\n",
       "    <tr style=\"text-align: right;\">\n",
       "      <th></th>\n",
       "      <th>Age</th>\n",
       "      <th>Workclass</th>\n",
       "      <th>Fnlwgt</th>\n",
       "      <th>Education</th>\n",
       "      <th>Education_num</th>\n",
       "      <th>Marital_status</th>\n",
       "      <th>Occupation</th>\n",
       "      <th>Relationship</th>\n",
       "      <th>Race</th>\n",
       "      <th>Sex</th>\n",
       "      <th>Hours_per_week</th>\n",
       "      <th>Native_country</th>\n",
       "    </tr>\n",
       "  </thead>\n",
       "  <tbody>\n",
       "    <tr>\n",
       "      <th>0</th>\n",
       "      <td>0.915570</td>\n",
       "      <td>5</td>\n",
       "      <td>-1.114171</td>\n",
       "      <td>9</td>\n",
       "      <td>13</td>\n",
       "      <td>2</td>\n",
       "      <td>3</td>\n",
       "      <td>0</td>\n",
       "      <td>4</td>\n",
       "      <td>1</td>\n",
       "      <td>-2.228173</td>\n",
       "      <td>38</td>\n",
       "    </tr>\n",
       "    <tr>\n",
       "      <th>1</th>\n",
       "      <td>0.109856</td>\n",
       "      <td>3</td>\n",
       "      <td>0.427192</td>\n",
       "      <td>11</td>\n",
       "      <td>9</td>\n",
       "      <td>0</td>\n",
       "      <td>5</td>\n",
       "      <td>1</td>\n",
       "      <td>4</td>\n",
       "      <td>1</td>\n",
       "      <td>-0.053366</td>\n",
       "      <td>38</td>\n",
       "    </tr>\n",
       "    <tr>\n",
       "      <th>2</th>\n",
       "      <td>1.093043</td>\n",
       "      <td>3</td>\n",
       "      <td>0.607320</td>\n",
       "      <td>1</td>\n",
       "      <td>7</td>\n",
       "      <td>2</td>\n",
       "      <td>5</td>\n",
       "      <td>0</td>\n",
       "      <td>2</td>\n",
       "      <td>1</td>\n",
       "      <td>-0.053366</td>\n",
       "      <td>38</td>\n",
       "    </tr>\n",
       "    <tr>\n",
       "      <th>3</th>\n",
       "      <td>-0.729959</td>\n",
       "      <td>3</td>\n",
       "      <td>1.487719</td>\n",
       "      <td>9</td>\n",
       "      <td>13</td>\n",
       "      <td>2</td>\n",
       "      <td>9</td>\n",
       "      <td>5</td>\n",
       "      <td>2</td>\n",
       "      <td>0</td>\n",
       "      <td>-0.053366</td>\n",
       "      <td>4</td>\n",
       "    </tr>\n",
       "    <tr>\n",
       "      <th>4</th>\n",
       "      <td>0.034167</td>\n",
       "      <td>3</td>\n",
       "      <td>1.048962</td>\n",
       "      <td>12</td>\n",
       "      <td>14</td>\n",
       "      <td>2</td>\n",
       "      <td>3</td>\n",
       "      <td>5</td>\n",
       "      <td>4</td>\n",
       "      <td>0</td>\n",
       "      <td>-0.053366</td>\n",
       "      <td>38</td>\n",
       "    </tr>\n",
       "  </tbody>\n",
       "</table>\n",
       "</div>"
      ],
      "text/plain": [
       "        Age  Workclass    Fnlwgt  Education  Education_num  Marital_status  \\\n",
       "0  0.915570          5 -1.114171          9             13               2   \n",
       "1  0.109856          3  0.427192         11              9               0   \n",
       "2  1.093043          3  0.607320          1              7               2   \n",
       "3 -0.729959          3  1.487719          9             13               2   \n",
       "4  0.034167          3  1.048962         12             14               2   \n",
       "\n",
       "   Occupation  Relationship  Race  Sex  Hours_per_week  Native_country  \n",
       "0           3             0     4    1       -2.228173              38  \n",
       "1           5             1     4    1       -0.053366              38  \n",
       "2           5             0     2    1       -0.053366              38  \n",
       "3           9             5     2    0       -0.053366               4  \n",
       "4           3             5     4    0       -0.053366              38  "
      ]
     },
     "execution_count": 82,
     "metadata": {},
     "output_type": "execute_result"
    }
   ],
   "source": [
    "x.head()"
   ]
  },
  {
   "cell_type": "code",
   "execution_count": 83,
   "id": "1d492475",
   "metadata": {},
   "outputs": [
    {
     "data": {
      "text/plain": [
       "0    0\n",
       "1    0\n",
       "2    0\n",
       "3    0\n",
       "4    0\n",
       "Name: Income, dtype: int32"
      ]
     },
     "execution_count": 83,
     "metadata": {},
     "output_type": "execute_result"
    }
   ],
   "source": [
    "y.head()"
   ]
  },
  {
   "cell_type": "code",
   "execution_count": 84,
   "id": "42d745f3",
   "metadata": {},
   "outputs": [
    {
     "data": {
      "text/plain": [
       "((31461, 12), (31461,))"
      ]
     },
     "execution_count": 84,
     "metadata": {},
     "output_type": "execute_result"
    }
   ],
   "source": [
    "x.shape, y.shape"
   ]
  },
  {
   "cell_type": "code",
   "execution_count": 85,
   "id": "cd0d20fe",
   "metadata": {},
   "outputs": [
    {
     "data": {
      "text/plain": [
       "0    23853\n",
       "1     7608\n",
       "Name: Income, dtype: int64"
      ]
     },
     "execution_count": 85,
     "metadata": {},
     "output_type": "execute_result"
    }
   ],
   "source": [
    "y.value_counts()\n"
   ]
  },
  {
   "cell_type": "markdown",
   "id": "ec9007ef",
   "metadata": {},
   "source": [
    "**The data is not balanced. So, we will use oversampling method to balance it.**"
   ]
  },
  {
   "cell_type": "markdown",
   "id": "dcdc6ad5",
   "metadata": {},
   "source": [
    "**Oversampling using SMOTE:**"
   ]
  },
  {
   "cell_type": "code",
   "execution_count": 86,
   "id": "380ec0a7",
   "metadata": {},
   "outputs": [],
   "source": [
    "from imblearn import under_sampling, over_sampling\n",
    "from imblearn.over_sampling import SMOTE"
   ]
  },
  {
   "cell_type": "code",
   "execution_count": 87,
   "id": "9167946c",
   "metadata": {},
   "outputs": [],
   "source": [
    "Smote = SMOTE()\n",
    "x, y = Smote.fit_resample(x,y)"
   ]
  },
  {
   "cell_type": "code",
   "execution_count": 88,
   "id": "39455426",
   "metadata": {},
   "outputs": [
    {
     "data": {
      "text/plain": [
       "0    23853\n",
       "1    23853\n",
       "Name: Income, dtype: int64"
      ]
     },
     "execution_count": 88,
     "metadata": {},
     "output_type": "execute_result"
    }
   ],
   "source": [
    "y.value_counts()"
   ]
  },
  {
   "cell_type": "code",
   "execution_count": 89,
   "id": "0a8c9881",
   "metadata": {},
   "outputs": [
    {
     "data": {
      "text/plain": [
       "<AxesSubplot:xlabel='Income', ylabel='count'>"
      ]
     },
     "execution_count": 89,
     "metadata": {},
     "output_type": "execute_result"
    },
    {
     "data": {
      "image/png": "[encoded data removed]",
      "text/plain": [
       "<Figure size 432x288 with 1 Axes>"
      ]
     },
     "metadata": {
      "needs_background": "light"
     },
     "output_type": "display_data"
    }
   ],
   "source": [
    "#checking through visualization also\n",
    "sns.countplot(y)"
   ]
  },
  {
   "cell_type": "markdown",
   "id": "e39cdbec",
   "metadata": {},
   "source": [
    "**Data Scaling:**"
   ]
  },
  {
   "cell_type": "code",
   "execution_count": 90,
   "id": "de63dfa3",
   "metadata": {},
   "outputs": [],
   "source": [
    "scaler = StandardScaler()\n",
    "x = pd.DataFrame(scaler.fit_transform(x), columns = x.columns)"
   ]
  },
  {
   "cell_type": "code",
   "execution_count": 91,
   "id": "245d846a",
   "metadata": {},
   "outputs": [
    {
     "data": {
      "text/html": [
       "<div>\n",
       "<style scoped>\n",
       "    .dataframe tbody tr th:only-of-type {\n",
       "        vertical-align: middle;\n",
       "    }\n",
       "\n",
       "    .dataframe tbody tr th {\n",
       "        vertical-align: top;\n",
       "    }\n",
       "\n",
       "    .dataframe thead th {\n",
       "        text-align: right;\n",
       "    }\n",
       "</style>\n",
       "<table border=\"1\" class=\"dataframe\">\n",
       "  <thead>\n",
       "    <tr style=\"text-align: right;\">\n",
       "      <th></th>\n",
       "      <th>Age</th>\n",
       "      <th>Workclass</th>\n",
       "      <th>Fnlwgt</th>\n",
       "      <th>Education</th>\n",
       "      <th>Education_num</th>\n",
       "      <th>Marital_status</th>\n",
       "      <th>Occupation</th>\n",
       "      <th>Relationship</th>\n",
       "      <th>Race</th>\n",
       "      <th>Sex</th>\n",
       "      <th>Hours_per_week</th>\n",
       "      <th>Native_country</th>\n",
       "    </tr>\n",
       "  </thead>\n",
       "  <tbody>\n",
       "    <tr>\n",
       "      <th>0</th>\n",
       "      <td>0.814434</td>\n",
       "      <td>1.700034</td>\n",
       "      <td>-1.158435</td>\n",
       "      <td>-0.421353</td>\n",
       "      <td>0.930603</td>\n",
       "      <td>-0.311886</td>\n",
       "      <td>-0.800847</td>\n",
       "      <td>-0.729891</td>\n",
       "      <td>0.363963</td>\n",
       "      <td>0.619666</td>\n",
       "      <td>-2.457199</td>\n",
       "      <td>0.244445</td>\n",
       "    </tr>\n",
       "    <tr>\n",
       "      <th>1</th>\n",
       "      <td>-0.061434</td>\n",
       "      <td>-0.059225</td>\n",
       "      <td>0.445128</td>\n",
       "      <td>0.142523</td>\n",
       "      <td>-0.645461</td>\n",
       "      <td>-1.819670</td>\n",
       "      <td>-0.296328</td>\n",
       "      <td>-0.116600</td>\n",
       "      <td>0.363963</td>\n",
       "      <td>0.619666</td>\n",
       "      <td>-0.202854</td>\n",
       "      <td>0.244445</td>\n",
       "    </tr>\n",
       "    <tr>\n",
       "      <th>2</th>\n",
       "      <td>1.007360</td>\n",
       "      <td>-0.059225</td>\n",
       "      <td>0.632526</td>\n",
       "      <td>-2.676859</td>\n",
       "      <td>-1.433492</td>\n",
       "      <td>-0.311886</td>\n",
       "      <td>-0.296328</td>\n",
       "      <td>-0.729891</td>\n",
       "      <td>-2.111367</td>\n",
       "      <td>0.619666</td>\n",
       "      <td>-0.202854</td>\n",
       "      <td>0.244445</td>\n",
       "    </tr>\n",
       "    <tr>\n",
       "      <th>3</th>\n",
       "      <td>-0.974372</td>\n",
       "      <td>-0.059225</td>\n",
       "      <td>1.548452</td>\n",
       "      <td>-0.421353</td>\n",
       "      <td>0.930603</td>\n",
       "      <td>-0.311886</td>\n",
       "      <td>0.712710</td>\n",
       "      <td>2.336560</td>\n",
       "      <td>-2.111367</td>\n",
       "      <td>-1.613772</td>\n",
       "      <td>-0.202854</td>\n",
       "      <td>-5.541050</td>\n",
       "    </tr>\n",
       "    <tr>\n",
       "      <th>4</th>\n",
       "      <td>-0.143713</td>\n",
       "      <td>-0.059225</td>\n",
       "      <td>1.091990</td>\n",
       "      <td>0.424462</td>\n",
       "      <td>1.324619</td>\n",
       "      <td>-0.311886</td>\n",
       "      <td>-0.800847</td>\n",
       "      <td>2.336560</td>\n",
       "      <td>0.363963</td>\n",
       "      <td>-1.613772</td>\n",
       "      <td>-0.202854</td>\n",
       "      <td>0.244445</td>\n",
       "    </tr>\n",
       "  </tbody>\n",
       "</table>\n",
       "</div>"
      ],
      "text/plain": [
       "        Age  Workclass    Fnlwgt  Education  Education_num  Marital_status  \\\n",
       "0  0.814434   1.700034 -1.158435  -0.421353       0.930603       -0.311886   \n",
       "1 -0.061434  -0.059225  0.445128   0.142523      -0.645461       -1.819670   \n",
       "2  1.007360  -0.059225  0.632526  -2.676859      -1.433492       -0.311886   \n",
       "3 -0.974372  -0.059225  1.548452  -0.421353       0.930603       -0.311886   \n",
       "4 -0.143713  -0.059225  1.091990   0.424462       1.324619       -0.311886   \n",
       "\n",
       "   Occupation  Relationship      Race       Sex  Hours_per_week  \\\n",
       "0   -0.800847     -0.729891  0.363963  0.619666       -2.457199   \n",
       "1   -0.296328     -0.116600  0.363963  0.619666       -0.202854   \n",
       "2   -0.296328     -0.729891 -2.111367  0.619666       -0.202854   \n",
       "3    0.712710      2.336560 -2.111367 -1.613772       -0.202854   \n",
       "4   -0.800847      2.336560  0.363963 -1.613772       -0.202854   \n",
       "\n",
       "   Native_country  \n",
       "0        0.244445  \n",
       "1        0.244445  \n",
       "2        0.244445  \n",
       "3       -5.541050  \n",
       "4        0.244445  "
      ]
     },
     "execution_count": 91,
     "metadata": {},
     "output_type": "execute_result"
    }
   ],
   "source": [
    "x.head()"
   ]
  },
  {
   "cell_type": "code",
   "execution_count": 92,
   "id": "1294ba02",
   "metadata": {},
   "outputs": [],
   "source": [
    "x_train,x_test,y_train,y_test=train_test_split(x,y,test_size=.30,random_state=54)"
   ]
  },
  {
   "cell_type": "code",
   "execution_count": 93,
   "id": "a39871ba",
   "metadata": {},
   "outputs": [
    {
     "data": {
      "text/plain": [
       "((47706, 12), (47706,))"
      ]
     },
     "execution_count": 93,
     "metadata": {},
     "output_type": "execute_result"
    }
   ],
   "source": [
    "x.shape, y.shape"
   ]
  },
  {
   "cell_type": "code",
   "execution_count": 94,
   "id": "e8134fee",
   "metadata": {},
   "outputs": [
    {
     "data": {
      "text/plain": [
       "((33394, 12), (33394,), (14312, 12), (14312,))"
      ]
     },
     "execution_count": 94,
     "metadata": {},
     "output_type": "execute_result"
    }
   ],
   "source": [
    "x_train.shape,y_train.shape, x_test.shape,y_test.shape"
   ]
  },
  {
   "cell_type": "markdown",
   "id": "ea42a260",
   "metadata": {},
   "source": [
    "**Logistic Regression:**"
   ]
  },
  {
   "cell_type": "code",
   "execution_count": 95,
   "id": "7494b4d5",
   "metadata": {},
   "outputs": [],
   "source": [
    "from sklearn.metrics import confusion_matrix"
   ]
  },
  {
   "cell_type": "code",
   "execution_count": 96,
   "id": "7cf7bb2d",
   "metadata": {},
   "outputs": [
    {
     "name": "stdout",
     "output_type": "stream",
     "text": [
      "accuracy_score:  0.7487423141419788\n",
      "confusion_matrix: \n",
      " [[5229 1972]\n",
      " [1624 5487]]\n",
      "classification_report: \n",
      "               precision    recall  f1-score   support\n",
      "\n",
      "           0       0.76      0.73      0.74      7201\n",
      "           1       0.74      0.77      0.75      7111\n",
      "\n",
      "    accuracy                           0.75     14312\n",
      "   macro avg       0.75      0.75      0.75     14312\n",
      "weighted avg       0.75      0.75      0.75     14312\n",
      "\n"
     ]
    }
   ],
   "source": [
    "lr=LogisticRegression()\n",
    "lr.fit(x_train,y_train)\n",
    "pred_lr=lr.predict(x_test)\n",
    "\n",
    "print(\"accuracy_score: \", accuracy_score(y_test, pred_lr))\n",
    "print(\"confusion_matrix: \\n\", confusion_matrix(y_test, pred_lr))\n",
    "print(\"classification_report: \\n\", classification_report(y_test,pred_lr))"
   ]
  },
  {
   "cell_type": "code",
   "execution_count": 97,
   "id": "c76e5f95",
   "metadata": {},
   "outputs": [],
   "source": [
    "from sklearn.ensemble import RandomForestClassifier\n",
    "from sklearn.svm import SVC\n",
    "from sklearn.neighbors import KNeighborsClassifier as KNN"
   ]
  },
  {
   "cell_type": "markdown",
   "id": "4107e31b",
   "metadata": {},
   "source": [
    "**Random Forest Classifier:**"
   ]
  },
  {
   "cell_type": "code",
   "execution_count": 98,
   "id": "d8d74cc1",
   "metadata": {},
   "outputs": [
    {
     "name": "stdout",
     "output_type": "stream",
     "text": [
      "accuracy_score:  0.8684320849636669\n",
      "confusion_matrix: \n",
      " [[6103 1098]\n",
      " [ 785 6326]]\n",
      "classification_report: \n",
      "               precision    recall  f1-score   support\n",
      "\n",
      "           0       0.89      0.85      0.87      7201\n",
      "           1       0.85      0.89      0.87      7111\n",
      "\n",
      "    accuracy                           0.87     14312\n",
      "   macro avg       0.87      0.87      0.87     14312\n",
      "weighted avg       0.87      0.87      0.87     14312\n",
      "\n"
     ]
    }
   ],
   "source": [
    "rfc = RandomForestClassifier(n_estimators=100)\n",
    "rfc.fit(x_train,y_train)\n",
    "pred_rfc = rfc.predict(x_test)\n",
    "\n",
    "print(\"accuracy_score: \",accuracy_score(y_test, pred_rfc))\n",
    "print(\"confusion_matrix: \\n\",confusion_matrix(y_test, pred_rfc))\n",
    "print(\"classification_report: \\n\",classification_report(y_test,pred_rfc))"
   ]
  },
  {
   "cell_type": "markdown",
   "id": "32bf1f8f",
   "metadata": {},
   "source": [
    "**Decision Tree Classifier**"
   ]
  },
  {
   "cell_type": "code",
   "execution_count": 99,
   "id": "31828a32",
   "metadata": {},
   "outputs": [],
   "source": [
    "from sklearn.tree import DecisionTreeClassifier"
   ]
  },
  {
   "cell_type": "code",
   "execution_count": 100,
   "id": "8d61d7c9",
   "metadata": {},
   "outputs": [
    {
     "name": "stdout",
     "output_type": "stream",
     "text": [
      "accuracy_score:  0.8137926215762996\n",
      "confusion_matrix: \n",
      " [[5849 1352]\n",
      " [1313 5798]]\n",
      "classification_report: \n",
      "               precision    recall  f1-score   support\n",
      "\n",
      "           0       0.82      0.81      0.81      7201\n",
      "           1       0.81      0.82      0.81      7111\n",
      "\n",
      "    accuracy                           0.81     14312\n",
      "   macro avg       0.81      0.81      0.81     14312\n",
      "weighted avg       0.81      0.81      0.81     14312\n",
      "\n"
     ]
    }
   ],
   "source": [
    "dtc = DecisionTreeClassifier()\n",
    "dtc.fit(x_train,y_train)\n",
    "pred_dtc = dtc.predict(x_test)\n",
    "\n",
    "print(\"accuracy_score: \",accuracy_score(y_test, pred_dtc))\n",
    "print(\"confusion_matrix: \\n\",confusion_matrix(y_test, pred_dtc))\n",
    "\n",
    "print(\"classification_report: \\n\",classification_report(y_test,pred_dtc))"
   ]
  },
  {
   "cell_type": "markdown",
   "id": "a738bd9c",
   "metadata": {},
   "source": [
    "**Support Vector Machine Classifier**"
   ]
  },
  {
   "cell_type": "code",
   "execution_count": 101,
   "id": "8cac4537",
   "metadata": {},
   "outputs": [
    {
     "name": "stdout",
     "output_type": "stream",
     "text": [
      "accuracy_score:  0.7544019005030743\n",
      "confusion_matrix: \n",
      " [[5098 2103]\n",
      " [1412 5699]]\n",
      "classification_report: \n",
      "               precision    recall  f1-score   support\n",
      "\n",
      "           0       0.78      0.71      0.74      7201\n",
      "           1       0.73      0.80      0.76      7111\n",
      "\n",
      "    accuracy                           0.75     14312\n",
      "   macro avg       0.76      0.75      0.75     14312\n",
      "weighted avg       0.76      0.75      0.75     14312\n",
      "\n"
     ]
    }
   ],
   "source": [
    "svc = SVC(kernel='linear', gamma=3)\n",
    "svc.fit(x_train,y_train)\n",
    "pred_svc = svc.predict(x_test)\n",
    "\n",
    "print(\"accuracy_score: \", accuracy_score(y_test, pred_svc))\n",
    "print(\"confusion_matrix: \\n\", confusion_matrix(y_test, pred_svc))\n",
    "print(\"classification_report: \\n\", classification_report(y_test,pred_svc))"
   ]
  },
  {
   "cell_type": "markdown",
   "id": "cdf492a2",
   "metadata": {},
   "source": [
    "**KNN Classifier**"
   ]
  },
  {
   "cell_type": "code",
   "execution_count": 102,
   "id": "80c66c7c",
   "metadata": {},
   "outputs": [
    {
     "name": "stdout",
     "output_type": "stream",
     "text": [
      "accuracy_score:  0.835103409726104\n",
      "confusion_matrix: \n",
      " [[5545 1656]\n",
      " [ 704 6407]]\n",
      "classification_report: \n",
      "               precision    recall  f1-score   support\n",
      "\n",
      "           0       0.89      0.77      0.82      7201\n",
      "           1       0.79      0.90      0.84      7111\n",
      "\n",
      "    accuracy                           0.84     14312\n",
      "   macro avg       0.84      0.84      0.83     14312\n",
      "weighted avg       0.84      0.84      0.83     14312\n",
      "\n"
     ]
    }
   ],
   "source": [
    "knn = KNN()\n",
    "knn.fit(x_train,y_train)\n",
    "pred_knn = knn.predict(x_test)\n",
    "\n",
    "print(\"accuracy_score: \",accuracy_score(y_test, pred_knn))\n",
    "print(\"confusion_matrix: \\n\",confusion_matrix(y_test, pred_knn))\n",
    "print(\"classification_report: \\n\",classification_report(y_test,pred_knn))"
   ]
  },
  {
   "cell_type": "code",
   "execution_count": 103,
   "id": "ed0ff1d7",
   "metadata": {},
   "outputs": [
    {
     "name": "stdout",
     "output_type": "stream",
     "text": [
      "CV score for Logistic Regression:  0.7500106623202216\n"
     ]
    }
   ],
   "source": [
    "print('CV score for Logistic Regression: ',cross_val_score(lr,x,y,cv=5).mean())\n"
   ]
  },
  {
   "cell_type": "code",
   "execution_count": 104,
   "id": "0d9a5707",
   "metadata": {},
   "outputs": [
    {
     "name": "stdout",
     "output_type": "stream",
     "text": [
      "CV score for Random forest Classifier:  0.8760543356320023\n"
     ]
    }
   ],
   "source": [
    "print('CV score for Random forest Classifier: ',cross_val_score(rfc,x,y,cv=5).mean())"
   ]
  },
  {
   "cell_type": "code",
   "execution_count": 105,
   "id": "926cef15",
   "metadata": {},
   "outputs": [
    {
     "name": "stdout",
     "output_type": "stream",
     "text": [
      "CV score for Decision Tree Classifier:  0.8213868063722428\n"
     ]
    }
   ],
   "source": [
    "print('CV score for Decision Tree Classifier: ',cross_val_score(dtc,x,y,cv=5).mean())"
   ]
  },
  {
   "cell_type": "markdown",
   "id": "ce9fe32a",
   "metadata": {},
   "source": [
    "**So we observed that on the Basis of  Accuracy Score ,Cross-validation Score and performance of the model. we will go ahead with the  Random Forest Classifier.**"
   ]
  },
  {
   "cell_type": "code",
   "execution_count": 121,
   "id": "84db8cb3",
   "metadata": {},
   "outputs": [
    {
     "data": {
      "text/plain": [
       "RandomForestClassifier(random_state=30)"
      ]
     },
     "execution_count": 121,
     "metadata": {},
     "output_type": "execute_result"
    }
   ],
   "source": [
    "rfc.fit(x_train, y_train)"
   ]
  },
  {
   "cell_type": "code",
   "execution_count": 123,
   "id": "ab339358",
   "metadata": {},
   "outputs": [
    {
     "data": {
      "text/html": [
       "<div>\n",
       "<style scoped>\n",
       "    .dataframe tbody tr th:only-of-type {\n",
       "        vertical-align: middle;\n",
       "    }\n",
       "\n",
       "    .dataframe tbody tr th {\n",
       "        vertical-align: top;\n",
       "    }\n",
       "\n",
       "    .dataframe thead th {\n",
       "        text-align: right;\n",
       "    }\n",
       "</style>\n",
       "<table border=\"1\" class=\"dataframe\">\n",
       "  <thead>\n",
       "    <tr style=\"text-align: right;\">\n",
       "      <th></th>\n",
       "      <th>Orginal</th>\n",
       "      <th>Predicted</th>\n",
       "    </tr>\n",
       "  </thead>\n",
       "  <tbody>\n",
       "    <tr>\n",
       "      <th>0</th>\n",
       "      <td>1</td>\n",
       "      <td>0</td>\n",
       "    </tr>\n",
       "    <tr>\n",
       "      <th>1</th>\n",
       "      <td>0</td>\n",
       "      <td>0</td>\n",
       "    </tr>\n",
       "    <tr>\n",
       "      <th>2</th>\n",
       "      <td>0</td>\n",
       "      <td>0</td>\n",
       "    </tr>\n",
       "    <tr>\n",
       "      <th>3</th>\n",
       "      <td>1</td>\n",
       "      <td>1</td>\n",
       "    </tr>\n",
       "    <tr>\n",
       "      <th>4</th>\n",
       "      <td>1</td>\n",
       "      <td>0</td>\n",
       "    </tr>\n",
       "    <tr>\n",
       "      <th>...</th>\n",
       "      <td>...</td>\n",
       "      <td>...</td>\n",
       "    </tr>\n",
       "    <tr>\n",
       "      <th>14307</th>\n",
       "      <td>1</td>\n",
       "      <td>1</td>\n",
       "    </tr>\n",
       "    <tr>\n",
       "      <th>14308</th>\n",
       "      <td>1</td>\n",
       "      <td>1</td>\n",
       "    </tr>\n",
       "    <tr>\n",
       "      <th>14309</th>\n",
       "      <td>1</td>\n",
       "      <td>1</td>\n",
       "    </tr>\n",
       "    <tr>\n",
       "      <th>14310</th>\n",
       "      <td>1</td>\n",
       "      <td>1</td>\n",
       "    </tr>\n",
       "    <tr>\n",
       "      <th>14311</th>\n",
       "      <td>1</td>\n",
       "      <td>1</td>\n",
       "    </tr>\n",
       "  </tbody>\n",
       "</table>\n",
       "<p>14312 rows × 2 columns</p>\n",
       "</div>"
      ],
      "text/plain": [
       "       Orginal  Predicted\n",
       "0            1          0\n",
       "1            0          0\n",
       "2            0          0\n",
       "3            1          1\n",
       "4            1          0\n",
       "...        ...        ...\n",
       "14307        1          1\n",
       "14308        1          1\n",
       "14309        1          1\n",
       "14310        1          1\n",
       "14311        1          1\n",
       "\n",
       "[14312 rows x 2 columns]"
      ]
     },
     "execution_count": 123,
     "metadata": {},
     "output_type": "execute_result"
    }
   ],
   "source": [
    "# Comparing Predicted and actual values:\n",
    "a =np.array(y_test)\n",
    "predicted=np.array(rfc.predict(x_test))\n",
    "Census_Income_=pd.DataFrame({'Orginal':a,'Predicted':predicted}, index=range(len(a)))\n",
    "Census_Income_"
   ]
  },
  {
   "cell_type": "code",
   "execution_count": 124,
   "id": "144c228e",
   "metadata": {},
   "outputs": [],
   "source": [
    "# Saving the Output in csv format:\n",
    "Output =Census_Income_.to_csv('Census_Income_.csv')\n",
    "Output"
   ]
  },
  {
   "cell_type": "markdown",
   "id": "6a0c68d9",
   "metadata": {},
   "source": [
    "# Conclusion:"
   ]
  },
  {
   "cell_type": "markdown",
   "id": "81b4f960",
   "metadata": {},
   "source": [
    "**We got the cross validation score of 87% using random forest classifier , which is quite satisfying . Achieving this much of score indicates that model is predicting quite good.**"
   ]
  }
 ],
 "metadata": {
  "kernelspec": {
   "display_name": "Python 3 (ipykernel)",
   "language": "python",
   "name": "python3"
  },
  "language_info": {
   "codemirror_mode": {
    "name": "ipython",
    "version": 3
   },
   "file_extension": ".py",
   "mimetype": "text/x-python",
   "name": "python",
   "nbconvert_exporter": "python",
   "pygments_lexer": "ipython3",
   "version": "3.9.12"
  }
 },
 "nbformat": 4,
 "nbformat_minor": 5
}
