{
 "cells": [
  {
   "cell_type": "markdown",
   "id": "0a46ef10",
   "metadata": {},
   "source": [
    "# Evaluation Project 4 : Global Power Plant"
   ]
  },
  {
   "cell_type": "markdown",
   "id": "4af906ca",
   "metadata": {},
   "source": [
    "**Project Description**\n",
    "\n",
    "The Global Power Plant Database is a comprehensive, open source database of power plants around the world. It centralizes power plant data to make it easier to navigate, compare and draw insights for one’s own analysis. The database covers approximately 35,000 power plants from 167 countries and includes thermal plants (e.g. coal, gas, oil, nuclear, biomass, waste, geothermal) and renewables (e.g. hydro, wind, solar). Each power plant is geolocated and entries contain information on plant capacity, generation, ownership, and fuel type. It will be continuously updated as data becomes available.\n",
    "\n",
    "**The database includes the following indicators:**\n",
    "\n",
    "         country (text): 3 character country code corresponding to the ISO 3166-1 alpha-3 specification [5]\n",
    "         country_long (text): longer form of the country designation\n",
    "         name (text): name or title of the power plant, generally in Romanized form\n",
    "         gppd_idnr (text): 10 or 12 character identifier for the power plant\n",
    "         capacity_mw (number): electrical generating capacity in megawatts\n",
    "         latitude (number): geolocation in decimal degrees; WGS84 (EPSG:4326)\n",
    "         longitude (number): geolocation in decimal degrees; WGS84 (EPSG:4326)\n",
    "         primary_fuel (text): energy source used in primary electricity generation or export\n",
    "         other_fuel1 (text): energy source used in electricity generation or export\n",
    "         other_fuel2 (text): energy source used in electricity generation or export\n",
    "         other_fuel3 (text): energy source used in electricity generation or export\n",
    "         commissioning_year (number): year of plant operation, weighted by unit-capacity when data is available\n",
    "         owner (text): majority shareholder of the power plant, generally in Romanized form\n",
    "         source (text): entity reporting the data; could be an organization, report, or document, generally in Romanized formurl(text): web document corresponding to the source field\n",
    "         geolocation_source (text): attribution for geolocation information\n",
    "         wepp_id (text): a reference to a unique plant identifier in the widely-used PLATTS-WEPP database.\n",
    "         year_of_capacity_data (number): year the capacity information was reported\n",
    "         generation_gwh_2013 (number): electricity generation in gigawatt-hours reported for the year 2013\n",
    "         generation_gwh_2014 (number): electricity generation in gigawatt-hours reported for the year 2014\n",
    "         generation_gwh_2015 (number): electricity generation in gigawatt-hours reported for the year 2015\n",
    "         generation_gwh_2016 (number): electricity generation in gigawatt-hours reported for the year 2016\n",
    "         generation_gwh_2017 (number): electricity generation in gigawatt-hours reported for the year 2017\n",
    "         generation_gwh_2018 (number): electricity generation in gigawatt-hours reported for the year 2018\n",
    "         generation_gwh_2019 (number): electricity generation in gigawatt-hours reported for the year 2019\n",
    "         generation_data_source (text): attribution for the reported generation information\n",
    "         estimated_generation_gwh_2013 (number): estimated electricity generation in gigawatt-hours for the year 2013\n",
    "         estimated_generation_gwh_2014 (number): estimated electricity generation in gigawatt-hours for the year 2014\n",
    "         estimated_generation_gwh_2015 (number): estimated electricity generation in gigawatt-hours for the year 2015\n",
    "         estimated_generation_gwh_2016 (number): estimated electricity generation in gigawatt-hours for the year 2016\n",
    "         estimated_generation_gwh_2017 (number): estimated electricity generation in gigawatt-hours for the year 2017\n",
    "        'estimated_generation_note_2013` (text): label of the model/method used to estimate generation for the year 2013\n",
    "         estimated_generation_note_2014 (text): label of the model/method used to estimate generation for the year 2014\n",
    "         estimated_generation_note_2015 (text): label of the model/method used to estimate generation for the year 2015\n",
    "         estimated_generation_note_2016 (text): label of the model/method used to estimate generation for the year 2016\n",
    "         estimated_generation_note_2017 (text): label of the model/method used to estimate generation for the year 2017"
   ]
  },
  {
   "cell_type": "markdown",
   "id": "1825f442",
   "metadata": {},
   "source": [
    "**Fuel Type Aggregation**\n",
    "\n",
    "We define the \"Fuel Type\" attribute of our database based on common fuel categories.\n",
    "\n",
    "Prediction :\n",
    "\n",
    "Make two prediction : 1) Primary Fuel 2) capacity_mw"
   ]
  },
  {
   "cell_type": "code",
   "execution_count": 2,
   "id": "5ae9f531",
   "metadata": {},
   "outputs": [],
   "source": [
    "# Importing Necessary Libraries:\n",
    "\n",
    "import pandas as pd\n",
    "import numpy as np\n",
    "import matplotlib.pyplot as plt\n",
    "import seaborn as sns\n",
    "from scipy.stats import zscore\n",
    "from sklearn.preprocessing  import power_transform, StandardScaler\n",
    "from sklearn.feature_selection import VarianceThreshold, SelectKBest, f_classif\n",
    "from statsmodels.stats.outliers_influence import variance_inflation_factor\n",
    "from sklearn.model_selection import train_test_split, GridSearchCV,cross_val_score\n",
    "from sklearn.linear_model import LogisticRegression,LinearRegression, SGDRegressor,Ridge, Lasso\n",
    "from sklearn.metrics import roc_curve, auc, roc_auc_score, r2_score, classification_report, mean_absolute_error, mean_squared_error\n",
    "from sklearn.ensemble import RandomForestRegressor, GradientBoostingRegressor \n",
    "from sklearn.tree import DecisionTreeRegressor\n",
    "from sklearn.neighbors import KNeighborsRegressor \n",
    "from sklearn.svm import SVR\n",
    "import pickle\n",
    "import warnings\n",
    "warnings.filterwarnings('ignore')"
   ]
  },
  {
   "cell_type": "code",
   "execution_count": 3,
   "id": "6bb62c7a",
   "metadata": {},
   "outputs": [],
   "source": [
    "# Importing the Dataset:\n",
    "\n",
    "power_plant=pd.read_csv(\"https://raw.githubusercontent.com/wri/global-power-plant-database/master/source_databases_csv/database_IND.csv\")"
   ]
  },
  {
   "cell_type": "code",
   "execution_count": 4,
   "id": "f8e23050",
   "metadata": {},
   "outputs": [
    {
     "data": {
      "text/html": [
       "<div>\n",
       "<style scoped>\n",
       "    .dataframe tbody tr th:only-of-type {\n",
       "        vertical-align: middle;\n",
       "    }\n",
       "\n",
       "    .dataframe tbody tr th {\n",
       "        vertical-align: top;\n",
       "    }\n",
       "\n",
       "    .dataframe thead th {\n",
       "        text-align: right;\n",
       "    }\n",
       "</style>\n",
       "<table border=\"1\" class=\"dataframe\">\n",
       "  <thead>\n",
       "    <tr style=\"text-align: right;\">\n",
       "      <th></th>\n",
       "      <th>country</th>\n",
       "      <th>country_long</th>\n",
       "      <th>name</th>\n",
       "      <th>gppd_idnr</th>\n",
       "      <th>capacity_mw</th>\n",
       "      <th>latitude</th>\n",
       "      <th>longitude</th>\n",
       "      <th>primary_fuel</th>\n",
       "      <th>other_fuel1</th>\n",
       "      <th>other_fuel2</th>\n",
       "      <th>...</th>\n",
       "      <th>year_of_capacity_data</th>\n",
       "      <th>generation_gwh_2013</th>\n",
       "      <th>generation_gwh_2014</th>\n",
       "      <th>generation_gwh_2015</th>\n",
       "      <th>generation_gwh_2016</th>\n",
       "      <th>generation_gwh_2017</th>\n",
       "      <th>generation_gwh_2018</th>\n",
       "      <th>generation_gwh_2019</th>\n",
       "      <th>generation_data_source</th>\n",
       "      <th>estimated_generation_gwh</th>\n",
       "    </tr>\n",
       "  </thead>\n",
       "  <tbody>\n",
       "    <tr>\n",
       "      <th>0</th>\n",
       "      <td>IND</td>\n",
       "      <td>India</td>\n",
       "      <td>ACME Solar Tower</td>\n",
       "      <td>WRI1020239</td>\n",
       "      <td>2.5</td>\n",
       "      <td>28.1839</td>\n",
       "      <td>73.2407</td>\n",
       "      <td>Solar</td>\n",
       "      <td>NaN</td>\n",
       "      <td>NaN</td>\n",
       "      <td>...</td>\n",
       "      <td>NaN</td>\n",
       "      <td>NaN</td>\n",
       "      <td>NaN</td>\n",
       "      <td>NaN</td>\n",
       "      <td>NaN</td>\n",
       "      <td>NaN</td>\n",
       "      <td>NaN</td>\n",
       "      <td>NaN</td>\n",
       "      <td>NaN</td>\n",
       "      <td>NaN</td>\n",
       "    </tr>\n",
       "    <tr>\n",
       "      <th>1</th>\n",
       "      <td>IND</td>\n",
       "      <td>India</td>\n",
       "      <td>ADITYA CEMENT WORKS</td>\n",
       "      <td>WRI1019881</td>\n",
       "      <td>98.0</td>\n",
       "      <td>24.7663</td>\n",
       "      <td>74.6090</td>\n",
       "      <td>Coal</td>\n",
       "      <td>NaN</td>\n",
       "      <td>NaN</td>\n",
       "      <td>...</td>\n",
       "      <td>NaN</td>\n",
       "      <td>NaN</td>\n",
       "      <td>NaN</td>\n",
       "      <td>NaN</td>\n",
       "      <td>NaN</td>\n",
       "      <td>NaN</td>\n",
       "      <td>NaN</td>\n",
       "      <td>NaN</td>\n",
       "      <td>NaN</td>\n",
       "      <td>NaN</td>\n",
       "    </tr>\n",
       "    <tr>\n",
       "      <th>2</th>\n",
       "      <td>IND</td>\n",
       "      <td>India</td>\n",
       "      <td>AES Saurashtra Windfarms</td>\n",
       "      <td>WRI1026669</td>\n",
       "      <td>39.2</td>\n",
       "      <td>21.9038</td>\n",
       "      <td>69.3732</td>\n",
       "      <td>Wind</td>\n",
       "      <td>NaN</td>\n",
       "      <td>NaN</td>\n",
       "      <td>...</td>\n",
       "      <td>NaN</td>\n",
       "      <td>NaN</td>\n",
       "      <td>NaN</td>\n",
       "      <td>NaN</td>\n",
       "      <td>NaN</td>\n",
       "      <td>NaN</td>\n",
       "      <td>NaN</td>\n",
       "      <td>NaN</td>\n",
       "      <td>NaN</td>\n",
       "      <td>NaN</td>\n",
       "    </tr>\n",
       "    <tr>\n",
       "      <th>3</th>\n",
       "      <td>IND</td>\n",
       "      <td>India</td>\n",
       "      <td>AGARTALA GT</td>\n",
       "      <td>IND0000001</td>\n",
       "      <td>135.0</td>\n",
       "      <td>23.8712</td>\n",
       "      <td>91.3602</td>\n",
       "      <td>Gas</td>\n",
       "      <td>NaN</td>\n",
       "      <td>NaN</td>\n",
       "      <td>...</td>\n",
       "      <td>2019.0</td>\n",
       "      <td>NaN</td>\n",
       "      <td>617.789264</td>\n",
       "      <td>843.747</td>\n",
       "      <td>886.004428</td>\n",
       "      <td>663.774500</td>\n",
       "      <td>626.239128</td>\n",
       "      <td>NaN</td>\n",
       "      <td>Central Electricity Authority</td>\n",
       "      <td>NaN</td>\n",
       "    </tr>\n",
       "    <tr>\n",
       "      <th>4</th>\n",
       "      <td>IND</td>\n",
       "      <td>India</td>\n",
       "      <td>AKALTARA TPP</td>\n",
       "      <td>IND0000002</td>\n",
       "      <td>1800.0</td>\n",
       "      <td>21.9603</td>\n",
       "      <td>82.4091</td>\n",
       "      <td>Coal</td>\n",
       "      <td>Oil</td>\n",
       "      <td>NaN</td>\n",
       "      <td>...</td>\n",
       "      <td>2019.0</td>\n",
       "      <td>NaN</td>\n",
       "      <td>3035.550000</td>\n",
       "      <td>5916.370</td>\n",
       "      <td>6243.000000</td>\n",
       "      <td>5385.579736</td>\n",
       "      <td>7279.000000</td>\n",
       "      <td>NaN</td>\n",
       "      <td>Central Electricity Authority</td>\n",
       "      <td>NaN</td>\n",
       "    </tr>\n",
       "  </tbody>\n",
       "</table>\n",
       "<p>5 rows × 27 columns</p>\n",
       "</div>"
      ],
      "text/plain": [
       "  country country_long                      name   gppd_idnr  capacity_mw  \\\n",
       "0     IND        India          ACME Solar Tower  WRI1020239          2.5   \n",
       "1     IND        India       ADITYA CEMENT WORKS  WRI1019881         98.0   \n",
       "2     IND        India  AES Saurashtra Windfarms  WRI1026669         39.2   \n",
       "3     IND        India               AGARTALA GT  IND0000001        135.0   \n",
       "4     IND        India              AKALTARA TPP  IND0000002       1800.0   \n",
       "\n",
       "   latitude  longitude primary_fuel other_fuel1 other_fuel2  ...  \\\n",
       "0   28.1839    73.2407        Solar         NaN         NaN  ...   \n",
       "1   24.7663    74.6090         Coal         NaN         NaN  ...   \n",
       "2   21.9038    69.3732         Wind         NaN         NaN  ...   \n",
       "3   23.8712    91.3602          Gas         NaN         NaN  ...   \n",
       "4   21.9603    82.4091         Coal         Oil         NaN  ...   \n",
       "\n",
       "   year_of_capacity_data  generation_gwh_2013 generation_gwh_2014  \\\n",
       "0                    NaN                  NaN                 NaN   \n",
       "1                    NaN                  NaN                 NaN   \n",
       "2                    NaN                  NaN                 NaN   \n",
       "3                 2019.0                  NaN          617.789264   \n",
       "4                 2019.0                  NaN         3035.550000   \n",
       "\n",
       "  generation_gwh_2015 generation_gwh_2016 generation_gwh_2017  \\\n",
       "0                 NaN                 NaN                 NaN   \n",
       "1                 NaN                 NaN                 NaN   \n",
       "2                 NaN                 NaN                 NaN   \n",
       "3             843.747          886.004428          663.774500   \n",
       "4            5916.370         6243.000000         5385.579736   \n",
       "\n",
       "   generation_gwh_2018  generation_gwh_2019         generation_data_source  \\\n",
       "0                  NaN                  NaN                            NaN   \n",
       "1                  NaN                  NaN                            NaN   \n",
       "2                  NaN                  NaN                            NaN   \n",
       "3           626.239128                  NaN  Central Electricity Authority   \n",
       "4          7279.000000                  NaN  Central Electricity Authority   \n",
       "\n",
       "   estimated_generation_gwh  \n",
       "0                       NaN  \n",
       "1                       NaN  \n",
       "2                       NaN  \n",
       "3                       NaN  \n",
       "4                       NaN  \n",
       "\n",
       "[5 rows x 27 columns]"
      ]
     },
     "execution_count": 4,
     "metadata": {},
     "output_type": "execute_result"
    }
   ],
   "source": [
    "# To Display top 5 rows:\n",
    "power_plant.head()\n"
   ]
  },
  {
   "cell_type": "code",
   "execution_count": 5,
   "id": "31fd9fec",
   "metadata": {},
   "outputs": [
    {
     "data": {
      "text/plain": [
       "(907, 27)"
      ]
     },
     "execution_count": 5,
     "metadata": {},
     "output_type": "execute_result"
    }
   ],
   "source": [
    "# To display total number of rows and columns:\n",
    "power_plant.shape"
   ]
  },
  {
   "cell_type": "markdown",
   "id": "7882ccb2",
   "metadata": {},
   "source": [
    "**There are 907 rows and 27 column.**"
   ]
  },
  {
   "cell_type": "code",
   "execution_count": 6,
   "id": "3b671189",
   "metadata": {},
   "outputs": [
    {
     "data": {
      "text/plain": [
       "Index(['country', 'country_long', 'name', 'gppd_idnr', 'capacity_mw',\n",
       "       'latitude', 'longitude', 'primary_fuel', 'other_fuel1', 'other_fuel2',\n",
       "       'other_fuel3', 'commissioning_year', 'owner', 'source', 'url',\n",
       "       'geolocation_source', 'wepp_id', 'year_of_capacity_data',\n",
       "       'generation_gwh_2013', 'generation_gwh_2014', 'generation_gwh_2015',\n",
       "       'generation_gwh_2016', 'generation_gwh_2017', 'generation_gwh_2018',\n",
       "       'generation_gwh_2019', 'generation_data_source',\n",
       "       'estimated_generation_gwh'],\n",
       "      dtype='object')"
      ]
     },
     "execution_count": 6,
     "metadata": {},
     "output_type": "execute_result"
    }
   ],
   "source": [
    "# To display all the columns:\n",
    "power_plant.columns"
   ]
  },
  {
   "cell_type": "code",
   "execution_count": 8,
   "id": "d8a616d0",
   "metadata": {},
   "outputs": [
    {
     "data": {
      "text/plain": [
       "country                      object\n",
       "country_long                 object\n",
       "name                         object\n",
       "gppd_idnr                    object\n",
       "capacity_mw                 float64\n",
       "latitude                    float64\n",
       "longitude                   float64\n",
       "primary_fuel                 object\n",
       "other_fuel1                  object\n",
       "other_fuel2                  object\n",
       "other_fuel3                 float64\n",
       "commissioning_year          float64\n",
       "owner                        object\n",
       "source                       object\n",
       "url                          object\n",
       "geolocation_source           object\n",
       "wepp_id                     float64\n",
       "year_of_capacity_data       float64\n",
       "generation_gwh_2013         float64\n",
       "generation_gwh_2014         float64\n",
       "generation_gwh_2015         float64\n",
       "generation_gwh_2016         float64\n",
       "generation_gwh_2017         float64\n",
       "generation_gwh_2018         float64\n",
       "generation_gwh_2019         float64\n",
       "generation_data_source       object\n",
       "estimated_generation_gwh    float64\n",
       "dtype: object"
      ]
     },
     "execution_count": 8,
     "metadata": {},
     "output_type": "execute_result"
    }
   ],
   "source": [
    "# Checking datatypes of all the columns present:\n",
    "power_plant.dtypes"
   ]
  },
  {
   "cell_type": "markdown",
   "id": "fff1e256",
   "metadata": {},
   "source": [
    "**There are float an object datatypes present in this given Dataset.**"
   ]
  },
  {
   "cell_type": "code",
   "execution_count": 9,
   "id": "6d0b033d",
   "metadata": {},
   "outputs": [
    {
     "data": {
      "text/plain": [
       "country                       0\n",
       "country_long                  0\n",
       "name                          0\n",
       "gppd_idnr                     0\n",
       "capacity_mw                   0\n",
       "latitude                     46\n",
       "longitude                    46\n",
       "primary_fuel                  0\n",
       "other_fuel1                 709\n",
       "other_fuel2                 906\n",
       "other_fuel3                 907\n",
       "commissioning_year          380\n",
       "owner                       565\n",
       "source                        0\n",
       "url                           0\n",
       "geolocation_source           19\n",
       "wepp_id                     907\n",
       "year_of_capacity_data       388\n",
       "generation_gwh_2013         907\n",
       "generation_gwh_2014         509\n",
       "generation_gwh_2015         485\n",
       "generation_gwh_2016         473\n",
       "generation_gwh_2017         467\n",
       "generation_gwh_2018         459\n",
       "generation_gwh_2019         907\n",
       "generation_data_source      458\n",
       "estimated_generation_gwh    907\n",
       "dtype: int64"
      ]
     },
     "execution_count": 9,
     "metadata": {},
     "output_type": "execute_result"
    }
   ],
   "source": [
    "# Finding the null values:\n",
    "power_plant.isnull().sum()"
   ]
  },
  {
   "cell_type": "markdown",
   "id": "00d5a1a5",
   "metadata": {},
   "source": [
    "**There are many columns where null values are present . There might be some important features too , so we cannot drop all the columns . We will treat these null values by filling and by dropping some irrelevent columns.**"
   ]
  },
  {
   "cell_type": "code",
   "execution_count": 10,
   "id": "e7e02320",
   "metadata": {},
   "outputs": [
    {
     "name": "stdout",
     "output_type": "stream",
     "text": [
      "<class 'pandas.core.frame.DataFrame'>\n",
      "RangeIndex: 907 entries, 0 to 906\n",
      "Data columns (total 27 columns):\n",
      " #   Column                    Non-Null Count  Dtype  \n",
      "---  ------                    --------------  -----  \n",
      " 0   country                   907 non-null    object \n",
      " 1   country_long              907 non-null    object \n",
      " 2   name                      907 non-null    object \n",
      " 3   gppd_idnr                 907 non-null    object \n",
      " 4   capacity_mw               907 non-null    float64\n",
      " 5   latitude                  861 non-null    float64\n",
      " 6   longitude                 861 non-null    float64\n",
      " 7   primary_fuel              907 non-null    object \n",
      " 8   other_fuel1               198 non-null    object \n",
      " 9   other_fuel2               1 non-null      object \n",
      " 10  other_fuel3               0 non-null      float64\n",
      " 11  commissioning_year        527 non-null    float64\n",
      " 12  owner                     342 non-null    object \n",
      " 13  source                    907 non-null    object \n",
      " 14  url                       907 non-null    object \n",
      " 15  geolocation_source        888 non-null    object \n",
      " 16  wepp_id                   0 non-null      float64\n",
      " 17  year_of_capacity_data     519 non-null    float64\n",
      " 18  generation_gwh_2013       0 non-null      float64\n",
      " 19  generation_gwh_2014       398 non-null    float64\n",
      " 20  generation_gwh_2015       422 non-null    float64\n",
      " 21  generation_gwh_2016       434 non-null    float64\n",
      " 22  generation_gwh_2017       440 non-null    float64\n",
      " 23  generation_gwh_2018       448 non-null    float64\n",
      " 24  generation_gwh_2019       0 non-null      float64\n",
      " 25  generation_data_source    449 non-null    object \n",
      " 26  estimated_generation_gwh  0 non-null      float64\n",
      "dtypes: float64(15), object(12)\n",
      "memory usage: 191.4+ KB\n"
     ]
    }
   ],
   "source": [
    "# To get the brief information of data:\n",
    "power_plant.info()\n"
   ]
  },
  {
   "cell_type": "markdown",
   "id": "6c81dcec",
   "metadata": {},
   "source": [
    "**As we have to predict Target Variable , so let's start working on the Target Variable.**"
   ]
  },
  {
   "cell_type": "code",
   "execution_count": 11,
   "id": "595192b7",
   "metadata": {},
   "outputs": [
    {
     "data": {
      "text/plain": [
       "array(['Solar', 'Coal', 'Wind', 'Gas', 'Hydro', 'Biomass', 'Oil',\n",
       "       'Nuclear'], dtype=object)"
      ]
     },
     "execution_count": 11,
     "metadata": {},
     "output_type": "execute_result"
    }
   ],
   "source": [
    "# To find the unique values in primary_fuel label:\n",
    "power_plant['primary_fuel'].unique()"
   ]
  },
  {
   "cell_type": "code",
   "execution_count": 12,
   "id": "dc12a54f",
   "metadata": {},
   "outputs": [
    {
     "data": {
      "text/plain": [
       "array([2.50000e+00, 9.80000e+01, 3.92000e+01, 1.35000e+02, 1.80000e+03,\n",
       "       2.50000e+02, 6.00000e+01, 1.92000e+02, 2.90000e+02, 2.10000e+02,\n",
       "       1.35000e+03, 1.34000e+02, 1.20000e+03, 1.69500e+01, 9.00000e+00,\n",
       "       2.63000e+03, 4.19330e+02, 6.00000e+02, 1.00000e+01, 1.70000e+01,\n",
       "       2.40000e+01, 6.52000e+02, 4.60000e+01, 5.00000e+01, 1.00000e+00,\n",
       "       1.65000e+01, 1.13600e+02, 1.98000e+01, 1.32000e+01, 5.00000e+00,\n",
       "       7.05000e+02, 2.80000e+01, 4.50000e+02, 1.80000e+02, 1.05000e+03,\n",
       "       5.10000e+02, 6.75000e+01, 3.00000e+02, 3.35000e+02, 1.20000e+01,\n",
       "       3.15000e+02, 3.00000e+01, 2.00000e+01, 4.20000e+01, 7.20000e+02,\n",
       "       9.00000e+01, 1.32000e+03, 1.20000e+02, 6.60000e+01, 2.70000e+02,\n",
       "       2.28000e+01, 1.50000e+01, 2.52000e+01, 1.80000e+01, 1.70000e+03,\n",
       "       2.60000e+01, 4.10000e+01, 1.37900e+03, 3.40000e+01, 1.60000e+01,\n",
       "       5.00000e+02, 8.00000e+01, 7.50000e+01, 1.21000e+03, 9.90000e+01,\n",
       "       6.96000e+01, 6.00000e+00, 7.50000e+02, 4.00000e+01, 1.65000e+02,\n",
       "       7.00000e+01, 8.15000e+01, 1.12000e+01, 3.63000e+01, 1.70000e+00,\n",
       "       2.48000e+01, 5.04000e+01, 1.50000e+02, 9.87000e+01, 3.00000e+00,\n",
       "       4.20000e+00, 5.40000e+02, 2.31000e+02, 3.50000e+01, 2.34000e+02,\n",
       "       6.30000e+02, 2.92000e+03, 3.60000e+01, 3.75000e+00, 3.28000e+01,\n",
       "       2.32000e+03, 2.40000e+02, 1.44000e+02, 4.40000e+01, 1.10000e+02,\n",
       "       2.21000e+02, 2.10000e+01, 6.60000e+02, 1.82000e+03, 8.29780e+02,\n",
       "       1.00000e+02, 1.60000e+03, 2.50000e+01, 9.90000e+02, 3.37500e+01,\n",
       "       5.10000e+01, 2.80000e+02, 3.30000e+02, 5.95200e+02, 2.20000e+01,\n",
       "       9.60000e+01, 1.55000e+01, 1.29600e+01, 6.76000e+01, 3.90000e+02,\n",
       "       1.28000e+01, 1.00000e+03, 1.25000e+02, 2.00000e+00, 3.75000e+01,\n",
       "       2.82000e+01, 2.25000e+01, 5.15000e+02, 6.88000e+01, 2.10000e+03,\n",
       "       4.31586e+02, 4.25000e+00, 3.10000e+02, 3.90000e+01, 8.00000e+02,\n",
       "       1.05000e+01, 2.25000e+02, 6.48000e+02, 1.15000e+02, 7.76500e+01,\n",
       "       4.68570e+02, 2.31000e+01, 3.20000e+01, 9.20000e+02, 2.05240e+02,\n",
       "       7.68000e+02, 5.50000e+01, 2.56000e+01, 7.50000e+00, 1.80000e+00,\n",
       "       2.55000e+01, 1.56100e+02, 3.51430e+02, 1.89000e+01, 3.47500e+02,\n",
       "       3.44000e+01, 2.73000e+01, 8.88000e+01, 6.05000e+02, 4.90000e+01,\n",
       "       4.20000e+02, 7.80000e+02, 3.50000e+02, 1.50000e+03, 1.00800e+02,\n",
       "       1.08000e+03, 6.35000e+01, 5.45000e+01, 1.55000e+02, 4.45674e+02,\n",
       "       1.39200e+02, 4.27500e+02, 9.18000e+01, 2.96000e+01, 3.30000e+01,\n",
       "       1.02500e+01, 4.00000e+02, 2.34000e+03, 8.80000e+02, 1.10000e+03,\n",
       "       4.40000e+02, 8.55000e+02, 4.00000e+00, 3.25000e+01, 1.19800e+02,\n",
       "       2.18400e+01, 1.95000e+02, 2.91000e+02, 6.45000e+02, 7.20000e+01,\n",
       "       4.14000e+01, 1.26000e+03, 1.75000e+01, 4.45000e+02, 1.45800e+03,\n",
       "       2.00000e+02, 2.40000e+03, 2.60000e+03, 8.90000e+02, 1.34000e+03,\n",
       "       1.24000e+03, 1.07880e+02, 1.95600e+03, 5.55000e+02, 2.00000e+03,\n",
       "       1.01000e+02, 7.56000e+01, 5.20000e+00, 2.08000e+01, 5.62500e+01,\n",
       "       2.11955e+02, 1.98000e+03, 1.26000e+02, 3.15000e+01, 1.05000e+02,\n",
       "       4.60000e+02, 9.70000e+00, 3.68000e+01, 2.10000e+00, 2.40000e+00,\n",
       "       1.14750e+02, 4.50000e+00, 1.40000e+02, 3.14000e+01, 6.32000e+01,\n",
       "       1.86000e+02, 3.94000e+02, 1.66500e+02, 3.88000e+02, 4.50000e+01,\n",
       "       3.06000e+01, 8.40000e+02, 2.46000e+02, 9.30000e+00, 7.89000e+01,\n",
       "       2.07000e+02, 3.12000e+01, 4.62000e+03, 4.00000e+03, 2.83000e+01,\n",
       "       6.10000e+02, 1.46500e+01, 6.60000e+00, 5.25000e+01, 8.15600e+02,\n",
       "       4.55000e+01, 6.50000e+01, 1.61750e+02, 1.16000e+01, 1.22700e+01,\n",
       "       1.47000e+03, 3.32000e+01, 2.76500e+01, 6.25000e+00, 3.76000e+01,\n",
       "       5.80000e+00, 7.20000e+00, 1.09400e+03, 5.20000e+02, 1.02000e+02,\n",
       "       3.30500e+02, 6.55000e+02, 7.26600e+02, 1.75000e+02, 1.14000e+03,\n",
       "       1.17000e+03, 2.04000e+01, 2.20000e+02, 1.60000e+02, 1.61000e+02,\n",
       "       7.02860e+02, 3.96000e+02, 1.37120e+03, 9.00000e+02, 5.92000e+01,\n",
       "       6.56000e+01, 3.52000e+01, 2.18000e+01, 1.48500e+01, 9.90000e+00,\n",
       "       1.52000e+01, 1.90000e+01, 1.72000e+02, 1.87000e+01, 4.80000e+00,\n",
       "       1.72000e+03, 1.37000e+03, 3.85000e+01, 1.40000e+03, 1.10000e+01,\n",
       "       1.98000e+02, 2.70500e+02, 4.12020e+02, 4.05000e+02, 1.25000e+01,\n",
       "       1.96708e+03, 1.65000e+03, 4.80000e+01, 3.00000e+03, 9.48000e+01,\n",
       "       6.30000e+01, 6.25000e+01, 2.64000e+01, 3.05000e+01, 3.51000e+01,\n",
       "       6.90000e+02, 1.05700e+02, 1.06000e+02, 1.97000e+01, 3.96000e+03,\n",
       "       2.90000e+01, 1.33000e+03, 1.03500e+03, 1.72000e+01, 5.40000e+01,\n",
       "       3.36000e+01, 2.98000e+03, 4.30000e+01, 3.30000e+00, 7.70000e+02,\n",
       "       1.30000e+02, 1.14750e+03, 1.50000e+00, 8.50000e+00, 2.25000e+00,\n",
       "       2.52000e+03, 8.40000e+00, 6.30000e+00, 3.60000e+00, 9.42000e+01,\n",
       "       9.70000e+01, 1.35000e+01, 1.32000e+02, 3.30000e+03, 2.60000e+02,\n",
       "       4.22000e+02, 9.35000e+00, 1.44000e+01, 7.40000e+01, 0.00000e+00,\n",
       "       4.96000e+01, 9.13500e+01, 8.00000e+00, 1.44000e+03, 1.11000e+03,\n",
       "       1.55000e+03, 3.82500e+02, 3.20000e+02, 6.72000e+02, 6.26000e+01,\n",
       "       4.80000e+02, 3.74571e+02, 2.57000e+01, 5.28000e+01, 1.87200e+02,\n",
       "       2.58000e+01, 3.07500e+01, 5.07000e+01, 3.88500e+02, 2.72300e+02,\n",
       "       4.76000e+03, 1.04000e+03, 4.25000e+01, 6.24000e+01, 3.46500e+01,\n",
       "       1.06600e+02])"
      ]
     },
     "execution_count": 12,
     "metadata": {},
     "output_type": "execute_result"
    }
   ],
   "source": [
    "# To find the unique values in capacity_mw label:\n",
    "power_plant['capacity_mw'].unique()"
   ]
  },
  {
   "cell_type": "code",
   "execution_count": 13,
   "id": "8f9b6729",
   "metadata": {},
   "outputs": [
    {
     "data": {
      "text/plain": [
       "8"
      ]
     },
     "execution_count": 13,
     "metadata": {},
     "output_type": "execute_result"
    }
   ],
   "source": [
    "# To find the number of unique values in Target variable:\n",
    "power_plant['primary_fuel'].nunique()"
   ]
  },
  {
   "cell_type": "code",
   "execution_count": 14,
   "id": "71bda71e",
   "metadata": {},
   "outputs": [
    {
     "data": {
      "text/plain": [
       "361"
      ]
     },
     "execution_count": 14,
     "metadata": {},
     "output_type": "execute_result"
    }
   ],
   "source": [
    "power_plant['capacity_mw'].nunique()"
   ]
  },
  {
   "cell_type": "code",
   "execution_count": 15,
   "id": "b6093a40",
   "metadata": {},
   "outputs": [
    {
     "data": {
      "text/plain": [
       "Coal       258\n",
       "Hydro      251\n",
       "Solar      127\n",
       "Wind       123\n",
       "Gas         69\n",
       "Biomass     50\n",
       "Oil         20\n",
       "Nuclear      9\n",
       "Name: primary_fuel, dtype: int64"
      ]
     },
     "execution_count": 15,
     "metadata": {},
     "output_type": "execute_result"
    }
   ],
   "source": [
    "# To find the total number of count in Target variable :\n",
    "power_plant['primary_fuel'].value_counts()"
   ]
  },
  {
   "cell_type": "code",
   "execution_count": 16,
   "id": "cb6dfdd9",
   "metadata": {},
   "outputs": [
    {
     "data": {
      "text/plain": [
       "5.0       39\n",
       "10.0      22\n",
       "600.0     20\n",
       "15.0      20\n",
       "1200.0    19\n",
       "          ..\n",
       "291.0      1\n",
       "645.0      1\n",
       "41.4       1\n",
       "17.5       1\n",
       "106.6      1\n",
       "Name: capacity_mw, Length: 361, dtype: int64"
      ]
     },
     "execution_count": 16,
     "metadata": {},
     "output_type": "execute_result"
    }
   ],
   "source": [
    "power_plant['capacity_mw'].value_counts()"
   ]
  },
  {
   "cell_type": "markdown",
   "id": "8f629099",
   "metadata": {},
   "source": [
    "# Data Cleaning:"
   ]
  },
  {
   "cell_type": "code",
   "execution_count": 17,
   "id": "d2a15d8c",
   "metadata": {},
   "outputs": [],
   "source": [
    "#Filling Null Values of \"latitude\" column in dataset by mean value\n",
    "power_plant[\"latitude\"].fillna(power_plant[\"latitude\"].mean(), inplace=True)"
   ]
  },
  {
   "cell_type": "code",
   "execution_count": 18,
   "id": "51cb69a6",
   "metadata": {},
   "outputs": [],
   "source": [
    "#Filling Null Values of \"longitude\" column in dataset by mean value\n",
    "power_plant[\"longitude\"].fillna(power_plant[\"longitude\"].mean(), inplace=True)"
   ]
  },
  {
   "cell_type": "code",
   "execution_count": 19,
   "id": "e1d20afe",
   "metadata": {},
   "outputs": [
    {
     "data": {
      "text/plain": [
       "array([nan, 'Oil', 'Cogeneration', 'Gas'], dtype=object)"
      ]
     },
     "execution_count": 19,
     "metadata": {},
     "output_type": "execute_result"
    }
   ],
   "source": [
    "#checking all values of column 'other_fuel1'\n",
    "power_plant[\"other_fuel1\"].unique() "
   ]
  },
  {
   "cell_type": "code",
   "execution_count": 20,
   "id": "9c911676",
   "metadata": {},
   "outputs": [],
   "source": [
    "#Droping column 'other_fuel1' as it have only one type of value that is 'Oil' and thus it have no relation with our Target column\n",
    "power_plant=power_plant.drop(columns=\"other_fuel1\", axis=1)"
   ]
  },
  {
   "cell_type": "code",
   "execution_count": 21,
   "id": "61644bc6",
   "metadata": {},
   "outputs": [],
   "source": [
    "#Droping \"other_fuel2 \" column from dataset because most of the values (906) are missing and we can not take mean, mode etc of it as our total data is 907. So, we will drop this column.\n",
    "power_plant=power_plant.drop(columns=\"other_fuel2\", axis=1)"
   ]
  },
  {
   "cell_type": "code",
   "execution_count": 22,
   "id": "2df33481",
   "metadata": {},
   "outputs": [],
   "source": [
    "#Droping \"other_fuel3\" column from dataset because all values (907) are missing. So, we will drop this column.\n",
    "power_plant=power_plant.drop(columns=\"other_fuel3\", axis=1)"
   ]
  },
  {
   "cell_type": "code",
   "execution_count": 23,
   "id": "ef3948eb",
   "metadata": {},
   "outputs": [
    {
     "data": {
      "text/plain": [
       "array([2011.,   nan, 2004., 2015., 2005., 1970., 2010., 2008., 2014.,\n",
       "       1985., 1986., 1987., 2000., 1989., 2017., 1977., 1980., 2003.,\n",
       "       1984., 1976., 1996., 1991., 2002., 2001., 2006., 2007., 1988.,\n",
       "       1973., 2012., 1968., 1964., 2016., 2013., 1962., 1998., 1993.,\n",
       "       1997., 1999., 1994., 1975., 1992., 1972., 1979., 1967., 1995.,\n",
       "       1983., 1981., 2018., 1959., 1961., 1957., 1978., 1963., 1971.,\n",
       "       1955., 2009., 1966., 1965., 1960., 1949., 1952., 1990., 1982.,\n",
       "       1937., 1956., 1946., 1958., 1943., 1954., 1969., 1939., 1927.,\n",
       "       1974., 1953.])"
      ]
     },
     "execution_count": 23,
     "metadata": {},
     "output_type": "execute_result"
    }
   ],
   "source": [
    "#checking all values of column 'commissioning_year'\n",
    "power_plant[\"commissioning_year\"].unique() "
   ]
  },
  {
   "cell_type": "code",
   "execution_count": 24,
   "id": "acac8b2e",
   "metadata": {},
   "outputs": [],
   "source": [
    "#Filling Null Values of \"commissioning_year\" column in dataset by mean value\n",
    "power_plant[\"commissioning_year\"].fillna(power_plant[\"commissioning_year\"].mean(), inplace=True)"
   ]
  },
  {
   "cell_type": "code",
   "execution_count": 25,
   "id": "d09d407e",
   "metadata": {},
   "outputs": [],
   "source": [
    "#Droping \"owner\" column from dataset because this column's data have no relation with our Target Column. \n",
    "power_plant=power_plant.drop(columns=\"owner\", axis=1)"
   ]
  },
  {
   "cell_type": "code",
   "execution_count": 26,
   "id": "a2b66806",
   "metadata": {},
   "outputs": [],
   "source": [
    "#Filling Null Values of \"geolocation_source\" column in dataset by mode value\n",
    "power_plant[\"geolocation_source\"].fillna(power_plant[\"geolocation_source\"].mode()[0], inplace=True)"
   ]
  },
  {
   "cell_type": "code",
   "execution_count": 27,
   "id": "059f982f",
   "metadata": {},
   "outputs": [],
   "source": [
    "#Droping \"wepp_id\" column from dataset because all values (907) are missing. So, we will drop this column.\n",
    "power_plant=power_plant.drop(columns=\"wepp_id\", axis=1)"
   ]
  },
  {
   "cell_type": "code",
   "execution_count": 28,
   "id": "44992093",
   "metadata": {},
   "outputs": [],
   "source": [
    "#Filling Null Values of \"year_of_capacity_data\" column in dataset by mean value\n",
    "power_plant[\"year_of_capacity_data\"].fillna(power_plant[\"year_of_capacity_data\"].mean(), inplace=True)"
   ]
  },
  {
   "cell_type": "code",
   "execution_count": 29,
   "id": "c0157ca2",
   "metadata": {},
   "outputs": [],
   "source": [
    "#Droping \"generation_gwh_2013\" column from dataset because all values (907) are missing. So, we will drop this column.\n",
    "power_plant=power_plant.drop(columns=\"generation_gwh_2013\", axis=1)"
   ]
  },
  {
   "cell_type": "code",
   "execution_count": 30,
   "id": "746c5eff",
   "metadata": {},
   "outputs": [],
   "source": [
    "#Filling Null Values of \"generation_gwh_2014\" column in dataset by mode value\n",
    "power_plant[\"generation_gwh_2014\"].fillna(power_plant[\"generation_gwh_2014\"].mean(), inplace=True)\n"
   ]
  },
  {
   "cell_type": "code",
   "execution_count": 31,
   "id": "0eb7ada1",
   "metadata": {},
   "outputs": [],
   "source": [
    "#Filling Null Values of \"generation_gwh_2015\" column in dataset by mode value\n",
    "power_plant[\"generation_gwh_2015\"].fillna(power_plant[\"generation_gwh_2015\"].mean(), inplace=True)"
   ]
  },
  {
   "cell_type": "code",
   "execution_count": 32,
   "id": "a35f897c",
   "metadata": {},
   "outputs": [],
   "source": [
    "#Filling Null Values of \"generation_gwh_2016\" column in dataset by mode value\n",
    "power_plant[\"generation_gwh_2016\"].fillna(power_plant[\"generation_gwh_2016\"].mean(), inplace=True)"
   ]
  },
  {
   "cell_type": "code",
   "execution_count": 33,
   "id": "f5aa9f25",
   "metadata": {},
   "outputs": [],
   "source": [
    "#Filling Null Values of \"generation_gwh_2017\" column in dataset by mode value\n",
    "power_plant[\"generation_gwh_2017\"].fillna(power_plant[\"generation_gwh_2017\"].mean(), inplace=True)"
   ]
  },
  {
   "cell_type": "code",
   "execution_count": 34,
   "id": "9d7303c3",
   "metadata": {},
   "outputs": [],
   "source": [
    "#Filling Null Values of \"generation_gwh_2018\" column in dataset by mode value\n",
    "power_plant[\"generation_gwh_2018\"].fillna(power_plant[\"generation_gwh_2018\"].mean(), inplace=True)"
   ]
  },
  {
   "cell_type": "code",
   "execution_count": 35,
   "id": "c4316f3b",
   "metadata": {},
   "outputs": [],
   "source": [
    "#Droping \"generation_gwh_2019\" column from dataset because all values (907) are missing. So, we will drop this column.\n",
    "power_plant=power_plant.drop(columns=\"generation_gwh_2019\", axis=1)"
   ]
  },
  {
   "cell_type": "code",
   "execution_count": 36,
   "id": "69fc5b8a",
   "metadata": {},
   "outputs": [],
   "source": [
    "#Droping \"generation_data_source\" column from dataset.\n",
    "power_plant=power_plant.drop(columns=\"generation_data_source\", axis=1)"
   ]
  },
  {
   "cell_type": "code",
   "execution_count": 37,
   "id": "5c1197f2",
   "metadata": {},
   "outputs": [],
   "source": [
    "#Droping \"estimated_generation_gwh\" column from dataset because all values (907) are missing. So, we will drop this column.\n",
    "power_plant=power_plant.drop(columns=\"estimated_generation_gwh\", axis=1)"
   ]
  },
  {
   "cell_type": "code",
   "execution_count": 38,
   "id": "f46055a0",
   "metadata": {},
   "outputs": [
    {
     "data": {
      "text/plain": [
       "country                  0\n",
       "country_long             0\n",
       "name                     0\n",
       "gppd_idnr                0\n",
       "capacity_mw              0\n",
       "latitude                 0\n",
       "longitude                0\n",
       "primary_fuel             0\n",
       "commissioning_year       0\n",
       "source                   0\n",
       "url                      0\n",
       "geolocation_source       0\n",
       "year_of_capacity_data    0\n",
       "generation_gwh_2014      0\n",
       "generation_gwh_2015      0\n",
       "generation_gwh_2016      0\n",
       "generation_gwh_2017      0\n",
       "generation_gwh_2018      0\n",
       "dtype: int64"
      ]
     },
     "execution_count": 38,
     "metadata": {},
     "output_type": "execute_result"
    }
   ],
   "source": [
    "# To verify , if the null values are treated or not:\n",
    "power_plant.isnull().sum()"
   ]
  },
  {
   "cell_type": "markdown",
   "id": "4e20e5d6",
   "metadata": {},
   "source": [
    "**Great,There are no null values . We can go ahead.**"
   ]
  },
  {
   "cell_type": "code",
   "execution_count": 39,
   "id": "8fbc73ac",
   "metadata": {},
   "outputs": [
    {
     "data": {
      "text/html": [
       "<div>\n",
       "<style scoped>\n",
       "    .dataframe tbody tr th:only-of-type {\n",
       "        vertical-align: middle;\n",
       "    }\n",
       "\n",
       "    .dataframe tbody tr th {\n",
       "        vertical-align: top;\n",
       "    }\n",
       "\n",
       "    .dataframe thead th {\n",
       "        text-align: right;\n",
       "    }\n",
       "</style>\n",
       "<table border=\"1\" class=\"dataframe\">\n",
       "  <thead>\n",
       "    <tr style=\"text-align: right;\">\n",
       "      <th></th>\n",
       "      <th>capacity_mw</th>\n",
       "      <th>latitude</th>\n",
       "      <th>longitude</th>\n",
       "      <th>commissioning_year</th>\n",
       "      <th>year_of_capacity_data</th>\n",
       "      <th>generation_gwh_2014</th>\n",
       "      <th>generation_gwh_2015</th>\n",
       "      <th>generation_gwh_2016</th>\n",
       "      <th>generation_gwh_2017</th>\n",
       "      <th>generation_gwh_2018</th>\n",
       "    </tr>\n",
       "  </thead>\n",
       "  <tbody>\n",
       "    <tr>\n",
       "      <th>count</th>\n",
       "      <td>907.000000</td>\n",
       "      <td>907.000000</td>\n",
       "      <td>907.000000</td>\n",
       "      <td>907.000000</td>\n",
       "      <td>907.0</td>\n",
       "      <td>907.000000</td>\n",
       "      <td>907.000000</td>\n",
       "      <td>907.000000</td>\n",
       "      <td>907.000000</td>\n",
       "      <td>907.000000</td>\n",
       "    </tr>\n",
       "    <tr>\n",
       "      <th>mean</th>\n",
       "      <td>326.223755</td>\n",
       "      <td>21.197918</td>\n",
       "      <td>77.464907</td>\n",
       "      <td>1997.091082</td>\n",
       "      <td>2019.0</td>\n",
       "      <td>2431.823590</td>\n",
       "      <td>2428.226946</td>\n",
       "      <td>2467.936859</td>\n",
       "      <td>2547.759305</td>\n",
       "      <td>2600.804099</td>\n",
       "    </tr>\n",
       "    <tr>\n",
       "      <th>std</th>\n",
       "      <td>590.085456</td>\n",
       "      <td>6.079148</td>\n",
       "      <td>4.812291</td>\n",
       "      <td>13.016360</td>\n",
       "      <td>0.0</td>\n",
       "      <td>2665.338608</td>\n",
       "      <td>2859.349132</td>\n",
       "      <td>2877.890004</td>\n",
       "      <td>2921.502193</td>\n",
       "      <td>3030.808041</td>\n",
       "    </tr>\n",
       "    <tr>\n",
       "      <th>min</th>\n",
       "      <td>0.000000</td>\n",
       "      <td>8.168900</td>\n",
       "      <td>68.644700</td>\n",
       "      <td>1927.000000</td>\n",
       "      <td>2019.0</td>\n",
       "      <td>0.000000</td>\n",
       "      <td>0.000000</td>\n",
       "      <td>0.000000</td>\n",
       "      <td>0.000000</td>\n",
       "      <td>0.000000</td>\n",
       "    </tr>\n",
       "    <tr>\n",
       "      <th>25%</th>\n",
       "      <td>16.725000</td>\n",
       "      <td>17.072000</td>\n",
       "      <td>74.388900</td>\n",
       "      <td>1997.091082</td>\n",
       "      <td>2019.0</td>\n",
       "      <td>1211.362750</td>\n",
       "      <td>916.000000</td>\n",
       "      <td>896.500214</td>\n",
       "      <td>882.594850</td>\n",
       "      <td>824.842340</td>\n",
       "    </tr>\n",
       "    <tr>\n",
       "      <th>50%</th>\n",
       "      <td>59.200000</td>\n",
       "      <td>21.281800</td>\n",
       "      <td>76.979200</td>\n",
       "      <td>1997.091082</td>\n",
       "      <td>2019.0</td>\n",
       "      <td>2431.823590</td>\n",
       "      <td>2428.226946</td>\n",
       "      <td>2467.936859</td>\n",
       "      <td>2547.759305</td>\n",
       "      <td>2600.804099</td>\n",
       "    </tr>\n",
       "    <tr>\n",
       "      <th>75%</th>\n",
       "      <td>385.250000</td>\n",
       "      <td>25.176450</td>\n",
       "      <td>79.206100</td>\n",
       "      <td>2003.000000</td>\n",
       "      <td>2019.0</td>\n",
       "      <td>2431.823590</td>\n",
       "      <td>2428.226946</td>\n",
       "      <td>2467.936859</td>\n",
       "      <td>2547.759305</td>\n",
       "      <td>2600.804099</td>\n",
       "    </tr>\n",
       "    <tr>\n",
       "      <th>max</th>\n",
       "      <td>4760.000000</td>\n",
       "      <td>34.649000</td>\n",
       "      <td>95.408000</td>\n",
       "      <td>2018.000000</td>\n",
       "      <td>2019.0</td>\n",
       "      <td>28127.000000</td>\n",
       "      <td>30539.000000</td>\n",
       "      <td>30015.000000</td>\n",
       "      <td>35116.000000</td>\n",
       "      <td>35136.000000</td>\n",
       "    </tr>\n",
       "  </tbody>\n",
       "</table>\n",
       "</div>"
      ],
      "text/plain": [
       "       capacity_mw    latitude   longitude  commissioning_year  \\\n",
       "count   907.000000  907.000000  907.000000          907.000000   \n",
       "mean    326.223755   21.197918   77.464907         1997.091082   \n",
       "std     590.085456    6.079148    4.812291           13.016360   \n",
       "min       0.000000    8.168900   68.644700         1927.000000   \n",
       "25%      16.725000   17.072000   74.388900         1997.091082   \n",
       "50%      59.200000   21.281800   76.979200         1997.091082   \n",
       "75%     385.250000   25.176450   79.206100         2003.000000   \n",
       "max    4760.000000   34.649000   95.408000         2018.000000   \n",
       "\n",
       "       year_of_capacity_data  generation_gwh_2014  generation_gwh_2015  \\\n",
       "count                  907.0           907.000000           907.000000   \n",
       "mean                  2019.0          2431.823590          2428.226946   \n",
       "std                      0.0          2665.338608          2859.349132   \n",
       "min                   2019.0             0.000000             0.000000   \n",
       "25%                   2019.0          1211.362750           916.000000   \n",
       "50%                   2019.0          2431.823590          2428.226946   \n",
       "75%                   2019.0          2431.823590          2428.226946   \n",
       "max                   2019.0         28127.000000         30539.000000   \n",
       "\n",
       "       generation_gwh_2016  generation_gwh_2017  generation_gwh_2018  \n",
       "count           907.000000           907.000000           907.000000  \n",
       "mean           2467.936859          2547.759305          2600.804099  \n",
       "std            2877.890004          2921.502193          3030.808041  \n",
       "min               0.000000             0.000000             0.000000  \n",
       "25%             896.500214           882.594850           824.842340  \n",
       "50%            2467.936859          2547.759305          2600.804099  \n",
       "75%            2467.936859          2547.759305          2600.804099  \n",
       "max           30015.000000         35116.000000         35136.000000  "
      ]
     },
     "execution_count": 39,
     "metadata": {},
     "output_type": "execute_result"
    }
   ],
   "source": [
    "# To  display the Descriptive Statitics of Data;\n",
    "power_plant.describe()"
   ]
  },
  {
   "cell_type": "code",
   "execution_count": 40,
   "id": "1a2e30f4",
   "metadata": {},
   "outputs": [],
   "source": [
    "#Droping column 'year_of_capacity_data' as it have only one type of value that is '2019' and thus it have no relation with our Target column\n",
    "power_plant=power_plant.drop(columns=\"year_of_capacity_data\", axis=1)"
   ]
  },
  {
   "cell_type": "code",
   "execution_count": 41,
   "id": "df2bc7e4",
   "metadata": {},
   "outputs": [],
   "source": [
    "#Droping column 'gppd_idnr' as it have no relation with our Target column\n",
    "power_plant=power_plant.drop(columns=\"gppd_idnr\", axis=1)"
   ]
  },
  {
   "cell_type": "code",
   "execution_count": 42,
   "id": "37267ec1",
   "metadata": {},
   "outputs": [],
   "source": [
    "#Droping column 'country' as it have only one type of value that is 'IND' and thus it have no relation with our Target column\n",
    "power_plant=power_plant.drop(columns=\"country\", axis=1)"
   ]
  },
  {
   "cell_type": "code",
   "execution_count": 43,
   "id": "bea32a84",
   "metadata": {},
   "outputs": [],
   "source": [
    "#Droping column 'country_long' as it have only one type of value that is 'India' and thus it have no relation with our Target column\n",
    "power_plant=power_plant.drop(columns=\"country_long\", axis=1)"
   ]
  },
  {
   "cell_type": "code",
   "execution_count": 44,
   "id": "dd53dd74",
   "metadata": {},
   "outputs": [],
   "source": [
    "#Droping column 'gppd_idnr' as it have no relation with our Target column\n",
    "power_plant=power_plant.drop(columns=\"name\", axis=1)"
   ]
  },
  {
   "cell_type": "code",
   "execution_count": 45,
   "id": "5ef4475b",
   "metadata": {},
   "outputs": [],
   "source": [
    "#Droping column 'source' as it have no relation with our Target column\n",
    "power_plant=power_plant.drop(columns=\"source\", axis=1)"
   ]
  },
  {
   "cell_type": "code",
   "execution_count": 46,
   "id": "b93a759b",
   "metadata": {},
   "outputs": [],
   "source": [
    "#Droping column 'url' as it have no relation with our Target column\n",
    "power_plant=power_plant.drop(columns=\"url\", axis=1)"
   ]
  },
  {
   "cell_type": "code",
   "execution_count": 47,
   "id": "d6ed75fe",
   "metadata": {},
   "outputs": [
    {
     "data": {
      "text/plain": [
       "(907, 11)"
      ]
     },
     "execution_count": 47,
     "metadata": {},
     "output_type": "execute_result"
    }
   ],
   "source": [
    "# checking total Rows and Columns after droping some irrelevent columns\n",
    "power_plant.shape"
   ]
  },
  {
   "cell_type": "markdown",
   "id": "351da46b",
   "metadata": {},
   "source": [
    "# Data Visualization:"
   ]
  },
  {
   "cell_type": "code",
   "execution_count": 48,
   "id": "5b8480de",
   "metadata": {},
   "outputs": [],
   "source": [
    "# Visualizing Categorical columns using Count Plot:"
   ]
  },
  {
   "cell_type": "code",
   "execution_count": 49,
   "id": "d0309132",
   "metadata": {},
   "outputs": [
    {
     "name": "stdout",
     "output_type": "stream",
     "text": [
      "Coal       258\n",
      "Hydro      251\n",
      "Solar      127\n",
      "Wind       123\n",
      "Gas         69\n",
      "Biomass     50\n",
      "Oil         20\n",
      "Nuclear      9\n",
      "Name: primary_fuel, dtype: int64\n"
     ]
    },
    {
     "data": {
      "text/plain": [
       "<AxesSubplot:xlabel='primary_fuel', ylabel='count'>"
      ]
     },
     "execution_count": 49,
     "metadata": {},
     "output_type": "execute_result"
    },
    {
     "data": {
      "image/png": "[encoded data removed]",
      "text/plain": [
       "<Figure size 432x288 with 1 Axes>"
      ]
     },
     "metadata": {
      "needs_background": "light"
     },
     "output_type": "display_data"
    }
   ],
   "source": [
    "#Count Plot for \"primary_fuel\" column\n",
    "print(power_plant[\"primary_fuel\"].value_counts())\n",
    "\n",
    "sns.countplot(\"primary_fuel\",data=power_plant)"
   ]
  },
  {
   "cell_type": "code",
   "execution_count": 50,
   "id": "a6787953",
   "metadata": {},
   "outputs": [
    {
     "name": "stdout",
     "output_type": "stream",
     "text": [
      "WRI                                     784\n",
      "Industry About                          119\n",
      "National Renewable Energy Laboratory      4\n",
      "Name: geolocation_source, dtype: int64\n"
     ]
    },
    {
     "data": {
      "text/plain": [
       "<AxesSubplot:xlabel='geolocation_source', ylabel='count'>"
      ]
     },
     "execution_count": 50,
     "metadata": {},
     "output_type": "execute_result"
    },
    {
     "data": {
      "image/png": "[encoded data removed]",
      "text/plain": [
       "<Figure size 432x288 with 1 Axes>"
      ]
     },
     "metadata": {
      "needs_background": "light"
     },
     "output_type": "display_data"
    }
   ],
   "source": [
    "#Count Plot for \"geolocation_source\" column\n",
    "print(power_plant[\"geolocation_source\"].value_counts())\n",
    "\n",
    "sns.countplot(\"geolocation_source\",data=power_plant)"
   ]
  },
  {
   "cell_type": "code",
   "execution_count": 52,
   "id": "e2863e81",
   "metadata": {},
   "outputs": [],
   "source": [
    "# Visualizing Continuous columns using \"HistPlot\""
   ]
  },
  {
   "cell_type": "code",
   "execution_count": 53,
   "id": "87c3e26b",
   "metadata": {},
   "outputs": [
    {
     "name": "stdout",
     "output_type": "stream",
     "text": [
      "5.0       39\n",
      "10.0      22\n",
      "600.0     20\n",
      "15.0      20\n",
      "1200.0    19\n",
      "          ..\n",
      "291.0      1\n",
      "645.0      1\n",
      "41.4       1\n",
      "17.5       1\n",
      "106.6      1\n",
      "Name: capacity_mw, Length: 361, dtype: int64\n"
     ]
    },
    {
     "data": {
      "text/plain": [
       "<AxesSubplot:xlabel='capacity_mw', ylabel='Count'>"
      ]
     },
     "execution_count": 53,
     "metadata": {},
     "output_type": "execute_result"
    },
    {
     "data": {
      "image/png": "[encoded data removed]",
      "text/plain": [
       "<Figure size 1080x360 with 1 Axes>"
      ]
     },
     "metadata": {
      "needs_background": "light"
     },
     "output_type": "display_data"
    }
   ],
   "source": [
    "#Histplot for \"capacity_mw\" column\n",
    "print(power_plant[\"capacity_mw\"].value_counts())\n",
    "plt.figure(figsize=(15,5))\n",
    "sns.histplot(x='capacity_mw',data=power_plant,bins=10)"
   ]
  },
  {
   "cell_type": "code",
   "execution_count": 54,
   "id": "6e1d9d33",
   "metadata": {},
   "outputs": [
    {
     "name": "stdout",
     "output_type": "stream",
     "text": [
      "21.197918    46\n",
      "19.000400     3\n",
      "24.191700     3\n",
      "31.268000     2\n",
      "14.235200     2\n",
      "             ..\n",
      "22.755400     1\n",
      "27.159800     1\n",
      "17.297000     1\n",
      "20.877200     1\n",
      "9.934400      1\n",
      "Name: latitude, Length: 837, dtype: int64\n"
     ]
    },
    {
     "data": {
      "text/plain": [
       "<AxesSubplot:xlabel='latitude', ylabel='Count'>"
      ]
     },
     "execution_count": 54,
     "metadata": {},
     "output_type": "execute_result"
    },
    {
     "data": {
      "image/png": "[encoded data removed]",
      "text/plain": [
       "<Figure size 1080x360 with 1 Axes>"
      ]
     },
     "metadata": {
      "needs_background": "light"
     },
     "output_type": "display_data"
    }
   ],
   "source": [
    "#Histplot for \"latitude\" column\n",
    "print(power_plant[\"latitude\"].value_counts())\n",
    "plt.figure(figsize=(15,5))\n",
    "sns.histplot(x='latitude',data=power_plant,bins=10)"
   ]
  },
  {
   "cell_type": "code",
   "execution_count": 55,
   "id": "ebb92d6f",
   "metadata": {},
   "outputs": [
    {
     "name": "stdout",
     "output_type": "stream",
     "text": [
      "77.464907    46\n",
      "71.691700     4\n",
      "75.898800     3\n",
      "71.691800     3\n",
      "72.898300     3\n",
      "             ..\n",
      "70.396100     1\n",
      "74.239300     1\n",
      "77.043500     1\n",
      "73.825400     1\n",
      "77.476800     1\n",
      "Name: longitude, Length: 828, dtype: int64\n"
     ]
    },
    {
     "data": {
      "text/plain": [
       "<AxesSubplot:xlabel='longitude', ylabel='Count'>"
      ]
     },
     "execution_count": 55,
     "metadata": {},
     "output_type": "execute_result"
    },
    {
     "data": {
      "image/png": "[encoded data removed]",
      "text/plain": [
       "<Figure size 1080x360 with 1 Axes>"
      ]
     },
     "metadata": {
      "needs_background": "light"
     },
     "output_type": "display_data"
    }
   ],
   "source": [
    "#Histplot for \"longitude\" column\n",
    "print(power_plant[\"longitude\"].value_counts())\n",
    "plt.figure(figsize=(15,5))\n",
    "sns.histplot(x='longitude',data=power_plant,bins=10)"
   ]
  },
  {
   "cell_type": "code",
   "execution_count": 56,
   "id": "91039d6c",
   "metadata": {},
   "outputs": [
    {
     "name": "stdout",
     "output_type": "stream",
     "text": [
      "1997.091082    380\n",
      "2015.000000     28\n",
      "2013.000000     25\n",
      "2012.000000     23\n",
      "2016.000000     19\n",
      "              ... \n",
      "1946.000000      1\n",
      "1956.000000      1\n",
      "1937.000000      1\n",
      "1949.000000      1\n",
      "1953.000000      1\n",
      "Name: commissioning_year, Length: 74, dtype: int64\n"
     ]
    },
    {
     "data": {
      "text/plain": [
       "<AxesSubplot:xlabel='commissioning_year', ylabel='Count'>"
      ]
     },
     "execution_count": 56,
     "metadata": {},
     "output_type": "execute_result"
    },
    {
     "data": {
      "image/png": "[encoded data removed]",
      "text/plain": [
       "<Figure size 1080x360 with 1 Axes>"
      ]
     },
     "metadata": {
      "needs_background": "light"
     },
     "output_type": "display_data"
    }
   ],
   "source": [
    "#Histplot for \"commissioning_year\" column\n",
    "print(power_plant[\"commissioning_year\"].value_counts())\n",
    "plt.figure(figsize=(15,5))\n",
    "sns.histplot(x='commissioning_year',data=power_plant,bins=10)"
   ]
  },
  {
   "cell_type": "code",
   "execution_count": 57,
   "id": "febde165",
   "metadata": {},
   "outputs": [
    {
     "name": "stdout",
     "output_type": "stream",
     "text": [
      "2431.82359    509\n",
      "0.00000        28\n",
      "359.13980       1\n",
      "7368.39000      1\n",
      "9983.01800      1\n",
      "             ... \n",
      "1154.34200      1\n",
      "451.05340       1\n",
      "3239.14290      1\n",
      "3155.00000      1\n",
      "3194.35982      1\n",
      "Name: generation_gwh_2014, Length: 372, dtype: int64\n"
     ]
    },
    {
     "data": {
      "text/plain": [
       "<AxesSubplot:xlabel='generation_gwh_2014', ylabel='Count'>"
      ]
     },
     "execution_count": 57,
     "metadata": {},
     "output_type": "execute_result"
    },
    {
     "data": {
      "image/png": "[encoded data removed]",
      "text/plain": [
       "<Figure size 1080x360 with 1 Axes>"
      ]
     },
     "metadata": {
      "needs_background": "light"
     },
     "output_type": "display_data"
    }
   ],
   "source": [
    "#Histplot for \"generation_gwh_2014\" column\n",
    "print(power_plant[\"generation_gwh_2014\"].value_counts())\n",
    "plt.figure(figsize=(15,5))\n",
    "sns.histplot(x='generation_gwh_2014',data=power_plant,bins=10)"
   ]
  },
  {
   "cell_type": "code",
   "execution_count": 58,
   "id": "fecea551",
   "metadata": {},
   "outputs": [
    {
     "name": "stdout",
     "output_type": "stream",
     "text": [
      "2428.226946     485\n",
      "0.000000         27\n",
      "1497.798000       1\n",
      "10422.690000      1\n",
      "240.799900        1\n",
      "               ... \n",
      "14192.000000      1\n",
      "219.377600        1\n",
      "288.460450        1\n",
      "410.566850        1\n",
      "0.994875          1\n",
      "Name: generation_gwh_2015, Length: 397, dtype: int64\n"
     ]
    },
    {
     "data": {
      "text/plain": [
       "<AxesSubplot:xlabel='generation_gwh_2015', ylabel='Count'>"
      ]
     },
     "execution_count": 58,
     "metadata": {},
     "output_type": "execute_result"
    },
    {
     "data": {
      "image/png": "[encoded data removed]",
      "text/plain": [
       "<Figure size 1080x360 with 1 Axes>"
      ]
     },
     "metadata": {
      "needs_background": "light"
     },
     "output_type": "display_data"
    }
   ],
   "source": [
    "#Histplot for \"generation_gwh_2015\" column\n",
    "print(power_plant[\"generation_gwh_2015\"].value_counts())\n",
    "plt.figure(figsize=(15,5))\n",
    "sns.histplot(x='generation_gwh_2015',data=power_plant,bins=10)"
   ]
  },
  {
   "cell_type": "code",
   "execution_count": 59,
   "id": "c82ab290",
   "metadata": {},
   "outputs": [
    {
     "name": "stdout",
     "output_type": "stream",
     "text": [
      "2467.936859     473\n",
      "0.000000         30\n",
      "8470.570000       2\n",
      "1511.000000       2\n",
      "12.676300         1\n",
      "               ... \n",
      "131.021600        1\n",
      "6130.019928       1\n",
      "5931.490000       1\n",
      "14834.800000      1\n",
      "233.596650        1\n",
      "Name: generation_gwh_2016, Length: 404, dtype: int64\n"
     ]
    },
    {
     "data": {
      "text/plain": [
       "<AxesSubplot:xlabel='generation_gwh_2016', ylabel='Count'>"
      ]
     },
     "execution_count": 59,
     "metadata": {},
     "output_type": "execute_result"
    },
    {
     "data": {
      "image/png": "[encoded data removed]",
      "text/plain": [
       "<Figure size 1080x360 with 1 Axes>"
      ]
     },
     "metadata": {
      "needs_background": "light"
     },
     "output_type": "display_data"
    }
   ],
   "source": [
    "#Histplot for \"generation_gwh_2016\" column\n",
    "print(power_plant[\"generation_gwh_2016\"].value_counts())\n",
    "plt.figure(figsize=(15,5))\n",
    "sns.histplot(x='generation_gwh_2016',data=power_plant,bins=10)"
   ]
  },
  {
   "cell_type": "code",
   "execution_count": 60,
   "id": "7c477f66",
   "metadata": {},
   "outputs": [
    {
     "name": "stdout",
     "output_type": "stream",
     "text": [
      "2547.759305     467\n",
      "0.000000         32\n",
      "170.085300        2\n",
      "272.739450        1\n",
      "0.975100          1\n",
      "               ... \n",
      "15177.000000      1\n",
      "191.945450        1\n",
      "307.375400        1\n",
      "382.438200        1\n",
      "865.400000        1\n",
      "Name: generation_gwh_2017, Length: 409, dtype: int64\n"
     ]
    },
    {
     "data": {
      "text/plain": [
       "<AxesSubplot:xlabel='generation_gwh_2017', ylabel='Count'>"
      ]
     },
     "execution_count": 60,
     "metadata": {},
     "output_type": "execute_result"
    },
    {
     "data": {
      "image/png": "[encoded data removed]",
      "text/plain": [
       "<Figure size 1080x360 with 1 Axes>"
      ]
     },
     "metadata": {
      "needs_background": "light"
     },
     "output_type": "display_data"
    }
   ],
   "source": [
    "#Histplot for \"generation_gwh_2017\" column\n",
    "print(power_plant[\"generation_gwh_2017\"].value_counts())\n",
    "plt.figure(figsize=(15,5))\n",
    "sns.histplot(x='generation_gwh_2017',data=power_plant,bins=10)"
   ]
  },
  {
   "cell_type": "code",
   "execution_count": 61,
   "id": "dc6d9a6f",
   "metadata": {},
   "outputs": [
    {
     "name": "stdout",
     "output_type": "stream",
     "text": [
      "2600.804099     459\n",
      "0.000000         39\n",
      "21.939750         1\n",
      "17.213500         1\n",
      "7200.400000       1\n",
      "               ... \n",
      "7321.267900       1\n",
      "6532.350000       1\n",
      "15305.220000      1\n",
      "373.970750        1\n",
      "686.500000        1\n",
      "Name: generation_gwh_2018, Length: 411, dtype: int64\n"
     ]
    },
    {
     "data": {
      "text/plain": [
       "<AxesSubplot:xlabel='generation_gwh_2018', ylabel='Count'>"
      ]
     },
     "execution_count": 61,
     "metadata": {},
     "output_type": "execute_result"
    },
    {
     "data": {
      "image/png": "[encoded data removed]",
      "text/plain": [
       "<Figure size 1080x360 with 1 Axes>"
      ]
     },
     "metadata": {
      "needs_background": "light"
     },
     "output_type": "display_data"
    }
   ],
   "source": [
    "#Histplot for \"generation_gwh_2018\" column\n",
    "print(power_plant[\"generation_gwh_2018\"].value_counts())\n",
    "plt.figure(figsize=(15,5))\n",
    "sns.histplot(x='generation_gwh_2018',data=power_plant,bins=10)"
   ]
  },
  {
   "cell_type": "code",
   "execution_count": 62,
   "id": "1714ec5b",
   "metadata": {},
   "outputs": [],
   "source": [
    "# Bivariate Analysis:"
   ]
  },
  {
   "cell_type": "code",
   "execution_count": 63,
   "id": "90cca058",
   "metadata": {},
   "outputs": [
    {
     "data": {
      "text/plain": [
       "<AxesSubplot:xlabel='geolocation_source', ylabel='count'>"
      ]
     },
     "execution_count": 63,
     "metadata": {},
     "output_type": "execute_result"
    },
    {
     "data": {
      "image/png": "[encoded data removed]",
      "text/plain": [
       "<Figure size 720x360 with 1 Axes>"
      ]
     },
     "metadata": {
      "needs_background": "light"
     },
     "output_type": "display_data"
    }
   ],
   "source": [
    "#Count Plot for comparision between \"geolocation_source\" column and \"primary_fuel\" column\n",
    "plt.figure(figsize=(10,5))\n",
    "sns.countplot(\"geolocation_source\",data=power_plant, hue='primary_fuel')"
   ]
  },
  {
   "cell_type": "code",
   "execution_count": 64,
   "id": "e6820a91",
   "metadata": {},
   "outputs": [
    {
     "data": {
      "text/plain": [
       "<AxesSubplot:xlabel='geolocation_source', ylabel='capacity_mw'>"
      ]
     },
     "execution_count": 64,
     "metadata": {},
     "output_type": "execute_result"
    },
    {
     "data": {
      "image/png": "[encoded data removed]",
      "text/plain": [
       "<Figure size 504x360 with 1 Axes>"
      ]
     },
     "metadata": {
      "needs_background": "light"
     },
     "output_type": "display_data"
    }
   ],
   "source": [
    "#Count Plot for comparision between \"geolocation_source\" column and \"capacity_mw\" column\n",
    "plt.figure(figsize=(7,5))\n",
    "sns.barplot(x=\"geolocation_source\",data=power_plant, y='capacity_mw')"
   ]
  },
  {
   "cell_type": "code",
   "execution_count": 65,
   "id": "6ecf1bf4",
   "metadata": {},
   "outputs": [
    {
     "data": {
      "text/plain": [
       "<AxesSubplot:xlabel='primary_fuel', ylabel='latitude'>"
      ]
     },
     "execution_count": 65,
     "metadata": {},
     "output_type": "execute_result"
    },
    {
     "data": {
      "image/png": "[encoded data removed]",
      "text/plain": [
       "<Figure size 1080x360 with 1 Axes>"
      ]
     },
     "metadata": {
      "needs_background": "light"
     },
     "output_type": "display_data"
    }
   ],
   "source": [
    "#hist Plot for comparision between \"latitude\" column and \"primary_fuel\" column\n",
    "plt.figure(figsize=(15,5))\n",
    "sns.barplot(y=\"latitude\",data=power_plant,x='primary_fuel')"
   ]
  },
  {
   "cell_type": "code",
   "execution_count": 66,
   "id": "aa8ebf15",
   "metadata": {},
   "outputs": [
    {
     "data": {
      "text/plain": [
       "<AxesSubplot:xlabel='primary_fuel', ylabel='longitude'>"
      ]
     },
     "execution_count": 66,
     "metadata": {},
     "output_type": "execute_result"
    },
    {
     "data": {
      "image/png": "[encoded data removed]",
      "text/plain": [
       "<Figure size 1080x360 with 1 Axes>"
      ]
     },
     "metadata": {
      "needs_background": "light"
     },
     "output_type": "display_data"
    }
   ],
   "source": [
    "#hist Plot for comparision between \"longitude\" column and \"primary_fuel\" column\n",
    "plt.figure(figsize=(15,5))\n",
    "sns.barplot(y=\"longitude\",data=power_plant,x='primary_fuel')"
   ]
  },
  {
   "cell_type": "code",
   "execution_count": 67,
   "id": "ee898208",
   "metadata": {},
   "outputs": [
    {
     "data": {
      "text/plain": [
       "<AxesSubplot:xlabel='primary_fuel', ylabel='longitude'>"
      ]
     },
     "execution_count": 67,
     "metadata": {},
     "output_type": "execute_result"
    },
    {
     "data": {
      "image/png": "[encoded data removed]",
      "text/plain": [
       "<Figure size 1080x360 with 1 Axes>"
      ]
     },
     "metadata": {
      "needs_background": "light"
     },
     "output_type": "display_data"
    }
   ],
   "source": [
    "#Bar Plot for comparision between \"longitude\" column and \"primary_fuel\" column\n",
    "plt.figure(figsize=(15,5))\n",
    "sns.barplot(y=\"longitude\",data=power_plant,x='primary_fuel')"
   ]
  },
  {
   "cell_type": "code",
   "execution_count": 68,
   "id": "8b38a5e0",
   "metadata": {},
   "outputs": [
    {
     "data": {
      "text/plain": [
       "<AxesSubplot:xlabel='primary_fuel', ylabel='commissioning_year'>"
      ]
     },
     "execution_count": 68,
     "metadata": {},
     "output_type": "execute_result"
    },
    {
     "data": {
      "image/png": "[encoded data removed]",
      "text/plain": [
       "<Figure size 1080x360 with 1 Axes>"
      ]
     },
     "metadata": {
      "needs_background": "light"
     },
     "output_type": "display_data"
    }
   ],
   "source": [
    "#Bar Plot for comparision between \"commissioning_year\" column and \"primary_fuel\" column\n",
    "plt.figure(figsize=(15,5))\n",
    "sns.barplot(y=\"commissioning_year\",data=power_plant,x='primary_fuel')"
   ]
  },
  {
   "cell_type": "code",
   "execution_count": 69,
   "id": "aecbda91",
   "metadata": {},
   "outputs": [
    {
     "data": {
      "text/plain": [
       "<AxesSubplot:xlabel='primary_fuel', ylabel='generation_gwh_2014'>"
      ]
     },
     "execution_count": 69,
     "metadata": {},
     "output_type": "execute_result"
    },
    {
     "data": {
      "image/png": "[encoded data removed]",
      "text/plain": [
       "<Figure size 1080x360 with 1 Axes>"
      ]
     },
     "metadata": {
      "needs_background": "light"
     },
     "output_type": "display_data"
    }
   ],
   "source": [
    "#Bar Plot for comparision between \"generation_gwh_2014\" column and \"primary_fuel\" column\n",
    "plt.figure(figsize=(15,5))\n",
    "sns.barplot(y=\"generation_gwh_2014\",data=power_plant,x='primary_fuel')"
   ]
  },
  {
   "cell_type": "code",
   "execution_count": 70,
   "id": "53355901",
   "metadata": {},
   "outputs": [
    {
     "data": {
      "text/plain": [
       "<AxesSubplot:xlabel='primary_fuel', ylabel='generation_gwh_2015'>"
      ]
     },
     "execution_count": 70,
     "metadata": {},
     "output_type": "execute_result"
    },
    {
     "data": {
      "image/png": "[encoded data removed]",
      "text/plain": [
       "<Figure size 1080x360 with 1 Axes>"
      ]
     },
     "metadata": {
      "needs_background": "light"
     },
     "output_type": "display_data"
    }
   ],
   "source": [
    "#Bar Plot for comparision between \"generation_gwh_2015\" column and \"primary_fuel\" column\n",
    "plt.figure(figsize=(15,5))\n",
    "sns.barplot(y=\"generation_gwh_2015\",data=power_plant,x='primary_fuel')"
   ]
  },
  {
   "cell_type": "code",
   "execution_count": 71,
   "id": "4145d4c6",
   "metadata": {},
   "outputs": [
    {
     "data": {
      "text/plain": [
       "<AxesSubplot:xlabel='primary_fuel', ylabel='generation_gwh_2016'>"
      ]
     },
     "execution_count": 71,
     "metadata": {},
     "output_type": "execute_result"
    },
    {
     "data": {
      "image/png": "[encoded data removed]",
      "text/plain": [
       "<Figure size 1080x360 with 1 Axes>"
      ]
     },
     "metadata": {
      "needs_background": "light"
     },
     "output_type": "display_data"
    }
   ],
   "source": [
    "#Bar Plot for comparision between \"generation_gwh_2016\" column and \"primary_fuel\" column\n",
    "plt.figure(figsize=(15,5))\n",
    "sns.barplot(y=\"generation_gwh_2016\",data=power_plant,x='primary_fuel')"
   ]
  },
  {
   "cell_type": "code",
   "execution_count": 72,
   "id": "5d3d0350",
   "metadata": {},
   "outputs": [
    {
     "data": {
      "text/plain": [
       "<AxesSubplot:xlabel='primary_fuel', ylabel='generation_gwh_2017'>"
      ]
     },
     "execution_count": 72,
     "metadata": {},
     "output_type": "execute_result"
    },
    {
     "data": {
      "image/png": "[encoded data removed]",
      "text/plain": [
       "<Figure size 1080x360 with 1 Axes>"
      ]
     },
     "metadata": {
      "needs_background": "light"
     },
     "output_type": "display_data"
    }
   ],
   "source": [
    "#Bar Plot for comparision between \"generation_gwh_2017\" column and \"primary_fuel\" column\n",
    "plt.figure(figsize=(15,5))\n",
    "sns.barplot(y=\"generation_gwh_2017\",data=power_plant,x='primary_fuel')"
   ]
  },
  {
   "cell_type": "code",
   "execution_count": 73,
   "id": "a7e1ac1e",
   "metadata": {},
   "outputs": [
    {
     "data": {
      "text/plain": [
       "<AxesSubplot:xlabel='primary_fuel', ylabel='generation_gwh_2018'>"
      ]
     },
     "execution_count": 73,
     "metadata": {},
     "output_type": "execute_result"
    },
    {
     "data": {
      "image/png": "[encoded data removed]",
      "text/plain": [
       "<Figure size 1080x360 with 1 Axes>"
      ]
     },
     "metadata": {
      "needs_background": "light"
     },
     "output_type": "display_data"
    }
   ],
   "source": [
    "#Bar Plot for comparision between \"generation_gwh_2018\" column and \"primary_fuel\" column\n",
    "plt.figure(figsize=(15,5))\n",
    "sns.barplot(y=\"generation_gwh_2018\",data=power_plant,x='primary_fuel')"
   ]
  },
  {
   "cell_type": "code",
   "execution_count": 74,
   "id": "8d584070",
   "metadata": {},
   "outputs": [
    {
     "data": {
      "text/plain": [
       "<AxesSubplot:xlabel='geolocation_source', ylabel='capacity_mw'>"
      ]
     },
     "execution_count": 74,
     "metadata": {},
     "output_type": "execute_result"
    },
    {
     "data": {
      "image/png": "[encoded data removed]",
      "text/plain": [
       "<Figure size 504x360 with 1 Axes>"
      ]
     },
     "metadata": {
      "needs_background": "light"
     },
     "output_type": "display_data"
    }
   ],
   "source": [
    "#Bar Plot for comparision between \"geolocation_source\" column and \"capacity_mw\" column\n",
    "plt.figure(figsize=(7,5))\n",
    "sns.barplot(x=\"geolocation_source\",data=power_plant, y='capacity_mw')"
   ]
  },
  {
   "cell_type": "code",
   "execution_count": 75,
   "id": "ae492a9a",
   "metadata": {},
   "outputs": [
    {
     "data": {
      "text/plain": [
       "<AxesSubplot:xlabel='latitude', ylabel='capacity_mw'>"
      ]
     },
     "execution_count": 75,
     "metadata": {},
     "output_type": "execute_result"
    },
    {
     "data": {
      "image/png": "[encoded data removed]",
      "text/plain": [
       "<Figure size 720x360 with 1 Axes>"
      ]
     },
     "metadata": {
      "needs_background": "light"
     },
     "output_type": "display_data"
    }
   ],
   "source": [
    "#scatterplot for comparision between \"latitude\" column and \"capacity_mw\" column\n",
    "plt.figure(figsize=(10,5))\n",
    "sns.scatterplot(x=\"latitude\",data=power_plant, y='capacity_mw')"
   ]
  },
  {
   "cell_type": "code",
   "execution_count": 76,
   "id": "ee19d276",
   "metadata": {},
   "outputs": [
    {
     "data": {
      "text/plain": [
       "<AxesSubplot:xlabel='longitude', ylabel='capacity_mw'>"
      ]
     },
     "execution_count": 76,
     "metadata": {},
     "output_type": "execute_result"
    },
    {
     "data": {
      "image/png": "[encoded data removed]",
      "text/plain": [
       "<Figure size 504x360 with 1 Axes>"
      ]
     },
     "metadata": {
      "needs_background": "light"
     },
     "output_type": "display_data"
    }
   ],
   "source": [
    "#scatterplot for comparision between \"longitude\" column and \"capacity_mw\" column\n",
    "plt.figure(figsize=(7,5))\n",
    "sns.scatterplot(x=\"longitude\",data=power_plant, y='capacity_mw')"
   ]
  },
  {
   "cell_type": "code",
   "execution_count": 77,
   "id": "2217420e",
   "metadata": {},
   "outputs": [
    {
     "data": {
      "text/plain": [
       "<AxesSubplot:xlabel='generation_gwh_2014', ylabel='capacity_mw'>"
      ]
     },
     "execution_count": 77,
     "metadata": {},
     "output_type": "execute_result"
    },
    {
     "data": {
      "image/png": "[encoded data removed]",
      "text/plain": [
       "<Figure size 504x360 with 1 Axes>"
      ]
     },
     "metadata": {
      "needs_background": "light"
     },
     "output_type": "display_data"
    }
   ],
   "source": [
    "#scatterplot for comparision between \"generation_gwh_2014\" column and \"capacity_mw\" column\n",
    "plt.figure(figsize=(7,5))\n",
    "sns.scatterplot(x=\"generation_gwh_2014\",data=power_plant, y='capacity_mw')"
   ]
  },
  {
   "cell_type": "code",
   "execution_count": 78,
   "id": "22cf7630",
   "metadata": {},
   "outputs": [
    {
     "data": {
      "text/plain": [
       "<AxesSubplot:xlabel='generation_gwh_2015', ylabel='capacity_mw'>"
      ]
     },
     "execution_count": 78,
     "metadata": {},
     "output_type": "execute_result"
    },
    {
     "data": {
      "image/png": "[encoded data removed]",
      "text/plain": [
       "<Figure size 504x360 with 1 Axes>"
      ]
     },
     "metadata": {
      "needs_background": "light"
     },
     "output_type": "display_data"
    }
   ],
   "source": [
    "#scatterplot for comparision between \"generation_gwh_2015\" column and \"capacity_mw\" column\n",
    "plt.figure(figsize=(7,5))\n",
    "sns.scatterplot(x=\"generation_gwh_2015\",data=power_plant, y='capacity_mw')"
   ]
  },
  {
   "cell_type": "code",
   "execution_count": 79,
   "id": "5332a0c8",
   "metadata": {},
   "outputs": [
    {
     "data": {
      "text/plain": [
       "<AxesSubplot:xlabel='generation_gwh_2016', ylabel='capacity_mw'>"
      ]
     },
     "execution_count": 79,
     "metadata": {},
     "output_type": "execute_result"
    },
    {
     "data": {
      "image/png": "[encoded data removed]",
      "text/plain": [
       "<Figure size 504x360 with 1 Axes>"
      ]
     },
     "metadata": {
      "needs_background": "light"
     },
     "output_type": "display_data"
    }
   ],
   "source": [
    "#scatterplot for comparision between \"generation_gwh_2016\" column and \"capacity_mw\" column\n",
    "plt.figure(figsize=(7,5))\n",
    "sns.scatterplot(x=\"generation_gwh_2016\",data=power_plant, y='capacity_mw')"
   ]
  },
  {
   "cell_type": "code",
   "execution_count": 80,
   "id": "f18bdae6",
   "metadata": {},
   "outputs": [
    {
     "data": {
      "text/plain": [
       "<AxesSubplot:xlabel='generation_gwh_2017', ylabel='capacity_mw'>"
      ]
     },
     "execution_count": 80,
     "metadata": {},
     "output_type": "execute_result"
    },
    {
     "data": {
      "image/png": "[encoded data removed]",
      "text/plain": [
       "<Figure size 504x360 with 1 Axes>"
      ]
     },
     "metadata": {
      "needs_background": "light"
     },
     "output_type": "display_data"
    }
   ],
   "source": [
    "#scatterplot for comparision between \"generation_gwh_2017\" column and \"capacity_mw\" column\n",
    "plt.figure(figsize=(7,5))\n",
    "sns.scatterplot(x=\"generation_gwh_2017\",data=power_plant, y='capacity_mw')"
   ]
  },
  {
   "cell_type": "code",
   "execution_count": 81,
   "id": "189d170b",
   "metadata": {},
   "outputs": [
    {
     "data": {
      "text/plain": [
       "<AxesSubplot:xlabel='generation_gwh_2018', ylabel='capacity_mw'>"
      ]
     },
     "execution_count": 81,
     "metadata": {},
     "output_type": "execute_result"
    },
    {
     "data": {
      "image/png": "[encoded data removed]",
      "text/plain": [
       "<Figure size 504x360 with 1 Axes>"
      ]
     },
     "metadata": {
      "needs_background": "light"
     },
     "output_type": "display_data"
    }
   ],
   "source": [
    "#scatterplot for comparision between \"generation_gwh_2018\" column and \"capacity_mw\" column\n",
    "plt.figure(figsize=(7,5))\n",
    "sns.scatterplot(x=\"generation_gwh_2018\",data=power_plant, y='capacity_mw')"
   ]
  },
  {
   "cell_type": "code",
   "execution_count": 82,
   "id": "31f15f35",
   "metadata": {},
   "outputs": [],
   "source": [
    "# Multivariate Analysis:"
   ]
  },
  {
   "cell_type": "code",
   "execution_count": 83,
   "id": "5309e839",
   "metadata": {},
   "outputs": [
    {
     "data": {
      "image/png": "[encoded data removed]",
      "text/plain": [
       "<Figure size 864x504 with 1 Axes>"
      ]
     },
     "metadata": {
      "needs_background": "light"
     },
     "output_type": "display_data"
    }
   ],
   "source": [
    "plt.figure(figsize=(12,7))\n",
    "power_plant.corr()['capacity_mw'].sort_values(ascending=True).drop(['capacity_mw']).plot(kind='bar',color='c')\n",
    "plt.xlabel('Feature',fontsize=14)\n",
    "plt.ylabel('Target',fontsize=14)\n",
    "plt.title('Correlation',fontsize=18)\n",
    "plt.show()"
   ]
  },
  {
   "cell_type": "markdown",
   "id": "12409c61",
   "metadata": {},
   "source": [
    "# Correlation:"
   ]
  },
  {
   "cell_type": "code",
   "execution_count": 84,
   "id": "72f71af1",
   "metadata": {},
   "outputs": [
    {
     "data": {
      "text/html": [
       "<div>\n",
       "<style scoped>\n",
       "    .dataframe tbody tr th:only-of-type {\n",
       "        vertical-align: middle;\n",
       "    }\n",
       "\n",
       "    .dataframe tbody tr th {\n",
       "        vertical-align: top;\n",
       "    }\n",
       "\n",
       "    .dataframe thead th {\n",
       "        text-align: right;\n",
       "    }\n",
       "</style>\n",
       "<table border=\"1\" class=\"dataframe\">\n",
       "  <thead>\n",
       "    <tr style=\"text-align: right;\">\n",
       "      <th></th>\n",
       "      <th>capacity_mw</th>\n",
       "      <th>latitude</th>\n",
       "      <th>longitude</th>\n",
       "      <th>commissioning_year</th>\n",
       "      <th>generation_gwh_2014</th>\n",
       "      <th>generation_gwh_2015</th>\n",
       "      <th>generation_gwh_2016</th>\n",
       "      <th>generation_gwh_2017</th>\n",
       "      <th>generation_gwh_2018</th>\n",
       "    </tr>\n",
       "  </thead>\n",
       "  <tbody>\n",
       "    <tr>\n",
       "      <th>capacity_mw</th>\n",
       "      <td>1.000000</td>\n",
       "      <td>0.050984</td>\n",
       "      <td>0.195882</td>\n",
       "      <td>0.274292</td>\n",
       "      <td>0.694350</td>\n",
       "      <td>0.711190</td>\n",
       "      <td>0.742221</td>\n",
       "      <td>0.757585</td>\n",
       "      <td>0.773456</td>\n",
       "    </tr>\n",
       "    <tr>\n",
       "      <th>latitude</th>\n",
       "      <td>0.050984</td>\n",
       "      <td>1.000000</td>\n",
       "      <td>0.036362</td>\n",
       "      <td>0.102069</td>\n",
       "      <td>0.044321</td>\n",
       "      <td>0.036398</td>\n",
       "      <td>0.031256</td>\n",
       "      <td>0.031212</td>\n",
       "      <td>0.031326</td>\n",
       "    </tr>\n",
       "    <tr>\n",
       "      <th>longitude</th>\n",
       "      <td>0.195882</td>\n",
       "      <td>0.036362</td>\n",
       "      <td>1.000000</td>\n",
       "      <td>0.092331</td>\n",
       "      <td>0.011472</td>\n",
       "      <td>0.018818</td>\n",
       "      <td>0.039209</td>\n",
       "      <td>0.039675</td>\n",
       "      <td>0.037780</td>\n",
       "    </tr>\n",
       "    <tr>\n",
       "      <th>commissioning_year</th>\n",
       "      <td>0.274292</td>\n",
       "      <td>0.102069</td>\n",
       "      <td>0.092331</td>\n",
       "      <td>1.000000</td>\n",
       "      <td>0.133051</td>\n",
       "      <td>0.147338</td>\n",
       "      <td>0.170644</td>\n",
       "      <td>0.170863</td>\n",
       "      <td>0.174377</td>\n",
       "    </tr>\n",
       "    <tr>\n",
       "      <th>generation_gwh_2014</th>\n",
       "      <td>0.694350</td>\n",
       "      <td>0.044321</td>\n",
       "      <td>0.011472</td>\n",
       "      <td>0.133051</td>\n",
       "      <td>1.000000</td>\n",
       "      <td>0.953594</td>\n",
       "      <td>0.925874</td>\n",
       "      <td>0.891687</td>\n",
       "      <td>0.884956</td>\n",
       "    </tr>\n",
       "    <tr>\n",
       "      <th>generation_gwh_2015</th>\n",
       "      <td>0.711190</td>\n",
       "      <td>0.036398</td>\n",
       "      <td>0.018818</td>\n",
       "      <td>0.147338</td>\n",
       "      <td>0.953594</td>\n",
       "      <td>1.000000</td>\n",
       "      <td>0.968888</td>\n",
       "      <td>0.928242</td>\n",
       "      <td>0.923461</td>\n",
       "    </tr>\n",
       "    <tr>\n",
       "      <th>generation_gwh_2016</th>\n",
       "      <td>0.742221</td>\n",
       "      <td>0.031256</td>\n",
       "      <td>0.039209</td>\n",
       "      <td>0.170644</td>\n",
       "      <td>0.925874</td>\n",
       "      <td>0.968888</td>\n",
       "      <td>1.000000</td>\n",
       "      <td>0.964649</td>\n",
       "      <td>0.957159</td>\n",
       "    </tr>\n",
       "    <tr>\n",
       "      <th>generation_gwh_2017</th>\n",
       "      <td>0.757585</td>\n",
       "      <td>0.031212</td>\n",
       "      <td>0.039675</td>\n",
       "      <td>0.170863</td>\n",
       "      <td>0.891687</td>\n",
       "      <td>0.928242</td>\n",
       "      <td>0.964649</td>\n",
       "      <td>1.000000</td>\n",
       "      <td>0.982689</td>\n",
       "    </tr>\n",
       "    <tr>\n",
       "      <th>generation_gwh_2018</th>\n",
       "      <td>0.773456</td>\n",
       "      <td>0.031326</td>\n",
       "      <td>0.037780</td>\n",
       "      <td>0.174377</td>\n",
       "      <td>0.884956</td>\n",
       "      <td>0.923461</td>\n",
       "      <td>0.957159</td>\n",
       "      <td>0.982689</td>\n",
       "      <td>1.000000</td>\n",
       "    </tr>\n",
       "  </tbody>\n",
       "</table>\n",
       "</div>"
      ],
      "text/plain": [
       "                     capacity_mw  latitude  longitude  commissioning_year  \\\n",
       "capacity_mw             1.000000  0.050984   0.195882            0.274292   \n",
       "latitude                0.050984  1.000000   0.036362            0.102069   \n",
       "longitude               0.195882  0.036362   1.000000            0.092331   \n",
       "commissioning_year      0.274292  0.102069   0.092331            1.000000   \n",
       "generation_gwh_2014     0.694350  0.044321   0.011472            0.133051   \n",
       "generation_gwh_2015     0.711190  0.036398   0.018818            0.147338   \n",
       "generation_gwh_2016     0.742221  0.031256   0.039209            0.170644   \n",
       "generation_gwh_2017     0.757585  0.031212   0.039675            0.170863   \n",
       "generation_gwh_2018     0.773456  0.031326   0.037780            0.174377   \n",
       "\n",
       "                     generation_gwh_2014  generation_gwh_2015  \\\n",
       "capacity_mw                     0.694350             0.711190   \n",
       "latitude                        0.044321             0.036398   \n",
       "longitude                       0.011472             0.018818   \n",
       "commissioning_year              0.133051             0.147338   \n",
       "generation_gwh_2014             1.000000             0.953594   \n",
       "generation_gwh_2015             0.953594             1.000000   \n",
       "generation_gwh_2016             0.925874             0.968888   \n",
       "generation_gwh_2017             0.891687             0.928242   \n",
       "generation_gwh_2018             0.884956             0.923461   \n",
       "\n",
       "                     generation_gwh_2016  generation_gwh_2017  \\\n",
       "capacity_mw                     0.742221             0.757585   \n",
       "latitude                        0.031256             0.031212   \n",
       "longitude                       0.039209             0.039675   \n",
       "commissioning_year              0.170644             0.170863   \n",
       "generation_gwh_2014             0.925874             0.891687   \n",
       "generation_gwh_2015             0.968888             0.928242   \n",
       "generation_gwh_2016             1.000000             0.964649   \n",
       "generation_gwh_2017             0.964649             1.000000   \n",
       "generation_gwh_2018             0.957159             0.982689   \n",
       "\n",
       "                     generation_gwh_2018  \n",
       "capacity_mw                     0.773456  \n",
       "latitude                        0.031326  \n",
       "longitude                       0.037780  \n",
       "commissioning_year              0.174377  \n",
       "generation_gwh_2014             0.884956  \n",
       "generation_gwh_2015             0.923461  \n",
       "generation_gwh_2016             0.957159  \n",
       "generation_gwh_2017             0.982689  \n",
       "generation_gwh_2018             1.000000  "
      ]
     },
     "execution_count": 84,
     "metadata": {},
     "output_type": "execute_result"
    }
   ],
   "source": [
    "power_plant.corr()"
   ]
  },
  {
   "cell_type": "code",
   "execution_count": 85,
   "id": "4018356f",
   "metadata": {},
   "outputs": [
    {
     "data": {
      "text/plain": [
       "latitude               0.050984\n",
       "longitude              0.195882\n",
       "commissioning_year     0.274292\n",
       "generation_gwh_2014    0.694350\n",
       "generation_gwh_2015    0.711190\n",
       "generation_gwh_2016    0.742221\n",
       "generation_gwh_2017    0.757585\n",
       "generation_gwh_2018    0.773456\n",
       "capacity_mw            1.000000\n",
       "Name: capacity_mw, dtype: float64"
      ]
     },
     "execution_count": 85,
     "metadata": {},
     "output_type": "execute_result"
    }
   ],
   "source": [
    "power_plant.corr()[\"capacity_mw\"].sort_values()"
   ]
  },
  {
   "cell_type": "markdown",
   "id": "08422136",
   "metadata": {},
   "source": [
    "**We can observe least correlation is with column \"latitude\" and strong correlation is with column \"generation_gwh_2018\".**\n",
    "**All columns are positively correlated with target column \"capacity_mw\".**"
   ]
  },
  {
   "cell_type": "code",
   "execution_count": 86,
   "id": "c1108d7c",
   "metadata": {},
   "outputs": [],
   "source": [
    "# Visualizing Correlation:"
   ]
  },
  {
   "cell_type": "code",
   "execution_count": 87,
   "id": "5cab31db",
   "metadata": {},
   "outputs": [
    {
     "data": {
      "text/plain": [
       "<AxesSubplot:>"
      ]
     },
     "execution_count": 87,
     "metadata": {},
     "output_type": "execute_result"
    },
    {
     "data": {
      "image/png": "[encoded data removed]",
      "text/plain": [
       "<Figure size 1080x504 with 2 Axes>"
      ]
     },
     "metadata": {
      "needs_background": "light"
     },
     "output_type": "display_data"
    }
   ],
   "source": [
    "plt.figure(figsize=(15,7))\n",
    "sns.heatmap(power_plant.corr(),annot=True, linewidth=0.5, linecolor='white', fmt='.2f')"
   ]
  },
  {
   "cell_type": "markdown",
   "id": "0c332488",
   "metadata": {},
   "source": [
    "**Minimum Correlation: latitude**\n",
    "\n",
    "**Maximum Correlation: generation_gwh_2018**"
   ]
  },
  {
   "cell_type": "markdown",
   "id": "09c4a43d",
   "metadata": {},
   "source": [
    "# Label Encoding"
   ]
  },
  {
   "cell_type": "markdown",
   "id": "d94c7e41",
   "metadata": {},
   "source": [
    "**As we have some object datatype , but model does not understand categorical values. So we need to convert object datatype into numeric using \"Label Encoding\".**"
   ]
  },
  {
   "cell_type": "code",
   "execution_count": 88,
   "id": "25099170",
   "metadata": {},
   "outputs": [],
   "source": [
    "from sklearn.preprocessing import LabelEncoder"
   ]
  },
  {
   "cell_type": "code",
   "execution_count": 90,
   "id": "51e4c9f2",
   "metadata": {},
   "outputs": [],
   "source": [
    "encoder = LabelEncoder()\n",
    "for i in power_plant.columns:\n",
    "    if power_plant[i].dtypes==\"object\":\n",
    "        power_plant[i]=encoder.fit_transform(power_plant[i].values.reshape(-1,1))"
   ]
  },
  {
   "cell_type": "code",
   "execution_count": 91,
   "id": "9e81176d",
   "metadata": {},
   "outputs": [
    {
     "data": {
      "text/plain": [
       "capacity_mw            float64\n",
       "latitude               float64\n",
       "longitude              float64\n",
       "primary_fuel             int32\n",
       "commissioning_year     float64\n",
       "geolocation_source       int32\n",
       "generation_gwh_2014    float64\n",
       "generation_gwh_2015    float64\n",
       "generation_gwh_2016    float64\n",
       "generation_gwh_2017    float64\n",
       "generation_gwh_2018    float64\n",
       "dtype: object"
      ]
     },
     "execution_count": 91,
     "metadata": {},
     "output_type": "execute_result"
    }
   ],
   "source": [
    "# To verify , if the datatypes converted to float or not:\n",
    "power_plant.dtypes"
   ]
  },
  {
   "cell_type": "markdown",
   "id": "51d7094b",
   "metadata": {},
   "source": [
    "# Outliers Detection:"
   ]
  },
  {
   "cell_type": "code",
   "execution_count": 92,
   "id": "1dad25ca",
   "metadata": {},
   "outputs": [
    {
     "data": {
      "image/png": "[encoded data removed]",
      "text/plain": [
       "<Figure size 792x2376 with 11 Axes>"
      ]
     },
     "metadata": {
      "needs_background": "light"
     },
     "output_type": "display_data"
    }
   ],
   "source": [
    "columns=power_plant.columns.values\n",
    "ncol=11\n",
    "nrows=7\n",
    "plt.figure(figsize=(ncol,3*ncol))\n",
    "for i in range(0,len(columns)):\n",
    "    plt.subplot(nrows,ncol,i+1)\n",
    "    sns.boxplot(data=power_plant[columns[i]],color='green',orient='v')\n",
    "    plt.tight_layout()"
   ]
  },
  {
   "cell_type": "markdown",
   "id": "2d1ef4fe",
   "metadata": {},
   "source": [
    "**Observations:**\n",
    "\n",
    " We observed that the Outliers are present in columns: 'capacity_mw', 'longitude', 'commissioning_year', 'geolocation_source', 'generation_gwh_2014', 'generation_gwh_2015', 'generation_gwh_2016', 'generation_gwh_2017' and 'generation_gwh_2018'."
   ]
  },
  {
   "cell_type": "code",
   "execution_count": 94,
   "id": "6f2301d9",
   "metadata": {},
   "outputs": [],
   "source": [
    "# Removing Outliers using Z score method for primary_fuel:"
   ]
  },
  {
   "cell_type": "code",
   "execution_count": 95,
   "id": "b562ea2e",
   "metadata": {},
   "outputs": [
    {
     "data": {
      "text/html": [
       "<div>\n",
       "<style scoped>\n",
       "    .dataframe tbody tr th:only-of-type {\n",
       "        vertical-align: middle;\n",
       "    }\n",
       "\n",
       "    .dataframe tbody tr th {\n",
       "        vertical-align: top;\n",
       "    }\n",
       "\n",
       "    .dataframe thead th {\n",
       "        text-align: right;\n",
       "    }\n",
       "</style>\n",
       "<table border=\"1\" class=\"dataframe\">\n",
       "  <thead>\n",
       "    <tr style=\"text-align: right;\">\n",
       "      <th></th>\n",
       "      <th>capacity_mw</th>\n",
       "      <th>latitude</th>\n",
       "      <th>longitude</th>\n",
       "      <th>primary_fuel</th>\n",
       "      <th>commissioning_year</th>\n",
       "      <th>geolocation_source</th>\n",
       "      <th>generation_gwh_2014</th>\n",
       "      <th>generation_gwh_2015</th>\n",
       "      <th>generation_gwh_2016</th>\n",
       "      <th>generation_gwh_2017</th>\n",
       "      <th>generation_gwh_2018</th>\n",
       "    </tr>\n",
       "  </thead>\n",
       "  <tbody>\n",
       "    <tr>\n",
       "      <th>0</th>\n",
       "      <td>2.5</td>\n",
       "      <td>28.1839</td>\n",
       "      <td>73.2407</td>\n",
       "      <td>6</td>\n",
       "      <td>2011.000000</td>\n",
       "      <td>1</td>\n",
       "      <td>2431.823590</td>\n",
       "      <td>2428.226946</td>\n",
       "      <td>2467.936859</td>\n",
       "      <td>2547.759305</td>\n",
       "      <td>2600.804099</td>\n",
       "    </tr>\n",
       "    <tr>\n",
       "      <th>1</th>\n",
       "      <td>98.0</td>\n",
       "      <td>24.7663</td>\n",
       "      <td>74.6090</td>\n",
       "      <td>1</td>\n",
       "      <td>1997.091082</td>\n",
       "      <td>2</td>\n",
       "      <td>2431.823590</td>\n",
       "      <td>2428.226946</td>\n",
       "      <td>2467.936859</td>\n",
       "      <td>2547.759305</td>\n",
       "      <td>2600.804099</td>\n",
       "    </tr>\n",
       "    <tr>\n",
       "      <th>2</th>\n",
       "      <td>39.2</td>\n",
       "      <td>21.9038</td>\n",
       "      <td>69.3732</td>\n",
       "      <td>7</td>\n",
       "      <td>1997.091082</td>\n",
       "      <td>2</td>\n",
       "      <td>2431.823590</td>\n",
       "      <td>2428.226946</td>\n",
       "      <td>2467.936859</td>\n",
       "      <td>2547.759305</td>\n",
       "      <td>2600.804099</td>\n",
       "    </tr>\n",
       "    <tr>\n",
       "      <th>3</th>\n",
       "      <td>135.0</td>\n",
       "      <td>23.8712</td>\n",
       "      <td>91.3602</td>\n",
       "      <td>2</td>\n",
       "      <td>2004.000000</td>\n",
       "      <td>2</td>\n",
       "      <td>617.789264</td>\n",
       "      <td>843.747000</td>\n",
       "      <td>886.004428</td>\n",
       "      <td>663.774500</td>\n",
       "      <td>626.239128</td>\n",
       "    </tr>\n",
       "    <tr>\n",
       "      <th>4</th>\n",
       "      <td>1800.0</td>\n",
       "      <td>21.9603</td>\n",
       "      <td>82.4091</td>\n",
       "      <td>1</td>\n",
       "      <td>2015.000000</td>\n",
       "      <td>2</td>\n",
       "      <td>3035.550000</td>\n",
       "      <td>5916.370000</td>\n",
       "      <td>6243.000000</td>\n",
       "      <td>5385.579736</td>\n",
       "      <td>7279.000000</td>\n",
       "    </tr>\n",
       "  </tbody>\n",
       "</table>\n",
       "</div>"
      ],
      "text/plain": [
       "   capacity_mw  latitude  longitude  primary_fuel  commissioning_year  \\\n",
       "0          2.5   28.1839    73.2407             6         2011.000000   \n",
       "1         98.0   24.7663    74.6090             1         1997.091082   \n",
       "2         39.2   21.9038    69.3732             7         1997.091082   \n",
       "3        135.0   23.8712    91.3602             2         2004.000000   \n",
       "4       1800.0   21.9603    82.4091             1         2015.000000   \n",
       "\n",
       "   geolocation_source  generation_gwh_2014  generation_gwh_2015  \\\n",
       "0                   1          2431.823590          2428.226946   \n",
       "1                   2          2431.823590          2428.226946   \n",
       "2                   2          2431.823590          2428.226946   \n",
       "3                   2           617.789264           843.747000   \n",
       "4                   2          3035.550000          5916.370000   \n",
       "\n",
       "   generation_gwh_2016  generation_gwh_2017  generation_gwh_2018  \n",
       "0          2467.936859          2547.759305          2600.804099  \n",
       "1          2467.936859          2547.759305          2600.804099  \n",
       "2          2467.936859          2547.759305          2600.804099  \n",
       "3           886.004428           663.774500           626.239128  \n",
       "4          6243.000000          5385.579736          7279.000000  "
      ]
     },
     "execution_count": 95,
     "metadata": {},
     "output_type": "execute_result"
    }
   ],
   "source": [
    "outliers = power_plant[[ 'capacity_mw', 'longitude', 'commissioning_year', 'geolocation_source', 'generation_gwh_2014', 'generation_gwh_2015', 'generation_gwh_2016', 'generation_gwh_2017', 'generation_gwh_2018']]\n",
    "\n",
    "z=np.abs(zscore(outliers))\n",
    "\n",
    "# Creating new dataframe for regression\n",
    "global_plant = power_plant[(z<3).all(axis=1)]\n",
    "global_plant.head()"
   ]
  },
  {
   "cell_type": "code",
   "execution_count": 96,
   "id": "d26c6b08",
   "metadata": {},
   "outputs": [
    {
     "data": {
      "text/html": [
       "<div>\n",
       "<style scoped>\n",
       "    .dataframe tbody tr th:only-of-type {\n",
       "        vertical-align: middle;\n",
       "    }\n",
       "\n",
       "    .dataframe tbody tr th {\n",
       "        vertical-align: top;\n",
       "    }\n",
       "\n",
       "    .dataframe thead th {\n",
       "        text-align: right;\n",
       "    }\n",
       "</style>\n",
       "<table border=\"1\" class=\"dataframe\">\n",
       "  <thead>\n",
       "    <tr style=\"text-align: right;\">\n",
       "      <th></th>\n",
       "      <th>capacity_mw</th>\n",
       "      <th>longitude</th>\n",
       "      <th>commissioning_year</th>\n",
       "      <th>geolocation_source</th>\n",
       "      <th>generation_gwh_2014</th>\n",
       "      <th>generation_gwh_2015</th>\n",
       "      <th>generation_gwh_2016</th>\n",
       "      <th>generation_gwh_2017</th>\n",
       "      <th>generation_gwh_2018</th>\n",
       "    </tr>\n",
       "  </thead>\n",
       "  <tbody>\n",
       "    <tr>\n",
       "      <th>0</th>\n",
       "      <td>0.548908</td>\n",
       "      <td>0.878280</td>\n",
       "      <td>1.069162e+00</td>\n",
       "      <td>1.083349</td>\n",
       "      <td>1.707094e-16</td>\n",
       "      <td>0.000000</td>\n",
       "      <td>0.000000</td>\n",
       "      <td>1.557412e-16</td>\n",
       "      <td>1.501244e-16</td>\n",
       "    </tr>\n",
       "    <tr>\n",
       "      <th>1</th>\n",
       "      <td>0.386977</td>\n",
       "      <td>0.593788</td>\n",
       "      <td>1.747794e-14</td>\n",
       "      <td>0.394241</td>\n",
       "      <td>1.707094e-16</td>\n",
       "      <td>0.000000</td>\n",
       "      <td>0.000000</td>\n",
       "      <td>1.557412e-16</td>\n",
       "      <td>1.501244e-16</td>\n",
       "    </tr>\n",
       "    <tr>\n",
       "      <th>2</th>\n",
       "      <td>0.486679</td>\n",
       "      <td>1.682394</td>\n",
       "      <td>1.747794e-14</td>\n",
       "      <td>0.394241</td>\n",
       "      <td>1.707094e-16</td>\n",
       "      <td>0.000000</td>\n",
       "      <td>0.000000</td>\n",
       "      <td>1.557412e-16</td>\n",
       "      <td>1.501244e-16</td>\n",
       "    </tr>\n",
       "    <tr>\n",
       "      <th>3</th>\n",
       "      <td>0.324240</td>\n",
       "      <td>2.889052</td>\n",
       "      <td>5.310801e-01</td>\n",
       "      <td>0.394241</td>\n",
       "      <td>6.809773e-01</td>\n",
       "      <td>0.554446</td>\n",
       "      <td>0.549988</td>\n",
       "      <td>6.452243e-01</td>\n",
       "      <td>6.518573e-01</td>\n",
       "    </tr>\n",
       "    <tr>\n",
       "      <th>4</th>\n",
       "      <td>2.498942</td>\n",
       "      <td>1.027976</td>\n",
       "      <td>1.376637e+00</td>\n",
       "      <td>0.394241</td>\n",
       "      <td>2.266352e-01</td>\n",
       "      <td>1.220581</td>\n",
       "      <td>1.312471</td>\n",
       "      <td>9.718925e-01</td>\n",
       "      <td>1.544399e+00</td>\n",
       "    </tr>\n",
       "  </tbody>\n",
       "</table>\n",
       "</div>"
      ],
      "text/plain": [
       "   capacity_mw  longitude  commissioning_year  geolocation_source  \\\n",
       "0     0.548908   0.878280        1.069162e+00            1.083349   \n",
       "1     0.386977   0.593788        1.747794e-14            0.394241   \n",
       "2     0.486679   1.682394        1.747794e-14            0.394241   \n",
       "3     0.324240   2.889052        5.310801e-01            0.394241   \n",
       "4     2.498942   1.027976        1.376637e+00            0.394241   \n",
       "\n",
       "   generation_gwh_2014  generation_gwh_2015  generation_gwh_2016  \\\n",
       "0         1.707094e-16             0.000000             0.000000   \n",
       "1         1.707094e-16             0.000000             0.000000   \n",
       "2         1.707094e-16             0.000000             0.000000   \n",
       "3         6.809773e-01             0.554446             0.549988   \n",
       "4         2.266352e-01             1.220581             1.312471   \n",
       "\n",
       "   generation_gwh_2017  generation_gwh_2018  \n",
       "0         1.557412e-16         1.501244e-16  \n",
       "1         1.557412e-16         1.501244e-16  \n",
       "2         1.557412e-16         1.501244e-16  \n",
       "3         6.452243e-01         6.518573e-01  \n",
       "4         9.718925e-01         1.544399e+00  "
      ]
     },
     "execution_count": 96,
     "metadata": {},
     "output_type": "execute_result"
    }
   ],
   "source": [
    "z.head()"
   ]
  },
  {
   "cell_type": "code",
   "execution_count": 97,
   "id": "9fa25d9f",
   "metadata": {},
   "outputs": [
    {
     "data": {
      "text/plain": [
       "(849, 11)"
      ]
     },
     "execution_count": 97,
     "metadata": {},
     "output_type": "execute_result"
    }
   ],
   "source": [
    "global_plant.shape"
   ]
  },
  {
   "cell_type": "code",
   "execution_count": 98,
   "id": "4dc024d9",
   "metadata": {},
   "outputs": [
    {
     "data": {
      "text/plain": [
       "58"
      ]
     },
     "execution_count": 98,
     "metadata": {},
     "output_type": "execute_result"
    }
   ],
   "source": [
    "# To find the no. of dropped rows:\n",
    "power_plant.shape[0]-global_plant.shape[0]"
   ]
  },
  {
   "cell_type": "code",
   "execution_count": 99,
   "id": "548e90a4",
   "metadata": {},
   "outputs": [
    {
     "name": "stdout",
     "output_type": "stream",
     "text": [
      "6.39470782800441 %\n"
     ]
    }
   ],
   "source": [
    "# To find the data loss:\n",
    "loss=(907-849)/907*100\n",
    "print(loss,\"%\")"
   ]
  },
  {
   "cell_type": "code",
   "execution_count": 100,
   "id": "47aec786",
   "metadata": {},
   "outputs": [],
   "source": [
    "# Removing outliers using Z score method for capacity_mw:"
   ]
  },
  {
   "cell_type": "code",
   "execution_count": 101,
   "id": "db80f465",
   "metadata": {},
   "outputs": [
    {
     "data": {
      "text/html": [
       "<div>\n",
       "<style scoped>\n",
       "    .dataframe tbody tr th:only-of-type {\n",
       "        vertical-align: middle;\n",
       "    }\n",
       "\n",
       "    .dataframe tbody tr th {\n",
       "        vertical-align: top;\n",
       "    }\n",
       "\n",
       "    .dataframe thead th {\n",
       "        text-align: right;\n",
       "    }\n",
       "</style>\n",
       "<table border=\"1\" class=\"dataframe\">\n",
       "  <thead>\n",
       "    <tr style=\"text-align: right;\">\n",
       "      <th></th>\n",
       "      <th>capacity_mw</th>\n",
       "      <th>latitude</th>\n",
       "      <th>longitude</th>\n",
       "      <th>primary_fuel</th>\n",
       "      <th>commissioning_year</th>\n",
       "      <th>geolocation_source</th>\n",
       "      <th>generation_gwh_2014</th>\n",
       "      <th>generation_gwh_2015</th>\n",
       "      <th>generation_gwh_2016</th>\n",
       "      <th>generation_gwh_2017</th>\n",
       "      <th>generation_gwh_2018</th>\n",
       "    </tr>\n",
       "  </thead>\n",
       "  <tbody>\n",
       "    <tr>\n",
       "      <th>0</th>\n",
       "      <td>2.5</td>\n",
       "      <td>28.1839</td>\n",
       "      <td>73.2407</td>\n",
       "      <td>6</td>\n",
       "      <td>2011.000000</td>\n",
       "      <td>1</td>\n",
       "      <td>2431.823590</td>\n",
       "      <td>2428.226946</td>\n",
       "      <td>2467.936859</td>\n",
       "      <td>2547.759305</td>\n",
       "      <td>2600.804099</td>\n",
       "    </tr>\n",
       "    <tr>\n",
       "      <th>1</th>\n",
       "      <td>98.0</td>\n",
       "      <td>24.7663</td>\n",
       "      <td>74.6090</td>\n",
       "      <td>1</td>\n",
       "      <td>1997.091082</td>\n",
       "      <td>2</td>\n",
       "      <td>2431.823590</td>\n",
       "      <td>2428.226946</td>\n",
       "      <td>2467.936859</td>\n",
       "      <td>2547.759305</td>\n",
       "      <td>2600.804099</td>\n",
       "    </tr>\n",
       "    <tr>\n",
       "      <th>2</th>\n",
       "      <td>39.2</td>\n",
       "      <td>21.9038</td>\n",
       "      <td>69.3732</td>\n",
       "      <td>7</td>\n",
       "      <td>1997.091082</td>\n",
       "      <td>2</td>\n",
       "      <td>2431.823590</td>\n",
       "      <td>2428.226946</td>\n",
       "      <td>2467.936859</td>\n",
       "      <td>2547.759305</td>\n",
       "      <td>2600.804099</td>\n",
       "    </tr>\n",
       "    <tr>\n",
       "      <th>3</th>\n",
       "      <td>135.0</td>\n",
       "      <td>23.8712</td>\n",
       "      <td>91.3602</td>\n",
       "      <td>2</td>\n",
       "      <td>2004.000000</td>\n",
       "      <td>2</td>\n",
       "      <td>617.789264</td>\n",
       "      <td>843.747000</td>\n",
       "      <td>886.004428</td>\n",
       "      <td>663.774500</td>\n",
       "      <td>626.239128</td>\n",
       "    </tr>\n",
       "    <tr>\n",
       "      <th>4</th>\n",
       "      <td>1800.0</td>\n",
       "      <td>21.9603</td>\n",
       "      <td>82.4091</td>\n",
       "      <td>1</td>\n",
       "      <td>2015.000000</td>\n",
       "      <td>2</td>\n",
       "      <td>3035.550000</td>\n",
       "      <td>5916.370000</td>\n",
       "      <td>6243.000000</td>\n",
       "      <td>5385.579736</td>\n",
       "      <td>7279.000000</td>\n",
       "    </tr>\n",
       "  </tbody>\n",
       "</table>\n",
       "</div>"
      ],
      "text/plain": [
       "   capacity_mw  latitude  longitude  primary_fuel  commissioning_year  \\\n",
       "0          2.5   28.1839    73.2407             6         2011.000000   \n",
       "1         98.0   24.7663    74.6090             1         1997.091082   \n",
       "2         39.2   21.9038    69.3732             7         1997.091082   \n",
       "3        135.0   23.8712    91.3602             2         2004.000000   \n",
       "4       1800.0   21.9603    82.4091             1         2015.000000   \n",
       "\n",
       "   geolocation_source  generation_gwh_2014  generation_gwh_2015  \\\n",
       "0                   1          2431.823590          2428.226946   \n",
       "1                   2          2431.823590          2428.226946   \n",
       "2                   2          2431.823590          2428.226946   \n",
       "3                   2           617.789264           843.747000   \n",
       "4                   2          3035.550000          5916.370000   \n",
       "\n",
       "   generation_gwh_2016  generation_gwh_2017  generation_gwh_2018  \n",
       "0          2467.936859          2547.759305          2600.804099  \n",
       "1          2467.936859          2547.759305          2600.804099  \n",
       "2          2467.936859          2547.759305          2600.804099  \n",
       "3           886.004428           663.774500           626.239128  \n",
       "4          6243.000000          5385.579736          7279.000000  "
      ]
     },
     "execution_count": 101,
     "metadata": {},
     "output_type": "execute_result"
    }
   ],
   "source": [
    "outliers_ = power_plant[[  'longitude', 'commissioning_year', 'geolocation_source', 'generation_gwh_2014', 'generation_gwh_2015', 'generation_gwh_2016', 'generation_gwh_2017', 'generation_gwh_2018']]\n",
    "\n",
    "z1=np.abs(zscore(outliers_))\n",
    "\n",
    "# Creating new dataframe for classification\n",
    "global_power = power_plant[(z1<3).all(axis=1)]\n",
    "global_power.head()"
   ]
  },
  {
   "cell_type": "code",
   "execution_count": 102,
   "id": "2be8331b",
   "metadata": {},
   "outputs": [
    {
     "data": {
      "text/html": [
       "<div>\n",
       "<style scoped>\n",
       "    .dataframe tbody tr th:only-of-type {\n",
       "        vertical-align: middle;\n",
       "    }\n",
       "\n",
       "    .dataframe tbody tr th {\n",
       "        vertical-align: top;\n",
       "    }\n",
       "\n",
       "    .dataframe thead th {\n",
       "        text-align: right;\n",
       "    }\n",
       "</style>\n",
       "<table border=\"1\" class=\"dataframe\">\n",
       "  <thead>\n",
       "    <tr style=\"text-align: right;\">\n",
       "      <th></th>\n",
       "      <th>longitude</th>\n",
       "      <th>commissioning_year</th>\n",
       "      <th>geolocation_source</th>\n",
       "      <th>generation_gwh_2014</th>\n",
       "      <th>generation_gwh_2015</th>\n",
       "      <th>generation_gwh_2016</th>\n",
       "      <th>generation_gwh_2017</th>\n",
       "      <th>generation_gwh_2018</th>\n",
       "    </tr>\n",
       "  </thead>\n",
       "  <tbody>\n",
       "    <tr>\n",
       "      <th>0</th>\n",
       "      <td>0.878280</td>\n",
       "      <td>1.069162e+00</td>\n",
       "      <td>1.083349</td>\n",
       "      <td>1.707094e-16</td>\n",
       "      <td>0.000000</td>\n",
       "      <td>0.000000</td>\n",
       "      <td>1.557412e-16</td>\n",
       "      <td>1.501244e-16</td>\n",
       "    </tr>\n",
       "    <tr>\n",
       "      <th>1</th>\n",
       "      <td>0.593788</td>\n",
       "      <td>1.747794e-14</td>\n",
       "      <td>0.394241</td>\n",
       "      <td>1.707094e-16</td>\n",
       "      <td>0.000000</td>\n",
       "      <td>0.000000</td>\n",
       "      <td>1.557412e-16</td>\n",
       "      <td>1.501244e-16</td>\n",
       "    </tr>\n",
       "    <tr>\n",
       "      <th>2</th>\n",
       "      <td>1.682394</td>\n",
       "      <td>1.747794e-14</td>\n",
       "      <td>0.394241</td>\n",
       "      <td>1.707094e-16</td>\n",
       "      <td>0.000000</td>\n",
       "      <td>0.000000</td>\n",
       "      <td>1.557412e-16</td>\n",
       "      <td>1.501244e-16</td>\n",
       "    </tr>\n",
       "    <tr>\n",
       "      <th>3</th>\n",
       "      <td>2.889052</td>\n",
       "      <td>5.310801e-01</td>\n",
       "      <td>0.394241</td>\n",
       "      <td>6.809773e-01</td>\n",
       "      <td>0.554446</td>\n",
       "      <td>0.549988</td>\n",
       "      <td>6.452243e-01</td>\n",
       "      <td>6.518573e-01</td>\n",
       "    </tr>\n",
       "    <tr>\n",
       "      <th>4</th>\n",
       "      <td>1.027976</td>\n",
       "      <td>1.376637e+00</td>\n",
       "      <td>0.394241</td>\n",
       "      <td>2.266352e-01</td>\n",
       "      <td>1.220581</td>\n",
       "      <td>1.312471</td>\n",
       "      <td>9.718925e-01</td>\n",
       "      <td>1.544399e+00</td>\n",
       "    </tr>\n",
       "  </tbody>\n",
       "</table>\n",
       "</div>"
      ],
      "text/plain": [
       "   longitude  commissioning_year  geolocation_source  generation_gwh_2014  \\\n",
       "0   0.878280        1.069162e+00            1.083349         1.707094e-16   \n",
       "1   0.593788        1.747794e-14            0.394241         1.707094e-16   \n",
       "2   1.682394        1.747794e-14            0.394241         1.707094e-16   \n",
       "3   2.889052        5.310801e-01            0.394241         6.809773e-01   \n",
       "4   1.027976        1.376637e+00            0.394241         2.266352e-01   \n",
       "\n",
       "   generation_gwh_2015  generation_gwh_2016  generation_gwh_2017  \\\n",
       "0             0.000000             0.000000         1.557412e-16   \n",
       "1             0.000000             0.000000         1.557412e-16   \n",
       "2             0.000000             0.000000         1.557412e-16   \n",
       "3             0.554446             0.549988         6.452243e-01   \n",
       "4             1.220581             1.312471         9.718925e-01   \n",
       "\n",
       "   generation_gwh_2018  \n",
       "0         1.501244e-16  \n",
       "1         1.501244e-16  \n",
       "2         1.501244e-16  \n",
       "3         6.518573e-01  \n",
       "4         1.544399e+00  "
      ]
     },
     "execution_count": 102,
     "metadata": {},
     "output_type": "execute_result"
    }
   ],
   "source": [
    "z1.head()"
   ]
  },
  {
   "cell_type": "code",
   "execution_count": 103,
   "id": "c07fed59",
   "metadata": {},
   "outputs": [
    {
     "data": {
      "text/plain": [
       "(855, 11)"
      ]
     },
     "execution_count": 103,
     "metadata": {},
     "output_type": "execute_result"
    }
   ],
   "source": [
    "global_power.shape"
   ]
  },
  {
   "cell_type": "code",
   "execution_count": 105,
   "id": "8d1a9b73",
   "metadata": {},
   "outputs": [
    {
     "data": {
      "text/plain": [
       "52"
      ]
     },
     "execution_count": 105,
     "metadata": {},
     "output_type": "execute_result"
    }
   ],
   "source": [
    "# To find the no. of rows dropped\n",
    "power_plant.shape[0]-global_power.shape[0]"
   ]
  },
  {
   "cell_type": "code",
   "execution_count": 106,
   "id": "f5e1440c",
   "metadata": {},
   "outputs": [
    {
     "name": "stdout",
     "output_type": "stream",
     "text": [
      "6.39470782800441 %\n"
     ]
    }
   ],
   "source": [
    "# To find the data loss:\n",
    "loss__=(907-849)/907*100\n",
    "print(loss__,\"%\")"
   ]
  },
  {
   "cell_type": "code",
   "execution_count": 107,
   "id": "c56f2384",
   "metadata": {},
   "outputs": [],
   "source": [
    "# Checking for skewness:"
   ]
  },
  {
   "cell_type": "code",
   "execution_count": 108,
   "id": "1a48609c",
   "metadata": {},
   "outputs": [
    {
     "data": {
      "text/plain": [
       "capacity_mw            1.979914\n",
       "latitude              -0.109823\n",
       "longitude              0.921980\n",
       "primary_fuel           0.408694\n",
       "commissioning_year    -0.845654\n",
       "geolocation_source    -2.062603\n",
       "generation_gwh_2014    1.526648\n",
       "generation_gwh_2015    1.389889\n",
       "generation_gwh_2016    1.413144\n",
       "generation_gwh_2017    1.278735\n",
       "generation_gwh_2018    1.315481\n",
       "dtype: float64"
      ]
     },
     "execution_count": 108,
     "metadata": {},
     "output_type": "execute_result"
    }
   ],
   "source": [
    "global_plant.skew()"
   ]
  },
  {
   "cell_type": "code",
   "execution_count": 109,
   "id": "c99b57c1",
   "metadata": {},
   "outputs": [
    {
     "data": {
      "text/plain": [
       "capacity_mw            2.163488\n",
       "latitude              -0.110936\n",
       "longitude              0.917381\n",
       "primary_fuel           0.420074\n",
       "commissioning_year    -0.836962\n",
       "geolocation_source    -2.074380\n",
       "generation_gwh_2014    1.525975\n",
       "generation_gwh_2015    1.375828\n",
       "generation_gwh_2016    1.389992\n",
       "generation_gwh_2017    1.293269\n",
       "generation_gwh_2018    1.421012\n",
       "dtype: float64"
      ]
     },
     "execution_count": 109,
     "metadata": {},
     "output_type": "execute_result"
    }
   ],
   "source": [
    "global_power.skew()"
   ]
  },
  {
   "cell_type": "code",
   "execution_count": 110,
   "id": "8cdd026a",
   "metadata": {},
   "outputs": [],
   "source": [
    "# Removing skewness using yeo-johnson method for primary_fuel:\n"
   ]
  },
  {
   "cell_type": "code",
   "execution_count": 111,
   "id": "bb564551",
   "metadata": {},
   "outputs": [
    {
     "data": {
      "text/html": [
       "<div>\n",
       "<style scoped>\n",
       "    .dataframe tbody tr th:only-of-type {\n",
       "        vertical-align: middle;\n",
       "    }\n",
       "\n",
       "    .dataframe tbody tr th {\n",
       "        vertical-align: top;\n",
       "    }\n",
       "\n",
       "    .dataframe thead th {\n",
       "        text-align: right;\n",
       "    }\n",
       "</style>\n",
       "<table border=\"1\" class=\"dataframe\">\n",
       "  <thead>\n",
       "    <tr style=\"text-align: right;\">\n",
       "      <th></th>\n",
       "      <th>capacity_mw</th>\n",
       "      <th>latitude</th>\n",
       "      <th>longitude</th>\n",
       "      <th>primary_fuel</th>\n",
       "      <th>commissioning_year</th>\n",
       "      <th>geolocation_source</th>\n",
       "      <th>generation_gwh_2014</th>\n",
       "      <th>generation_gwh_2015</th>\n",
       "      <th>generation_gwh_2016</th>\n",
       "      <th>generation_gwh_2017</th>\n",
       "      <th>generation_gwh_2018</th>\n",
       "    </tr>\n",
       "  </thead>\n",
       "  <tbody>\n",
       "    <tr>\n",
       "      <th>0</th>\n",
       "      <td>-1.676571</td>\n",
       "      <td>1.164277</td>\n",
       "      <td>-0.928072</td>\n",
       "      <td>6</td>\n",
       "      <td>1.292854</td>\n",
       "      <td>-2.236076</td>\n",
       "      <td>0.327200</td>\n",
       "      <td>0.356092</td>\n",
       "      <td>0.359399</td>\n",
       "      <td>0.360086</td>\n",
       "      <td>0.375133</td>\n",
       "    </tr>\n",
       "    <tr>\n",
       "      <th>1</th>\n",
       "      <td>0.228490</td>\n",
       "      <td>0.595264</td>\n",
       "      <td>-0.509209</td>\n",
       "      <td>1</td>\n",
       "      <td>-0.181973</td>\n",
       "      <td>0.409608</td>\n",
       "      <td>0.327200</td>\n",
       "      <td>0.356092</td>\n",
       "      <td>0.359399</td>\n",
       "      <td>0.360086</td>\n",
       "      <td>0.375133</td>\n",
       "    </tr>\n",
       "    <tr>\n",
       "      <th>2</th>\n",
       "      <td>-0.268904</td>\n",
       "      <td>0.122311</td>\n",
       "      <td>-2.363978</td>\n",
       "      <td>7</td>\n",
       "      <td>-0.181973</td>\n",
       "      <td>0.409608</td>\n",
       "      <td>0.327200</td>\n",
       "      <td>0.356092</td>\n",
       "      <td>0.359399</td>\n",
       "      <td>0.360086</td>\n",
       "      <td>0.375133</td>\n",
       "    </tr>\n",
       "    <tr>\n",
       "      <th>3</th>\n",
       "      <td>0.400958</td>\n",
       "      <td>0.446997</td>\n",
       "      <td>2.442106</td>\n",
       "      <td>2</td>\n",
       "      <td>0.501339</td>\n",
       "      <td>0.409608</td>\n",
       "      <td>-1.046002</td>\n",
       "      <td>-0.731478</td>\n",
       "      <td>-0.683964</td>\n",
       "      <td>-0.905238</td>\n",
       "      <td>-0.925585</td>\n",
       "    </tr>\n",
       "    <tr>\n",
       "      <th>4</th>\n",
       "      <td>1.752129</td>\n",
       "      <td>0.131611</td>\n",
       "      <td>1.253969</td>\n",
       "      <td>1</td>\n",
       "      <td>1.795252</td>\n",
       "      <td>0.409608</td>\n",
       "      <td>0.665917</td>\n",
       "      <td>1.898269</td>\n",
       "      <td>1.935543</td>\n",
       "      <td>1.564919</td>\n",
       "      <td>2.122435</td>\n",
       "    </tr>\n",
       "    <tr>\n",
       "      <th>...</th>\n",
       "      <td>...</td>\n",
       "      <td>...</td>\n",
       "      <td>...</td>\n",
       "      <td>...</td>\n",
       "      <td>...</td>\n",
       "      <td>...</td>\n",
       "      <td>...</td>\n",
       "      <td>...</td>\n",
       "      <td>...</td>\n",
       "      <td>...</td>\n",
       "      <td>...</td>\n",
       "    </tr>\n",
       "    <tr>\n",
       "      <th>902</th>\n",
       "      <td>1.692530</td>\n",
       "      <td>-0.793140</td>\n",
       "      <td>0.219861</td>\n",
       "      <td>1</td>\n",
       "      <td>1.926982</td>\n",
       "      <td>0.409608</td>\n",
       "      <td>0.327200</td>\n",
       "      <td>-2.096477</td>\n",
       "      <td>-1.420156</td>\n",
       "      <td>-0.721222</td>\n",
       "      <td>-0.867297</td>\n",
       "    </tr>\n",
       "    <tr>\n",
       "      <th>903</th>\n",
       "      <td>-1.597223</td>\n",
       "      <td>-1.339555</td>\n",
       "      <td>0.409525</td>\n",
       "      <td>6</td>\n",
       "      <td>-0.181973</td>\n",
       "      <td>-2.447802</td>\n",
       "      <td>0.327200</td>\n",
       "      <td>0.356092</td>\n",
       "      <td>0.359399</td>\n",
       "      <td>0.360086</td>\n",
       "      <td>0.375133</td>\n",
       "    </tr>\n",
       "    <tr>\n",
       "      <th>904</th>\n",
       "      <td>-0.502886</td>\n",
       "      <td>-0.957619</td>\n",
       "      <td>-0.235273</td>\n",
       "      <td>7</td>\n",
       "      <td>-0.181973</td>\n",
       "      <td>0.409608</td>\n",
       "      <td>0.327200</td>\n",
       "      <td>0.356092</td>\n",
       "      <td>0.359399</td>\n",
       "      <td>0.360086</td>\n",
       "      <td>0.375133</td>\n",
       "    </tr>\n",
       "    <tr>\n",
       "      <th>905</th>\n",
       "      <td>0.118754</td>\n",
       "      <td>0.526266</td>\n",
       "      <td>-0.768095</td>\n",
       "      <td>1</td>\n",
       "      <td>-0.181973</td>\n",
       "      <td>0.409608</td>\n",
       "      <td>0.327200</td>\n",
       "      <td>0.356092</td>\n",
       "      <td>0.359399</td>\n",
       "      <td>0.360086</td>\n",
       "      <td>0.375133</td>\n",
       "    </tr>\n",
       "    <tr>\n",
       "      <th>906</th>\n",
       "      <td>-0.738420</td>\n",
       "      <td>-1.808018</td>\n",
       "      <td>0.248669</td>\n",
       "      <td>7</td>\n",
       "      <td>-0.181973</td>\n",
       "      <td>0.409608</td>\n",
       "      <td>0.327200</td>\n",
       "      <td>0.356092</td>\n",
       "      <td>0.359399</td>\n",
       "      <td>0.360086</td>\n",
       "      <td>0.375133</td>\n",
       "    </tr>\n",
       "  </tbody>\n",
       "</table>\n",
       "<p>849 rows × 11 columns</p>\n",
       "</div>"
      ],
      "text/plain": [
       "     capacity_mw  latitude  longitude  primary_fuel  commissioning_year  \\\n",
       "0      -1.676571  1.164277  -0.928072             6            1.292854   \n",
       "1       0.228490  0.595264  -0.509209             1           -0.181973   \n",
       "2      -0.268904  0.122311  -2.363978             7           -0.181973   \n",
       "3       0.400958  0.446997   2.442106             2            0.501339   \n",
       "4       1.752129  0.131611   1.253969             1            1.795252   \n",
       "..           ...       ...        ...           ...                 ...   \n",
       "902     1.692530 -0.793140   0.219861             1            1.926982   \n",
       "903    -1.597223 -1.339555   0.409525             6           -0.181973   \n",
       "904    -0.502886 -0.957619  -0.235273             7           -0.181973   \n",
       "905     0.118754  0.526266  -0.768095             1           -0.181973   \n",
       "906    -0.738420 -1.808018   0.248669             7           -0.181973   \n",
       "\n",
       "     geolocation_source  generation_gwh_2014  generation_gwh_2015  \\\n",
       "0             -2.236076             0.327200             0.356092   \n",
       "1              0.409608             0.327200             0.356092   \n",
       "2              0.409608             0.327200             0.356092   \n",
       "3              0.409608            -1.046002            -0.731478   \n",
       "4              0.409608             0.665917             1.898269   \n",
       "..                  ...                  ...                  ...   \n",
       "902            0.409608             0.327200            -2.096477   \n",
       "903           -2.447802             0.327200             0.356092   \n",
       "904            0.409608             0.327200             0.356092   \n",
       "905            0.409608             0.327200             0.356092   \n",
       "906            0.409608             0.327200             0.356092   \n",
       "\n",
       "     generation_gwh_2016  generation_gwh_2017  generation_gwh_2018  \n",
       "0               0.359399             0.360086             0.375133  \n",
       "1               0.359399             0.360086             0.375133  \n",
       "2               0.359399             0.360086             0.375133  \n",
       "3              -0.683964            -0.905238            -0.925585  \n",
       "4               1.935543             1.564919             2.122435  \n",
       "..                   ...                  ...                  ...  \n",
       "902            -1.420156            -0.721222            -0.867297  \n",
       "903             0.359399             0.360086             0.375133  \n",
       "904             0.359399             0.360086             0.375133  \n",
       "905             0.359399             0.360086             0.375133  \n",
       "906             0.359399             0.360086             0.375133  \n",
       "\n",
       "[849 rows x 11 columns]"
      ]
     },
     "execution_count": 111,
     "metadata": {},
     "output_type": "execute_result"
    }
   ],
   "source": [
    "columns_=[ 'capacity_mw','longitude', 'latitude', 'commissioning_year', 'geolocation_source', 'generation_gwh_2014', 'generation_gwh_2015','generation_gwh_2016', 'generation_gwh_2017', 'generation_gwh_2018']\n",
    "\n",
    "global_plant[columns_]=power_transform(global_plant[columns_],method='yeo-johnson')\n",
    "global_plant[columns]"
   ]
  },
  {
   "cell_type": "code",
   "execution_count": 112,
   "id": "90011fca",
   "metadata": {},
   "outputs": [
    {
     "data": {
      "text/plain": [
       "capacity_mw            0.015527\n",
       "latitude              -0.069694\n",
       "longitude              0.000035\n",
       "primary_fuel           0.408694\n",
       "commissioning_year     0.031733\n",
       "geolocation_source    -2.035892\n",
       "generation_gwh_2014   -0.243975\n",
       "generation_gwh_2015   -0.309166\n",
       "generation_gwh_2016   -0.309194\n",
       "generation_gwh_2017   -0.340677\n",
       "generation_gwh_2018   -0.354764\n",
       "dtype: float64"
      ]
     },
     "execution_count": 112,
     "metadata": {},
     "output_type": "execute_result"
    }
   ],
   "source": [
    "# To verify if skewness reduced or not:\n",
    "global_plant.skew()"
   ]
  },
  {
   "cell_type": "code",
   "execution_count": 113,
   "id": "7fef5629",
   "metadata": {},
   "outputs": [
    {
     "data": {
      "text/html": [
       "<div>\n",
       "<style scoped>\n",
       "    .dataframe tbody tr th:only-of-type {\n",
       "        vertical-align: middle;\n",
       "    }\n",
       "\n",
       "    .dataframe tbody tr th {\n",
       "        vertical-align: top;\n",
       "    }\n",
       "\n",
       "    .dataframe thead th {\n",
       "        text-align: right;\n",
       "    }\n",
       "</style>\n",
       "<table border=\"1\" class=\"dataframe\">\n",
       "  <thead>\n",
       "    <tr style=\"text-align: right;\">\n",
       "      <th></th>\n",
       "      <th>longitude</th>\n",
       "      <th>latitude</th>\n",
       "      <th>commissioning_year</th>\n",
       "      <th>geolocation_source</th>\n",
       "      <th>generation_gwh_2014</th>\n",
       "      <th>generation_gwh_2015</th>\n",
       "      <th>generation_gwh_2016</th>\n",
       "      <th>generation_gwh_2017</th>\n",
       "      <th>generation_gwh_2018</th>\n",
       "    </tr>\n",
       "  </thead>\n",
       "  <tbody>\n",
       "    <tr>\n",
       "      <th>0</th>\n",
       "      <td>-0.932921</td>\n",
       "      <td>1.167827</td>\n",
       "      <td>1.271916</td>\n",
       "      <td>-2.249375</td>\n",
       "      <td>0.325398</td>\n",
       "      <td>0.350764</td>\n",
       "      <td>0.353547</td>\n",
       "      <td>0.346830</td>\n",
       "      <td>0.356994</td>\n",
       "    </tr>\n",
       "    <tr>\n",
       "      <th>1</th>\n",
       "      <td>-0.513810</td>\n",
       "      <td>0.596640</td>\n",
       "      <td>-0.192081</td>\n",
       "      <td>0.407930</td>\n",
       "      <td>0.325398</td>\n",
       "      <td>0.350764</td>\n",
       "      <td>0.353547</td>\n",
       "      <td>0.346830</td>\n",
       "      <td>0.356994</td>\n",
       "    </tr>\n",
       "    <tr>\n",
       "      <th>2</th>\n",
       "      <td>-2.368066</td>\n",
       "      <td>0.122069</td>\n",
       "      <td>-0.192081</td>\n",
       "      <td>0.407930</td>\n",
       "      <td>0.325398</td>\n",
       "      <td>0.350764</td>\n",
       "      <td>0.353547</td>\n",
       "      <td>0.346830</td>\n",
       "      <td>0.356994</td>\n",
       "    </tr>\n",
       "    <tr>\n",
       "      <th>3</th>\n",
       "      <td>2.447853</td>\n",
       "      <td>0.447846</td>\n",
       "      <td>0.486435</td>\n",
       "      <td>0.407930</td>\n",
       "      <td>-1.051490</td>\n",
       "      <td>-0.738620</td>\n",
       "      <td>-0.686010</td>\n",
       "      <td>-0.906651</td>\n",
       "      <td>-0.919602</td>\n",
       "    </tr>\n",
       "    <tr>\n",
       "      <th>4</th>\n",
       "      <td>1.253377</td>\n",
       "      <td>0.131399</td>\n",
       "      <td>1.770248</td>\n",
       "      <td>0.407930</td>\n",
       "      <td>0.665459</td>\n",
       "      <td>1.898972</td>\n",
       "      <td>1.923558</td>\n",
       "      <td>1.534388</td>\n",
       "      <td>2.046635</td>\n",
       "    </tr>\n",
       "    <tr>\n",
       "      <th>...</th>\n",
       "      <td>...</td>\n",
       "      <td>...</td>\n",
       "      <td>...</td>\n",
       "      <td>...</td>\n",
       "      <td>...</td>\n",
       "      <td>...</td>\n",
       "      <td>...</td>\n",
       "      <td>...</td>\n",
       "      <td>...</td>\n",
       "    </tr>\n",
       "    <tr>\n",
       "      <th>902</th>\n",
       "      <td>0.216288</td>\n",
       "      <td>-0.795932</td>\n",
       "      <td>1.900885</td>\n",
       "      <td>0.407930</td>\n",
       "      <td>0.325398</td>\n",
       "      <td>-2.098927</td>\n",
       "      <td>-1.419729</td>\n",
       "      <td>-0.723788</td>\n",
       "      <td>-0.861856</td>\n",
       "    </tr>\n",
       "    <tr>\n",
       "      <th>903</th>\n",
       "      <td>0.406355</td>\n",
       "      <td>-1.343416</td>\n",
       "      <td>-0.192081</td>\n",
       "      <td>-2.457754</td>\n",
       "      <td>0.325398</td>\n",
       "      <td>0.350764</td>\n",
       "      <td>0.353547</td>\n",
       "      <td>0.346830</td>\n",
       "      <td>0.356994</td>\n",
       "    </tr>\n",
       "    <tr>\n",
       "      <th>904</th>\n",
       "      <td>-0.239580</td>\n",
       "      <td>-0.960773</td>\n",
       "      <td>-0.192081</td>\n",
       "      <td>0.407930</td>\n",
       "      <td>0.325398</td>\n",
       "      <td>0.350764</td>\n",
       "      <td>0.353547</td>\n",
       "      <td>0.346830</td>\n",
       "      <td>0.356994</td>\n",
       "    </tr>\n",
       "    <tr>\n",
       "      <th>905</th>\n",
       "      <td>-0.772877</td>\n",
       "      <td>0.527395</td>\n",
       "      <td>-0.192081</td>\n",
       "      <td>0.407930</td>\n",
       "      <td>0.325398</td>\n",
       "      <td>0.350764</td>\n",
       "      <td>0.353547</td>\n",
       "      <td>0.346830</td>\n",
       "      <td>0.356994</td>\n",
       "    </tr>\n",
       "    <tr>\n",
       "      <th>906</th>\n",
       "      <td>0.245153</td>\n",
       "      <td>-1.812443</td>\n",
       "      <td>-0.192081</td>\n",
       "      <td>0.407930</td>\n",
       "      <td>0.325398</td>\n",
       "      <td>0.350764</td>\n",
       "      <td>0.353547</td>\n",
       "      <td>0.346830</td>\n",
       "      <td>0.356994</td>\n",
       "    </tr>\n",
       "  </tbody>\n",
       "</table>\n",
       "<p>855 rows × 9 columns</p>\n",
       "</div>"
      ],
      "text/plain": [
       "     longitude  latitude  commissioning_year  geolocation_source  \\\n",
       "0    -0.932921  1.167827            1.271916           -2.249375   \n",
       "1    -0.513810  0.596640           -0.192081            0.407930   \n",
       "2    -2.368066  0.122069           -0.192081            0.407930   \n",
       "3     2.447853  0.447846            0.486435            0.407930   \n",
       "4     1.253377  0.131399            1.770248            0.407930   \n",
       "..         ...       ...                 ...                 ...   \n",
       "902   0.216288 -0.795932            1.900885            0.407930   \n",
       "903   0.406355 -1.343416           -0.192081           -2.457754   \n",
       "904  -0.239580 -0.960773           -0.192081            0.407930   \n",
       "905  -0.772877  0.527395           -0.192081            0.407930   \n",
       "906   0.245153 -1.812443           -0.192081            0.407930   \n",
       "\n",
       "     generation_gwh_2014  generation_gwh_2015  generation_gwh_2016  \\\n",
       "0               0.325398             0.350764             0.353547   \n",
       "1               0.325398             0.350764             0.353547   \n",
       "2               0.325398             0.350764             0.353547   \n",
       "3              -1.051490            -0.738620            -0.686010   \n",
       "4               0.665459             1.898972             1.923558   \n",
       "..                   ...                  ...                  ...   \n",
       "902             0.325398            -2.098927            -1.419729   \n",
       "903             0.325398             0.350764             0.353547   \n",
       "904             0.325398             0.350764             0.353547   \n",
       "905             0.325398             0.350764             0.353547   \n",
       "906             0.325398             0.350764             0.353547   \n",
       "\n",
       "     generation_gwh_2017  generation_gwh_2018  \n",
       "0               0.346830             0.356994  \n",
       "1               0.346830             0.356994  \n",
       "2               0.346830             0.356994  \n",
       "3              -0.906651            -0.919602  \n",
       "4               1.534388             2.046635  \n",
       "..                   ...                  ...  \n",
       "902            -0.723788            -0.861856  \n",
       "903             0.346830             0.356994  \n",
       "904             0.346830             0.356994  \n",
       "905             0.346830             0.356994  \n",
       "906             0.346830             0.356994  \n",
       "\n",
       "[855 rows x 9 columns]"
      ]
     },
     "execution_count": 113,
     "metadata": {},
     "output_type": "execute_result"
    }
   ],
   "source": [
    "# Removing skewness using yeo-johnson method for capacity_mw:\n",
    "\n",
    "col=[ 'longitude', 'latitude', 'commissioning_year', 'geolocation_source', 'generation_gwh_2014', 'generation_gwh_2015','generation_gwh_2016', 'generation_gwh_2017', 'generation_gwh_2018']\n",
    "global_power[col]=power_transform(global_power[col],method='yeo-johnson')\n",
    "global_power[col]\n"
   ]
  },
  {
   "cell_type": "code",
   "execution_count": 114,
   "id": "6bffede5",
   "metadata": {},
   "outputs": [
    {
     "data": {
      "text/plain": [
       "capacity_mw            2.163488\n",
       "latitude              -0.068504\n",
       "longitude             -0.000494\n",
       "primary_fuel           0.420074\n",
       "commissioning_year     0.028796\n",
       "geolocation_source    -2.047591\n",
       "generation_gwh_2014   -0.241358\n",
       "generation_gwh_2015   -0.309409\n",
       "generation_gwh_2016   -0.311647\n",
       "generation_gwh_2017   -0.330764\n",
       "generation_gwh_2018   -0.328334\n",
       "dtype: float64"
      ]
     },
     "execution_count": 114,
     "metadata": {},
     "output_type": "execute_result"
    }
   ],
   "source": [
    "# To verify , if the skewness reduced or not:\n",
    "global_power.skew()"
   ]
  },
  {
   "cell_type": "markdown",
   "id": "e2850451",
   "metadata": {},
   "source": [
    "**Now we can see that the data is almost normally distributed. But we can see that the feature variables are negatively skewed and it will inverse relationship between feature variables and target variables. So to remove this, we will use variance threshold method.**"
   ]
  },
  {
   "cell_type": "markdown",
   "id": "5b3fdae7",
   "metadata": {},
   "source": [
    "# Data Preprocessing:"
   ]
  },
  {
   "cell_type": "markdown",
   "id": "16e36b91",
   "metadata": {},
   "source": [
    "**Splitting the training and testing dataset:**"
   ]
  },
  {
   "cell_type": "code",
   "execution_count": 115,
   "id": "559bfb7e",
   "metadata": {},
   "outputs": [],
   "source": [
    "x=global_plant.drop(\"primary_fuel\",axis=1)\n",
    "y=global_plant[\"primary_fuel\"]"
   ]
  },
  {
   "cell_type": "code",
   "execution_count": 116,
   "id": "88f97720",
   "metadata": {},
   "outputs": [
    {
     "data": {
      "text/html": [
       "<div>\n",
       "<style scoped>\n",
       "    .dataframe tbody tr th:only-of-type {\n",
       "        vertical-align: middle;\n",
       "    }\n",
       "\n",
       "    .dataframe tbody tr th {\n",
       "        vertical-align: top;\n",
       "    }\n",
       "\n",
       "    .dataframe thead th {\n",
       "        text-align: right;\n",
       "    }\n",
       "</style>\n",
       "<table border=\"1\" class=\"dataframe\">\n",
       "  <thead>\n",
       "    <tr style=\"text-align: right;\">\n",
       "      <th></th>\n",
       "      <th>capacity_mw</th>\n",
       "      <th>latitude</th>\n",
       "      <th>longitude</th>\n",
       "      <th>commissioning_year</th>\n",
       "      <th>geolocation_source</th>\n",
       "      <th>generation_gwh_2014</th>\n",
       "      <th>generation_gwh_2015</th>\n",
       "      <th>generation_gwh_2016</th>\n",
       "      <th>generation_gwh_2017</th>\n",
       "      <th>generation_gwh_2018</th>\n",
       "    </tr>\n",
       "  </thead>\n",
       "  <tbody>\n",
       "    <tr>\n",
       "      <th>0</th>\n",
       "      <td>-1.676571</td>\n",
       "      <td>1.164277</td>\n",
       "      <td>-0.928072</td>\n",
       "      <td>1.292854</td>\n",
       "      <td>-2.236076</td>\n",
       "      <td>0.327200</td>\n",
       "      <td>0.356092</td>\n",
       "      <td>0.359399</td>\n",
       "      <td>0.360086</td>\n",
       "      <td>0.375133</td>\n",
       "    </tr>\n",
       "    <tr>\n",
       "      <th>1</th>\n",
       "      <td>0.228490</td>\n",
       "      <td>0.595264</td>\n",
       "      <td>-0.509209</td>\n",
       "      <td>-0.181973</td>\n",
       "      <td>0.409608</td>\n",
       "      <td>0.327200</td>\n",
       "      <td>0.356092</td>\n",
       "      <td>0.359399</td>\n",
       "      <td>0.360086</td>\n",
       "      <td>0.375133</td>\n",
       "    </tr>\n",
       "    <tr>\n",
       "      <th>2</th>\n",
       "      <td>-0.268904</td>\n",
       "      <td>0.122311</td>\n",
       "      <td>-2.363978</td>\n",
       "      <td>-0.181973</td>\n",
       "      <td>0.409608</td>\n",
       "      <td>0.327200</td>\n",
       "      <td>0.356092</td>\n",
       "      <td>0.359399</td>\n",
       "      <td>0.360086</td>\n",
       "      <td>0.375133</td>\n",
       "    </tr>\n",
       "    <tr>\n",
       "      <th>3</th>\n",
       "      <td>0.400958</td>\n",
       "      <td>0.446997</td>\n",
       "      <td>2.442106</td>\n",
       "      <td>0.501339</td>\n",
       "      <td>0.409608</td>\n",
       "      <td>-1.046002</td>\n",
       "      <td>-0.731478</td>\n",
       "      <td>-0.683964</td>\n",
       "      <td>-0.905238</td>\n",
       "      <td>-0.925585</td>\n",
       "    </tr>\n",
       "    <tr>\n",
       "      <th>4</th>\n",
       "      <td>1.752129</td>\n",
       "      <td>0.131611</td>\n",
       "      <td>1.253969</td>\n",
       "      <td>1.795252</td>\n",
       "      <td>0.409608</td>\n",
       "      <td>0.665917</td>\n",
       "      <td>1.898269</td>\n",
       "      <td>1.935543</td>\n",
       "      <td>1.564919</td>\n",
       "      <td>2.122435</td>\n",
       "    </tr>\n",
       "  </tbody>\n",
       "</table>\n",
       "</div>"
      ],
      "text/plain": [
       "   capacity_mw  latitude  longitude  commissioning_year  geolocation_source  \\\n",
       "0    -1.676571  1.164277  -0.928072            1.292854           -2.236076   \n",
       "1     0.228490  0.595264  -0.509209           -0.181973            0.409608   \n",
       "2    -0.268904  0.122311  -2.363978           -0.181973            0.409608   \n",
       "3     0.400958  0.446997   2.442106            0.501339            0.409608   \n",
       "4     1.752129  0.131611   1.253969            1.795252            0.409608   \n",
       "\n",
       "   generation_gwh_2014  generation_gwh_2015  generation_gwh_2016  \\\n",
       "0             0.327200             0.356092             0.359399   \n",
       "1             0.327200             0.356092             0.359399   \n",
       "2             0.327200             0.356092             0.359399   \n",
       "3            -1.046002            -0.731478            -0.683964   \n",
       "4             0.665917             1.898269             1.935543   \n",
       "\n",
       "   generation_gwh_2017  generation_gwh_2018  \n",
       "0             0.360086             0.375133  \n",
       "1             0.360086             0.375133  \n",
       "2             0.360086             0.375133  \n",
       "3            -0.905238            -0.925585  \n",
       "4             1.564919             2.122435  "
      ]
     },
     "execution_count": 116,
     "metadata": {},
     "output_type": "execute_result"
    }
   ],
   "source": [
    "x.head()"
   ]
  },
  {
   "cell_type": "code",
   "execution_count": 117,
   "id": "149a0f84",
   "metadata": {},
   "outputs": [
    {
     "data": {
      "text/plain": [
       "0    6\n",
       "1    1\n",
       "2    7\n",
       "3    2\n",
       "4    1\n",
       "Name: primary_fuel, dtype: int32"
      ]
     },
     "execution_count": 117,
     "metadata": {},
     "output_type": "execute_result"
    }
   ],
   "source": [
    "y.head()"
   ]
  },
  {
   "cell_type": "code",
   "execution_count": 118,
   "id": "11e8e0b9",
   "metadata": {},
   "outputs": [
    {
     "data": {
      "text/plain": [
       "((849, 10), (849,))"
      ]
     },
     "execution_count": 118,
     "metadata": {},
     "output_type": "execute_result"
    }
   ],
   "source": [
    "x.shape, y.shape"
   ]
  },
  {
   "cell_type": "code",
   "execution_count": 119,
   "id": "e77219d9",
   "metadata": {},
   "outputs": [
    {
     "data": {
      "text/plain": [
       "1    235\n",
       "3    221\n",
       "6    126\n",
       "7    123\n",
       "2     65\n",
       "0     50\n",
       "5     20\n",
       "4      9\n",
       "Name: primary_fuel, dtype: int64"
      ]
     },
     "execution_count": 119,
     "metadata": {},
     "output_type": "execute_result"
    }
   ],
   "source": [
    "y.value_counts()"
   ]
  },
  {
   "cell_type": "markdown",
   "id": "56b1eea2",
   "metadata": {},
   "source": [
    "**Here we observed that the data is not balanced , so we have to balance the data using Oversampling method.**"
   ]
  },
  {
   "cell_type": "code",
   "execution_count": 121,
   "id": "90d6e065",
   "metadata": {},
   "outputs": [
    {
     "name": "stdout",
     "output_type": "stream",
     "text": [
      "Collecting imblearn\n",
      "  Downloading imblearn-0.0-py2.py3-none-any.whl (1.9 kB)\n",
      "Collecting imbalanced-learn\n",
      "  Downloading imbalanced_learn-0.10.1-py3-none-any.whl (226 kB)\n",
      "Collecting joblib>=1.1.1\n",
      "  Downloading joblib-1.2.0-py3-none-any.whl (297 kB)\n",
      "Requirement already satisfied: scipy>=1.3.2 in c:\\users\\hp\\anaconda3\\lib\\site-packages (from imbalanced-learn->imblearn) (1.7.3)\n",
      "Requirement already satisfied: scikit-learn>=1.0.2 in c:\\users\\hp\\anaconda3\\lib\\site-packages (from imbalanced-learn->imblearn) (1.0.2)\n",
      "Requirement already satisfied: numpy>=1.17.3 in c:\\users\\hp\\anaconda3\\lib\\site-packages (from imbalanced-learn->imblearn) (1.21.5)\n",
      "Requirement already satisfied: threadpoolctl>=2.0.0 in c:\\users\\hp\\anaconda3\\lib\\site-packages (from imbalanced-learn->imblearn) (2.2.0)\n",
      "Installing collected packages: joblib, imbalanced-learn, imblearn\n",
      "  Attempting uninstall: joblib\n",
      "    Found existing installation: joblib 1.1.0\n",
      "    Uninstalling joblib-1.1.0:\n",
      "      Successfully uninstalled joblib-1.1.0\n",
      "Successfully installed imbalanced-learn-0.10.1 imblearn-0.0 joblib-1.2.0\n",
      "Note: you may need to restart the kernel to use updated packages.\n"
     ]
    }
   ],
   "source": [
    "pip install imblearn"
   ]
  },
  {
   "cell_type": "code",
   "execution_count": 122,
   "id": "4931cb95",
   "metadata": {},
   "outputs": [],
   "source": [
    "from imblearn import under_sampling, over_sampling\n",
    "from imblearn.over_sampling import SMOTE"
   ]
  },
  {
   "cell_type": "code",
   "execution_count": 124,
   "id": "b588d5b7",
   "metadata": {},
   "outputs": [],
   "source": [
    "Smote = SMOTE()\n",
    "x, y = Smote.fit_resample(x,y)"
   ]
  },
  {
   "cell_type": "code",
   "execution_count": 125,
   "id": "1e987835",
   "metadata": {},
   "outputs": [
    {
     "data": {
      "text/plain": [
       "6    235\n",
       "1    235\n",
       "7    235\n",
       "2    235\n",
       "3    235\n",
       "0    235\n",
       "5    235\n",
       "4    235\n",
       "Name: primary_fuel, dtype: int64"
      ]
     },
     "execution_count": 125,
     "metadata": {},
     "output_type": "execute_result"
    }
   ],
   "source": [
    "y.value_counts()"
   ]
  },
  {
   "cell_type": "markdown",
   "id": "463c12ec",
   "metadata": {},
   "source": [
    "**Great , the data is balanced now.**"
   ]
  },
  {
   "cell_type": "code",
   "execution_count": 126,
   "id": "0c297871",
   "metadata": {},
   "outputs": [],
   "source": [
    "scaler = StandardScaler()\n",
    "x = pd.DataFrame(scaler.fit_transform(x), columns = x.columns)"
   ]
  },
  {
   "cell_type": "code",
   "execution_count": 127,
   "id": "59e2135d",
   "metadata": {},
   "outputs": [
    {
     "data": {
      "text/html": [
       "<div>\n",
       "<style scoped>\n",
       "    .dataframe tbody tr th:only-of-type {\n",
       "        vertical-align: middle;\n",
       "    }\n",
       "\n",
       "    .dataframe tbody tr th {\n",
       "        vertical-align: top;\n",
       "    }\n",
       "\n",
       "    .dataframe thead th {\n",
       "        text-align: right;\n",
       "    }\n",
       "</style>\n",
       "<table border=\"1\" class=\"dataframe\">\n",
       "  <thead>\n",
       "    <tr style=\"text-align: right;\">\n",
       "      <th></th>\n",
       "      <th>capacity_mw</th>\n",
       "      <th>latitude</th>\n",
       "      <th>longitude</th>\n",
       "      <th>commissioning_year</th>\n",
       "      <th>geolocation_source</th>\n",
       "      <th>generation_gwh_2014</th>\n",
       "      <th>generation_gwh_2015</th>\n",
       "      <th>generation_gwh_2016</th>\n",
       "      <th>generation_gwh_2017</th>\n",
       "      <th>generation_gwh_2018</th>\n",
       "    </tr>\n",
       "  </thead>\n",
       "  <tbody>\n",
       "    <tr>\n",
       "      <th>0</th>\n",
       "      <td>-1.743683</td>\n",
       "      <td>1.435260</td>\n",
       "      <td>-0.880128</td>\n",
       "      <td>1.706690</td>\n",
       "      <td>-2.462646</td>\n",
       "      <td>0.306700</td>\n",
       "      <td>0.351027</td>\n",
       "      <td>0.370229</td>\n",
       "      <td>0.336578</td>\n",
       "      <td>0.390524</td>\n",
       "    </tr>\n",
       "    <tr>\n",
       "      <th>1</th>\n",
       "      <td>0.213869</td>\n",
       "      <td>0.840244</td>\n",
       "      <td>-0.406542</td>\n",
       "      <td>-0.138468</td>\n",
       "      <td>0.372705</td>\n",
       "      <td>0.306700</td>\n",
       "      <td>0.351027</td>\n",
       "      <td>0.370229</td>\n",
       "      <td>0.336578</td>\n",
       "      <td>0.390524</td>\n",
       "    </tr>\n",
       "    <tr>\n",
       "      <th>2</th>\n",
       "      <td>-0.297229</td>\n",
       "      <td>0.345677</td>\n",
       "      <td>-2.503632</td>\n",
       "      <td>-0.138468</td>\n",
       "      <td>0.372705</td>\n",
       "      <td>0.306700</td>\n",
       "      <td>0.351027</td>\n",
       "      <td>0.370229</td>\n",
       "      <td>0.336578</td>\n",
       "      <td>0.390524</td>\n",
       "    </tr>\n",
       "    <tr>\n",
       "      <th>3</th>\n",
       "      <td>0.391090</td>\n",
       "      <td>0.685201</td>\n",
       "      <td>2.930356</td>\n",
       "      <td>0.716425</td>\n",
       "      <td>0.372705</td>\n",
       "      <td>-1.024485</td>\n",
       "      <td>-0.693235</td>\n",
       "      <td>-0.595995</td>\n",
       "      <td>-0.866028</td>\n",
       "      <td>-0.832469</td>\n",
       "    </tr>\n",
       "    <tr>\n",
       "      <th>4</th>\n",
       "      <td>1.779490</td>\n",
       "      <td>0.355403</td>\n",
       "      <td>1.586991</td>\n",
       "      <td>2.335241</td>\n",
       "      <td>0.372705</td>\n",
       "      <td>0.635053</td>\n",
       "      <td>1.831791</td>\n",
       "      <td>1.829843</td>\n",
       "      <td>1.481691</td>\n",
       "      <td>2.033415</td>\n",
       "    </tr>\n",
       "  </tbody>\n",
       "</table>\n",
       "</div>"
      ],
      "text/plain": [
       "   capacity_mw  latitude  longitude  commissioning_year  geolocation_source  \\\n",
       "0    -1.743683  1.435260  -0.880128            1.706690           -2.462646   \n",
       "1     0.213869  0.840244  -0.406542           -0.138468            0.372705   \n",
       "2    -0.297229  0.345677  -2.503632           -0.138468            0.372705   \n",
       "3     0.391090  0.685201   2.930356            0.716425            0.372705   \n",
       "4     1.779490  0.355403   1.586991            2.335241            0.372705   \n",
       "\n",
       "   generation_gwh_2014  generation_gwh_2015  generation_gwh_2016  \\\n",
       "0             0.306700             0.351027             0.370229   \n",
       "1             0.306700             0.351027             0.370229   \n",
       "2             0.306700             0.351027             0.370229   \n",
       "3            -1.024485            -0.693235            -0.595995   \n",
       "4             0.635053             1.831791             1.829843   \n",
       "\n",
       "   generation_gwh_2017  generation_gwh_2018  \n",
       "0             0.336578             0.390524  \n",
       "1             0.336578             0.390524  \n",
       "2             0.336578             0.390524  \n",
       "3            -0.866028            -0.832469  \n",
       "4             1.481691             2.033415  "
      ]
     },
     "execution_count": 127,
     "metadata": {},
     "output_type": "execute_result"
    }
   ],
   "source": [
    "x.head()"
   ]
  },
  {
   "cell_type": "code",
   "execution_count": 128,
   "id": "8657ceb2",
   "metadata": {},
   "outputs": [],
   "source": [
    "# For target variable capacity mw:"
   ]
  },
  {
   "cell_type": "code",
   "execution_count": 129,
   "id": "da20c6fe",
   "metadata": {},
   "outputs": [],
   "source": [
    "x1=global_power.drop(\"capacity_mw\",axis=1)\n",
    "y1=global_power[\"capacity_mw\"]"
   ]
  },
  {
   "cell_type": "code",
   "execution_count": 130,
   "id": "60229374",
   "metadata": {},
   "outputs": [
    {
     "data": {
      "text/html": [
       "<div>\n",
       "<style scoped>\n",
       "    .dataframe tbody tr th:only-of-type {\n",
       "        vertical-align: middle;\n",
       "    }\n",
       "\n",
       "    .dataframe tbody tr th {\n",
       "        vertical-align: top;\n",
       "    }\n",
       "\n",
       "    .dataframe thead th {\n",
       "        text-align: right;\n",
       "    }\n",
       "</style>\n",
       "<table border=\"1\" class=\"dataframe\">\n",
       "  <thead>\n",
       "    <tr style=\"text-align: right;\">\n",
       "      <th></th>\n",
       "      <th>latitude</th>\n",
       "      <th>longitude</th>\n",
       "      <th>primary_fuel</th>\n",
       "      <th>commissioning_year</th>\n",
       "      <th>geolocation_source</th>\n",
       "      <th>generation_gwh_2014</th>\n",
       "      <th>generation_gwh_2015</th>\n",
       "      <th>generation_gwh_2016</th>\n",
       "      <th>generation_gwh_2017</th>\n",
       "      <th>generation_gwh_2018</th>\n",
       "    </tr>\n",
       "  </thead>\n",
       "  <tbody>\n",
       "    <tr>\n",
       "      <th>0</th>\n",
       "      <td>1.167827</td>\n",
       "      <td>-0.932921</td>\n",
       "      <td>6</td>\n",
       "      <td>1.271916</td>\n",
       "      <td>-2.249375</td>\n",
       "      <td>0.325398</td>\n",
       "      <td>0.350764</td>\n",
       "      <td>0.353547</td>\n",
       "      <td>0.346830</td>\n",
       "      <td>0.356994</td>\n",
       "    </tr>\n",
       "    <tr>\n",
       "      <th>1</th>\n",
       "      <td>0.596640</td>\n",
       "      <td>-0.513810</td>\n",
       "      <td>1</td>\n",
       "      <td>-0.192081</td>\n",
       "      <td>0.407930</td>\n",
       "      <td>0.325398</td>\n",
       "      <td>0.350764</td>\n",
       "      <td>0.353547</td>\n",
       "      <td>0.346830</td>\n",
       "      <td>0.356994</td>\n",
       "    </tr>\n",
       "    <tr>\n",
       "      <th>2</th>\n",
       "      <td>0.122069</td>\n",
       "      <td>-2.368066</td>\n",
       "      <td>7</td>\n",
       "      <td>-0.192081</td>\n",
       "      <td>0.407930</td>\n",
       "      <td>0.325398</td>\n",
       "      <td>0.350764</td>\n",
       "      <td>0.353547</td>\n",
       "      <td>0.346830</td>\n",
       "      <td>0.356994</td>\n",
       "    </tr>\n",
       "    <tr>\n",
       "      <th>3</th>\n",
       "      <td>0.447846</td>\n",
       "      <td>2.447853</td>\n",
       "      <td>2</td>\n",
       "      <td>0.486435</td>\n",
       "      <td>0.407930</td>\n",
       "      <td>-1.051490</td>\n",
       "      <td>-0.738620</td>\n",
       "      <td>-0.686010</td>\n",
       "      <td>-0.906651</td>\n",
       "      <td>-0.919602</td>\n",
       "    </tr>\n",
       "    <tr>\n",
       "      <th>4</th>\n",
       "      <td>0.131399</td>\n",
       "      <td>1.253377</td>\n",
       "      <td>1</td>\n",
       "      <td>1.770248</td>\n",
       "      <td>0.407930</td>\n",
       "      <td>0.665459</td>\n",
       "      <td>1.898972</td>\n",
       "      <td>1.923558</td>\n",
       "      <td>1.534388</td>\n",
       "      <td>2.046635</td>\n",
       "    </tr>\n",
       "  </tbody>\n",
       "</table>\n",
       "</div>"
      ],
      "text/plain": [
       "   latitude  longitude  primary_fuel  commissioning_year  geolocation_source  \\\n",
       "0  1.167827  -0.932921             6            1.271916           -2.249375   \n",
       "1  0.596640  -0.513810             1           -0.192081            0.407930   \n",
       "2  0.122069  -2.368066             7           -0.192081            0.407930   \n",
       "3  0.447846   2.447853             2            0.486435            0.407930   \n",
       "4  0.131399   1.253377             1            1.770248            0.407930   \n",
       "\n",
       "   generation_gwh_2014  generation_gwh_2015  generation_gwh_2016  \\\n",
       "0             0.325398             0.350764             0.353547   \n",
       "1             0.325398             0.350764             0.353547   \n",
       "2             0.325398             0.350764             0.353547   \n",
       "3            -1.051490            -0.738620            -0.686010   \n",
       "4             0.665459             1.898972             1.923558   \n",
       "\n",
       "   generation_gwh_2017  generation_gwh_2018  \n",
       "0             0.346830             0.356994  \n",
       "1             0.346830             0.356994  \n",
       "2             0.346830             0.356994  \n",
       "3            -0.906651            -0.919602  \n",
       "4             1.534388             2.046635  "
      ]
     },
     "execution_count": 130,
     "metadata": {},
     "output_type": "execute_result"
    }
   ],
   "source": [
    "x1.head()"
   ]
  },
  {
   "cell_type": "code",
   "execution_count": 131,
   "id": "bf005822",
   "metadata": {},
   "outputs": [
    {
     "data": {
      "text/plain": [
       "0       2.5\n",
       "1      98.0\n",
       "2      39.2\n",
       "3     135.0\n",
       "4    1800.0\n",
       "Name: capacity_mw, dtype: float64"
      ]
     },
     "execution_count": 131,
     "metadata": {},
     "output_type": "execute_result"
    }
   ],
   "source": [
    "y1.head()"
   ]
  },
  {
   "cell_type": "code",
   "execution_count": 132,
   "id": "68f5c057",
   "metadata": {},
   "outputs": [
    {
     "data": {
      "text/plain": [
       "5.00       37\n",
       "10.00      21\n",
       "15.00      20\n",
       "600.00     20\n",
       "1200.00    19\n",
       "           ..\n",
       "119.80      1\n",
       "21.84       1\n",
       "195.00      1\n",
       "645.00      1\n",
       "106.60      1\n",
       "Name: capacity_mw, Length: 334, dtype: int64"
      ]
     },
     "execution_count": 132,
     "metadata": {},
     "output_type": "execute_result"
    }
   ],
   "source": [
    "y1.value_counts()"
   ]
  },
  {
   "cell_type": "code",
   "execution_count": 133,
   "id": "4a6f7ba8",
   "metadata": {},
   "outputs": [],
   "source": [
    "scaler = StandardScaler()\n",
    "x1 = pd.DataFrame(scaler.fit_transform(x1), columns = x1.columns)"
   ]
  },
  {
   "cell_type": "code",
   "execution_count": 134,
   "id": "5bbd84bb",
   "metadata": {},
   "outputs": [
    {
     "data": {
      "text/html": [
       "<div>\n",
       "<style scoped>\n",
       "    .dataframe tbody tr th:only-of-type {\n",
       "        vertical-align: middle;\n",
       "    }\n",
       "\n",
       "    .dataframe tbody tr th {\n",
       "        vertical-align: top;\n",
       "    }\n",
       "\n",
       "    .dataframe thead th {\n",
       "        text-align: right;\n",
       "    }\n",
       "</style>\n",
       "<table border=\"1\" class=\"dataframe\">\n",
       "  <thead>\n",
       "    <tr style=\"text-align: right;\">\n",
       "      <th></th>\n",
       "      <th>latitude</th>\n",
       "      <th>longitude</th>\n",
       "      <th>primary_fuel</th>\n",
       "      <th>commissioning_year</th>\n",
       "      <th>geolocation_source</th>\n",
       "      <th>generation_gwh_2014</th>\n",
       "      <th>generation_gwh_2015</th>\n",
       "      <th>generation_gwh_2016</th>\n",
       "      <th>generation_gwh_2017</th>\n",
       "      <th>generation_gwh_2018</th>\n",
       "    </tr>\n",
       "  </thead>\n",
       "  <tbody>\n",
       "    <tr>\n",
       "      <th>0</th>\n",
       "      <td>1.167827</td>\n",
       "      <td>-0.932921</td>\n",
       "      <td>1.179853</td>\n",
       "      <td>1.271916</td>\n",
       "      <td>-2.249375</td>\n",
       "      <td>0.325398</td>\n",
       "      <td>0.350764</td>\n",
       "      <td>0.353547</td>\n",
       "      <td>0.346830</td>\n",
       "      <td>0.356994</td>\n",
       "    </tr>\n",
       "    <tr>\n",
       "      <th>1</th>\n",
       "      <td>0.596640</td>\n",
       "      <td>-0.513810</td>\n",
       "      <td>-0.972887</td>\n",
       "      <td>-0.192081</td>\n",
       "      <td>0.407930</td>\n",
       "      <td>0.325398</td>\n",
       "      <td>0.350764</td>\n",
       "      <td>0.353547</td>\n",
       "      <td>0.346830</td>\n",
       "      <td>0.356994</td>\n",
       "    </tr>\n",
       "    <tr>\n",
       "      <th>2</th>\n",
       "      <td>0.122069</td>\n",
       "      <td>-2.368065</td>\n",
       "      <td>1.610401</td>\n",
       "      <td>-0.192081</td>\n",
       "      <td>0.407930</td>\n",
       "      <td>0.325398</td>\n",
       "      <td>0.350764</td>\n",
       "      <td>0.353547</td>\n",
       "      <td>0.346830</td>\n",
       "      <td>0.356994</td>\n",
       "    </tr>\n",
       "    <tr>\n",
       "      <th>3</th>\n",
       "      <td>0.447846</td>\n",
       "      <td>2.447853</td>\n",
       "      <td>-0.542339</td>\n",
       "      <td>0.486435</td>\n",
       "      <td>0.407930</td>\n",
       "      <td>-1.051490</td>\n",
       "      <td>-0.738620</td>\n",
       "      <td>-0.686010</td>\n",
       "      <td>-0.906651</td>\n",
       "      <td>-0.919602</td>\n",
       "    </tr>\n",
       "    <tr>\n",
       "      <th>4</th>\n",
       "      <td>0.131399</td>\n",
       "      <td>1.253377</td>\n",
       "      <td>-0.972887</td>\n",
       "      <td>1.770248</td>\n",
       "      <td>0.407930</td>\n",
       "      <td>0.665459</td>\n",
       "      <td>1.898972</td>\n",
       "      <td>1.923558</td>\n",
       "      <td>1.534388</td>\n",
       "      <td>2.046635</td>\n",
       "    </tr>\n",
       "  </tbody>\n",
       "</table>\n",
       "</div>"
      ],
      "text/plain": [
       "   latitude  longitude  primary_fuel  commissioning_year  geolocation_source  \\\n",
       "0  1.167827  -0.932921      1.179853            1.271916           -2.249375   \n",
       "1  0.596640  -0.513810     -0.972887           -0.192081            0.407930   \n",
       "2  0.122069  -2.368065      1.610401           -0.192081            0.407930   \n",
       "3  0.447846   2.447853     -0.542339            0.486435            0.407930   \n",
       "4  0.131399   1.253377     -0.972887            1.770248            0.407930   \n",
       "\n",
       "   generation_gwh_2014  generation_gwh_2015  generation_gwh_2016  \\\n",
       "0             0.325398             0.350764             0.353547   \n",
       "1             0.325398             0.350764             0.353547   \n",
       "2             0.325398             0.350764             0.353547   \n",
       "3            -1.051490            -0.738620            -0.686010   \n",
       "4             0.665459             1.898972             1.923558   \n",
       "\n",
       "   generation_gwh_2017  generation_gwh_2018  \n",
       "0             0.346830             0.356994  \n",
       "1             0.346830             0.356994  \n",
       "2             0.346830             0.356994  \n",
       "3            -0.906651            -0.919602  \n",
       "4             1.534388             2.046635  "
      ]
     },
     "execution_count": 134,
     "metadata": {},
     "output_type": "execute_result"
    }
   ],
   "source": [
    "x1.head()\n"
   ]
  },
  {
   "cell_type": "code",
   "execution_count": 137,
   "id": "f2b6e447",
   "metadata": {},
   "outputs": [],
   "source": [
    "from sklearn.model_selection import train_test_split\n",
    "from sklearn.linear_model import LogisticRegression\n",
    "from sklearn.metrics import roc_curve, auc, roc_auc_score, accuracy_score, classification_report, confusion_matrix\n",
    "from sklearn.tree import DecisionTreeClassifier\n",
    "from sklearn.ensemble import RandomForestClassifier\n",
    "from sklearn.svm import SVC\n",
    "from sklearn.neighbors import KNeighborsClassifier as KNN\n",
    "from sklearn.ensemble import GradientBoostingClassifier"
   ]
  },
  {
   "cell_type": "code",
   "execution_count": 138,
   "id": "7f985e1e",
   "metadata": {},
   "outputs": [],
   "source": [
    "# creating new train test split using the random state.\n",
    "x_train,x_test,y_train,y_test=train_test_split(x,y,test_size=.30,random_state=45)"
   ]
  },
  {
   "cell_type": "code",
   "execution_count": 139,
   "id": "717d33d3",
   "metadata": {},
   "outputs": [
    {
     "data": {
      "text/plain": [
       "((1880, 10), (1880,))"
      ]
     },
     "execution_count": 139,
     "metadata": {},
     "output_type": "execute_result"
    }
   ],
   "source": [
    "x.shape, y.shape"
   ]
  },
  {
   "cell_type": "code",
   "execution_count": 140,
   "id": "e3f1117a",
   "metadata": {},
   "outputs": [
    {
     "data": {
      "text/plain": [
       "((1316, 10), (1316,), (564, 10), (564,))"
      ]
     },
     "execution_count": 140,
     "metadata": {},
     "output_type": "execute_result"
    }
   ],
   "source": [
    "x_train.shape,y_train.shape, x_test.shape,y_test.shape"
   ]
  },
  {
   "cell_type": "markdown",
   "id": "67768e32",
   "metadata": {},
   "source": [
    "**Logistic Regression:**"
   ]
  },
  {
   "cell_type": "code",
   "execution_count": 141,
   "id": "1f22d17e",
   "metadata": {},
   "outputs": [
    {
     "name": "stdout",
     "output_type": "stream",
     "text": [
      "accuracy_score:  0.6205673758865248\n",
      "confusion_matrix: \n",
      " [[51  0  0  0  0  0  0 19]\n",
      " [ 6 31  9  9 10  1  0  1]\n",
      " [ 1  1 33  9  3  3  0  9]\n",
      " [ 9  5 13 37  6  6  1  2]\n",
      " [ 0  4  0  0 67  0  0  0]\n",
      " [ 1  2  4  2  0 30  0 27]\n",
      " [ 0  0  0  0  1  0 74  0]\n",
      " [41  7  0  0  0  2  0 27]]\n",
      "classification_report: \n",
      "               precision    recall  f1-score   support\n",
      "\n",
      "           0       0.47      0.73      0.57        70\n",
      "           1       0.62      0.46      0.53        67\n",
      "           2       0.56      0.56      0.56        59\n",
      "           3       0.65      0.47      0.54        79\n",
      "           4       0.77      0.94      0.85        71\n",
      "           5       0.71      0.45      0.56        66\n",
      "           6       0.99      0.99      0.99        75\n",
      "           7       0.32      0.35      0.33        77\n",
      "\n",
      "    accuracy                           0.62       564\n",
      "   macro avg       0.64      0.62      0.62       564\n",
      "weighted avg       0.64      0.62      0.62       564\n",
      "\n"
     ]
    }
   ],
   "source": [
    "lr=LogisticRegression()\n",
    "lr.fit(x_train,y_train)\n",
    "pred_lr=lr.predict(x_test)\n",
    "\n",
    "print(\"accuracy_score: \", accuracy_score(y_test, pred_lr))\n",
    "print(\"confusion_matrix: \\n\", confusion_matrix(y_test, pred_lr))\n",
    "print(\"classification_report: \\n\", classification_report(y_test,pred_lr))"
   ]
  },
  {
   "cell_type": "markdown",
   "id": "8f60e80c",
   "metadata": {},
   "source": [
    "**Random Forest Classifier:**"
   ]
  },
  {
   "cell_type": "code",
   "execution_count": 142,
   "id": "d3fc7547",
   "metadata": {},
   "outputs": [
    {
     "name": "stdout",
     "output_type": "stream",
     "text": [
      "accuracy_score:  0.9237588652482269\n",
      "confusion_matrix: \n",
      " [[70  0  0  0  0  0  0  0]\n",
      " [ 3 46  6  4  5  1  0  2]\n",
      " [ 0  2 52  1  2  0  0  2]\n",
      " [ 0  3  2 70  3  0  0  1]\n",
      " [ 0  0  0  0 71  0  0  0]\n",
      " [ 0  0  0  0  0 65  0  1]\n",
      " [ 0  0  0  0  0  0 75  0]\n",
      " [ 2  3  0  0  0  0  0 72]]\n",
      "classification_report: \n",
      "               precision    recall  f1-score   support\n",
      "\n",
      "           0       0.93      1.00      0.97        70\n",
      "           1       0.85      0.69      0.76        67\n",
      "           2       0.87      0.88      0.87        59\n",
      "           3       0.93      0.89      0.91        79\n",
      "           4       0.88      1.00      0.93        71\n",
      "           5       0.98      0.98      0.98        66\n",
      "           6       1.00      1.00      1.00        75\n",
      "           7       0.92      0.94      0.93        77\n",
      "\n",
      "    accuracy                           0.92       564\n",
      "   macro avg       0.92      0.92      0.92       564\n",
      "weighted avg       0.92      0.92      0.92       564\n",
      "\n"
     ]
    }
   ],
   "source": [
    "rfc = RandomForestClassifier(n_estimators=100)\n",
    "rfc.fit(x_train,y_train)\n",
    "pred_rfc = rfc.predict(x_test)\n",
    "\n",
    "print(\"accuracy_score: \",accuracy_score(y_test, pred_rfc))\n",
    "print(\"confusion_matrix: \\n\",confusion_matrix(y_test, pred_rfc))\n",
    "print(\"classification_report: \\n\",classification_report(y_test,pred_rfc))"
   ]
  },
  {
   "cell_type": "markdown",
   "id": "eba0e61c",
   "metadata": {},
   "source": [
    "**Decision Tree Classifier:**"
   ]
  },
  {
   "cell_type": "code",
   "execution_count": 143,
   "id": "61a65097",
   "metadata": {},
   "outputs": [
    {
     "name": "stdout",
     "output_type": "stream",
     "text": [
      "accuracy_score:  0.8829787234042553\n",
      "confusion_matrix: \n",
      " [[62  5  0  0  0  0  0  3]\n",
      " [ 3 44  8  8  2  1  1  0]\n",
      " [ 1  2 49  3  3  1  0  0]\n",
      " [ 2  2  7 63  2  1  0  2]\n",
      " [ 0  0  0  0 71  0  0  0]\n",
      " [ 0  1  1  0  0 63  0  1]\n",
      " [ 0  0  0  0  0  0 75  0]\n",
      " [ 2  3  0  0  1  0  0 71]]\n",
      "classification_report: \n",
      "               precision    recall  f1-score   support\n",
      "\n",
      "           0       0.89      0.89      0.89        70\n",
      "           1       0.77      0.66      0.71        67\n",
      "           2       0.75      0.83      0.79        59\n",
      "           3       0.85      0.80      0.82        79\n",
      "           4       0.90      1.00      0.95        71\n",
      "           5       0.95      0.95      0.95        66\n",
      "           6       0.99      1.00      0.99        75\n",
      "           7       0.92      0.92      0.92        77\n",
      "\n",
      "    accuracy                           0.88       564\n",
      "   macro avg       0.88      0.88      0.88       564\n",
      "weighted avg       0.88      0.88      0.88       564\n",
      "\n"
     ]
    }
   ],
   "source": [
    "dtc = DecisionTreeClassifier()\n",
    "dtc.fit(x_train,y_train)\n",
    "pred_dtc = dtc.predict(x_test)\n",
    "\n",
    "print(\"accuracy_score: \",accuracy_score(y_test, pred_dtc))\n",
    "print(\"confusion_matrix: \\n\",confusion_matrix(y_test, pred_dtc))\n",
    "print(\"classification_report: \\n\",classification_report(y_test,pred_dtc))"
   ]
  },
  {
   "cell_type": "markdown",
   "id": "349ac9c7",
   "metadata": {},
   "source": [
    "**Support Vector Machine Classifier:**"
   ]
  },
  {
   "cell_type": "code",
   "execution_count": 144,
   "id": "df74a290",
   "metadata": {},
   "outputs": [
    {
     "name": "stdout",
     "output_type": "stream",
     "text": [
      "accuracy_score:  0.6932624113475178\n",
      "confusion_matrix: \n",
      " [[70  0  0  0  0  0  0  0]\n",
      " [ 7 41  7  3  9  0  0  0]\n",
      " [ 0  2 36  8  0  3  0 10]\n",
      " [10  4 14 43  4  3  0  1]\n",
      " [ 0  0  0  0 71  0  0  0]\n",
      " [ 4  3  0  0  0 36  0 23]\n",
      " [ 0  0  0  0  1  0 74  0]\n",
      " [48  9  0  0  0  0  0 20]]\n",
      "classification_report: \n",
      "               precision    recall  f1-score   support\n",
      "\n",
      "           0       0.50      1.00      0.67        70\n",
      "           1       0.69      0.61      0.65        67\n",
      "           2       0.63      0.61      0.62        59\n",
      "           3       0.80      0.54      0.65        79\n",
      "           4       0.84      1.00      0.91        71\n",
      "           5       0.86      0.55      0.67        66\n",
      "           6       1.00      0.99      0.99        75\n",
      "           7       0.37      0.26      0.31        77\n",
      "\n",
      "    accuracy                           0.69       564\n",
      "   macro avg       0.71      0.69      0.68       564\n",
      "weighted avg       0.71      0.69      0.68       564\n",
      "\n"
     ]
    }
   ],
   "source": [
    "svc = SVC(kernel='linear', gamma=3)\n",
    "svc.fit(x_train,y_train)\n",
    "pred_svc = svc.predict(x_test)\n",
    "\n",
    "print(\"accuracy_score: \", accuracy_score(y_test, pred_svc))\n",
    "print(\"confusion_matrix: \\n\", confusion_matrix(y_test, pred_svc))\n",
    "print(\"classification_report: \\n\", classification_report(y_test,pred_svc))"
   ]
  },
  {
   "cell_type": "markdown",
   "id": "97f5c920",
   "metadata": {},
   "source": [
    "**KNN Classifier:**"
   ]
  },
  {
   "cell_type": "code",
   "execution_count": 145,
   "id": "ef97eba5",
   "metadata": {},
   "outputs": [
    {
     "name": "stdout",
     "output_type": "stream",
     "text": [
      "accuracy_score:  0.8563829787234043\n",
      "confusion_matrix: \n",
      " [[70  0  0  0  0  0  0  0]\n",
      " [ 3 38  8  5 10  0  0  3]\n",
      " [ 0  2 46  0  1  9  0  1]\n",
      " [ 2  5  9 57  1  0  0  5]\n",
      " [ 0  0  1  0 70  0  0  0]\n",
      " [ 2  2  0  0  0 60  0  2]\n",
      " [ 0  0  0  0  0  0 75  0]\n",
      " [ 6  3  0  0  0  1  0 67]]\n",
      "classification_report: \n",
      "               precision    recall  f1-score   support\n",
      "\n",
      "           0       0.84      1.00      0.92        70\n",
      "           1       0.76      0.57      0.65        67\n",
      "           2       0.72      0.78      0.75        59\n",
      "           3       0.92      0.72      0.81        79\n",
      "           4       0.85      0.99      0.92        71\n",
      "           5       0.86      0.91      0.88        66\n",
      "           6       1.00      1.00      1.00        75\n",
      "           7       0.86      0.87      0.86        77\n",
      "\n",
      "    accuracy                           0.86       564\n",
      "   macro avg       0.85      0.85      0.85       564\n",
      "weighted avg       0.86      0.86      0.85       564\n",
      "\n"
     ]
    }
   ],
   "source": [
    "knn = KNN()\n",
    "knn.fit(x_train,y_train)\n",
    "pred_knn = knn.predict(x_test)\n",
    "\n",
    "print(\"accuracy_score: \",accuracy_score(y_test, pred_knn))\n",
    "print(\"confusion_matrix: \\n\",confusion_matrix(y_test, pred_knn))\n",
    "print(\"classification_report: \\n\",classification_report(y_test,pred_knn))"
   ]
  },
  {
   "cell_type": "code",
   "execution_count": 146,
   "id": "b786e31a",
   "metadata": {},
   "outputs": [],
   "source": [
    "# Let's check cross validation score for all the models:"
   ]
  },
  {
   "cell_type": "code",
   "execution_count": 147,
   "id": "02615b2a",
   "metadata": {},
   "outputs": [
    {
     "name": "stdout",
     "output_type": "stream",
     "text": [
      "CV score for Logistic Regression:  0.5904255319148936\n"
     ]
    }
   ],
   "source": [
    "print('CV score for Logistic Regression: ',cross_val_score(lr,x,y,cv=5).mean())"
   ]
  },
  {
   "cell_type": "code",
   "execution_count": 149,
   "id": "e925004f",
   "metadata": {},
   "outputs": [
    {
     "name": "stdout",
     "output_type": "stream",
     "text": [
      "CV score for Random forest Classifier:  0.9005319148936168\n"
     ]
    }
   ],
   "source": [
    "print('CV score for Random forest Classifier: ',cross_val_score(rfc,x,y,cv=5).mean())"
   ]
  },
  {
   "cell_type": "code",
   "execution_count": 150,
   "id": "04c95bfa",
   "metadata": {},
   "outputs": [
    {
     "name": "stdout",
     "output_type": "stream",
     "text": [
      "CV score for Decision Tree Classifier:  0.8654255319148936\n"
     ]
    }
   ],
   "source": [
    "print('CV score for Decision Tree Classifier: ',cross_val_score(dtc,x,y,cv=5).mean())"
   ]
  },
  {
   "cell_type": "code",
   "execution_count": 151,
   "id": "d38be7f0",
   "metadata": {},
   "outputs": [
    {
     "name": "stdout",
     "output_type": "stream",
     "text": [
      "CV score for Support Vector  Classifier:  0.6930851063829787\n"
     ]
    }
   ],
   "source": [
    "print('CV score for Support Vector  Classifier: ',cross_val_score(svc,x,y,cv=5).mean())"
   ]
  },
  {
   "cell_type": "code",
   "execution_count": 152,
   "id": "ee6a6d1a",
   "metadata": {},
   "outputs": [
    {
     "name": "stdout",
     "output_type": "stream",
     "text": [
      "CV score for KNN Classifier:  0.8558510638297872\n"
     ]
    }
   ],
   "source": [
    "print('CV score for KNN Classifier: ',cross_val_score(knn,x,y,cv=5).mean())"
   ]
  },
  {
   "cell_type": "markdown",
   "id": "167714ca",
   "metadata": {},
   "source": [
    "**From the observation of accuracy and cross validation score and their difference we can predict that Random Forest Classifier is the best model.**"
   ]
  },
  {
   "cell_type": "markdown",
   "id": "0d91d056",
   "metadata": {},
   "source": [
    "# Hyper parameter tuning:"
   ]
  },
  {
   "cell_type": "code",
   "execution_count": 153,
   "id": "b2ba898e",
   "metadata": {},
   "outputs": [],
   "source": [
    "from sklearn.metrics import precision_score, recall_score, make_scorer"
   ]
  },
  {
   "cell_type": "code",
   "execution_count": 154,
   "id": "aa89f0a0",
   "metadata": {},
   "outputs": [],
   "source": [
    "x_train,x_test,y_train,y_test = train_test_split(x,y,test_size = .30, random_state = 42)"
   ]
  },
  {
   "cell_type": "code",
   "execution_count": 155,
   "id": "1040f566",
   "metadata": {},
   "outputs": [],
   "source": [
    "rfc=RandomForestClassifier(random_state=30)"
   ]
  },
  {
   "cell_type": "code",
   "execution_count": 156,
   "id": "03923898",
   "metadata": {},
   "outputs": [],
   "source": [
    "grid_params = {\n",
    "                'criterion':['gini','entropy'],\n",
    "                'max_depth': [15,20,22],\n",
    "                'n_estimators':[700,900,1000],\n",
    "                'min_samples_leaf': [1]\n",
    "                }"
   ]
  },
  {
   "cell_type": "code",
   "execution_count": 157,
   "id": "4759538c",
   "metadata": {},
   "outputs": [],
   "source": [
    "CV_rfc = GridSearchCV(RandomForestClassifier(), grid_params, cv = 5)"
   ]
  },
  {
   "cell_type": "code",
   "execution_count": 158,
   "id": "04c98f3a",
   "metadata": {},
   "outputs": [
    {
     "data": {
      "text/plain": [
       "GridSearchCV(cv=5, estimator=RandomForestClassifier(),\n",
       "             param_grid={'criterion': ['gini', 'entropy'],\n",
       "                         'max_depth': [15, 20, 22], 'min_samples_leaf': [1],\n",
       "                         'n_estimators': [700, 900, 1000]})"
      ]
     },
     "execution_count": 158,
     "metadata": {},
     "output_type": "execute_result"
    }
   ],
   "source": [
    "CV_rfc.fit(x_train, y_train)"
   ]
  },
  {
   "cell_type": "code",
   "execution_count": 159,
   "id": "4c75fe78",
   "metadata": {},
   "outputs": [
    {
     "data": {
      "text/plain": [
       "{'criterion': 'entropy',\n",
       " 'max_depth': 15,\n",
       " 'min_samples_leaf': 1,\n",
       " 'n_estimators': 1000}"
      ]
     },
     "execution_count": 159,
     "metadata": {},
     "output_type": "execute_result"
    }
   ],
   "source": [
    "CV_rfc.best_params_"
   ]
  },
  {
   "cell_type": "code",
   "execution_count": 160,
   "id": "83a0a9d6",
   "metadata": {},
   "outputs": [
    {
     "name": "stdout",
     "output_type": "stream",
     "text": [
      "accuracy score:  83.33333333333334\n"
     ]
    }
   ],
   "source": [
    "Power_Plant = RandomForestClassifier(random_state=50, max_features='auto', n_estimators= 100, max_depth=8, criterion='gini')\n",
    "Power_Plant.fit(x_train, y_train)\n",
    "pred = Power_Plant.predict(x_test)\n",
    "acc=accuracy_score(y_test,pred)\n",
    "print(\"accuracy score: \",acc*100)"
   ]
  },
  {
   "cell_type": "code",
   "execution_count": 161,
   "id": "52cad7a7",
   "metadata": {},
   "outputs": [
    {
     "name": "stdout",
     "output_type": "stream",
     "text": [
      "confusion_matrix: \n",
      " [[59  0  0  0  0  0  0  1]\n",
      " [ 6 44  6  7 13  1  0  4]\n",
      " [ 1  8 39  1  2  4  0  2]\n",
      " [ 1  4 14 47  3  1  0  0]\n",
      " [ 0  0  0  0 83  0  0  0]\n",
      " [ 0  2  0  0  0 76  0  1]\n",
      " [ 0  0  0  0  0  0 68  1]\n",
      " [ 8  3  0  0  0  0  0 54]]\n",
      "classification_report: \n",
      "               precision    recall  f1-score   support\n",
      "\n",
      "           0       0.79      0.98      0.87        60\n",
      "           1       0.72      0.54      0.62        81\n",
      "           2       0.66      0.68      0.67        57\n",
      "           3       0.85      0.67      0.75        70\n",
      "           4       0.82      1.00      0.90        83\n",
      "           5       0.93      0.96      0.94        79\n",
      "           6       1.00      0.99      0.99        69\n",
      "           7       0.86      0.83      0.84        65\n",
      "\n",
      "    accuracy                           0.83       564\n",
      "   macro avg       0.83      0.83      0.83       564\n",
      "weighted avg       0.83      0.83      0.83       564\n",
      "\n"
     ]
    }
   ],
   "source": [
    "# calculating the scores \n",
    "score = cross_val_score(rfc,x,y,cv=10,scoring=\"accuracy\").mean()\n",
    "print(\"confusion_matrix: \\n\",confusion_matrix(y_test,pred))\n",
    "print(\"classification_report: \\n\",classification_report(y_test,pred))"
   ]
  },
  {
   "cell_type": "code",
   "execution_count": 162,
   "id": "37c64003",
   "metadata": {},
   "outputs": [],
   "source": [
    "# Saving the model :"
   ]
  },
  {
   "cell_type": "code",
   "execution_count": 163,
   "id": "72044d7e",
   "metadata": {},
   "outputs": [
    {
     "data": {
      "text/plain": [
       "array([2, 6, 5, 3, 4, 4, 0, 4, 7, 4, 3, 3, 1, 6, 0, 0, 2, 1, 2, 0, 1, 5,\n",
       "       0, 5, 4, 6, 6, 1, 2, 4, 1, 6, 6, 5, 0, 3, 2, 2, 4, 2, 0, 0, 2, 1,\n",
       "       0, 2, 5, 1, 5, 4, 5, 6, 2, 4, 5, 7, 4, 5, 4, 2, 5, 2, 7, 1, 4, 3,\n",
       "       1, 1, 4, 7, 6, 3, 5, 6, 6, 4, 4, 5, 4, 6, 7, 6, 2, 2, 3, 3, 1, 4,\n",
       "       2, 0, 6, 4, 5, 5, 3, 3, 1, 0, 2, 0, 7, 4, 6, 5, 4, 6, 5, 1, 3, 3,\n",
       "       5, 5, 5, 1, 7, 7, 1, 2, 0, 1, 4, 7, 5, 3, 4, 2, 7, 5, 4, 3, 5, 1,\n",
       "       0, 6, 7, 2, 3, 4, 1, 3, 7, 6, 1, 6, 5, 6, 1, 1, 7, 4, 0, 7, 6, 1,\n",
       "       2, 7, 5, 0, 5, 6, 3, 2, 0, 4, 6, 5, 5, 2, 5, 3, 0, 5, 6, 6, 4, 3,\n",
       "       7, 4, 2, 7, 4, 6, 4, 6, 0, 6, 0, 7, 0, 1, 4, 4, 2, 7, 3, 3, 1, 1,\n",
       "       0, 1, 5, 4, 7, 5, 6, 3, 7, 1, 2, 7, 2, 0, 3, 1, 5, 0, 2, 5, 2, 0,\n",
       "       3, 3, 4, 0, 5, 1, 1, 6, 5, 5, 5, 3, 0, 3, 5, 0, 7, 3, 7, 7, 5, 3,\n",
       "       7, 7, 4, 6, 4, 3, 4, 6, 3, 4, 0, 5, 7, 4, 6, 1, 4, 3, 6, 5, 5, 3,\n",
       "       5, 1, 1, 5, 4, 7, 3, 3, 4, 0, 7, 0, 4, 4, 0, 7, 2, 4, 7, 6, 7, 0,\n",
       "       4, 0, 4, 6, 5, 0, 3, 5, 2, 0, 0, 7, 7, 6, 1, 6, 5, 5, 1, 7, 0, 7,\n",
       "       5, 4, 4, 4, 5, 2, 4, 5, 6, 1, 7, 4, 5, 5, 4, 4, 6, 7, 2, 7, 6, 7,\n",
       "       6, 7, 6, 3, 0, 7, 0, 4, 7, 3, 5, 2, 4, 2, 5, 3, 7, 1, 4, 1, 4, 6,\n",
       "       0, 4, 5, 1, 4, 0, 0, 7, 4, 2, 6, 1, 2, 5, 0, 6, 1, 0, 3, 6, 3, 0,\n",
       "       5, 1, 5, 4, 6, 1, 1, 0, 7, 7, 5, 2, 5, 4, 0, 1, 5, 6, 2, 0, 4, 4,\n",
       "       0, 6, 6, 0, 1, 6, 4, 6, 3, 6, 3, 7, 3, 3, 2, 7, 2, 7, 1, 6, 1, 5,\n",
       "       2, 7, 0, 2, 4, 4, 1, 0, 5, 7, 6, 7, 0, 2, 4, 0, 3, 3, 2, 6, 4, 0,\n",
       "       4, 6, 3, 2, 2, 4, 1, 7, 0, 5, 1, 4, 0, 5, 4, 7, 7, 3, 5, 0, 2, 3,\n",
       "       3, 4, 3, 2, 5, 6, 0, 3, 1, 3, 1, 3, 3, 5, 1, 1, 6, 4, 3, 2, 4, 4,\n",
       "       4, 3, 6, 7, 0, 4, 2, 3, 1, 1, 6, 4, 6, 4, 2, 6, 0, 4, 5, 7, 4, 4,\n",
       "       1, 0, 1, 0, 5, 3, 5, 7, 0, 1, 5, 4, 5, 0, 2, 1, 2, 5, 6, 4, 0, 0,\n",
       "       2, 6, 0, 3, 5, 1, 7, 6, 6, 4, 4, 1, 5, 4, 4, 5, 5, 4, 2, 7, 4, 5,\n",
       "       0, 2, 5, 1, 4, 5, 4, 4, 7, 6, 3, 4, 6, 3])"
      ]
     },
     "execution_count": 163,
     "metadata": {},
     "output_type": "execute_result"
    }
   ],
   "source": [
    "filename='Global_Power_Plant.pickle'\n",
    "pickle.dump(CV_rfc,open(filename,'wb'))\n",
    "loaded_model = pickle.load(open(filename, 'rb'))\n",
    "loaded_model.predict(x_test)"
   ]
  },
  {
   "cell_type": "code",
   "execution_count": 164,
   "id": "27711296",
   "metadata": {},
   "outputs": [
    {
     "data": {
      "text/html": [
       "<div>\n",
       "<style scoped>\n",
       "    .dataframe tbody tr th:only-of-type {\n",
       "        vertical-align: middle;\n",
       "    }\n",
       "\n",
       "    .dataframe tbody tr th {\n",
       "        vertical-align: top;\n",
       "    }\n",
       "\n",
       "    .dataframe thead th {\n",
       "        text-align: right;\n",
       "    }\n",
       "</style>\n",
       "<table border=\"1\" class=\"dataframe\">\n",
       "  <thead>\n",
       "    <tr style=\"text-align: right;\">\n",
       "      <th></th>\n",
       "      <th>Orginal</th>\n",
       "      <th>Predicted</th>\n",
       "    </tr>\n",
       "  </thead>\n",
       "  <tbody>\n",
       "    <tr>\n",
       "      <th>0</th>\n",
       "      <td>2</td>\n",
       "      <td>2</td>\n",
       "    </tr>\n",
       "    <tr>\n",
       "      <th>1</th>\n",
       "      <td>6</td>\n",
       "      <td>6</td>\n",
       "    </tr>\n",
       "    <tr>\n",
       "      <th>2</th>\n",
       "      <td>5</td>\n",
       "      <td>5</td>\n",
       "    </tr>\n",
       "    <tr>\n",
       "      <th>3</th>\n",
       "      <td>3</td>\n",
       "      <td>3</td>\n",
       "    </tr>\n",
       "    <tr>\n",
       "      <th>4</th>\n",
       "      <td>3</td>\n",
       "      <td>4</td>\n",
       "    </tr>\n",
       "    <tr>\n",
       "      <th>...</th>\n",
       "      <td>...</td>\n",
       "      <td>...</td>\n",
       "    </tr>\n",
       "    <tr>\n",
       "      <th>559</th>\n",
       "      <td>6</td>\n",
       "      <td>6</td>\n",
       "    </tr>\n",
       "    <tr>\n",
       "      <th>560</th>\n",
       "      <td>3</td>\n",
       "      <td>3</td>\n",
       "    </tr>\n",
       "    <tr>\n",
       "      <th>561</th>\n",
       "      <td>4</td>\n",
       "      <td>4</td>\n",
       "    </tr>\n",
       "    <tr>\n",
       "      <th>562</th>\n",
       "      <td>6</td>\n",
       "      <td>6</td>\n",
       "    </tr>\n",
       "    <tr>\n",
       "      <th>563</th>\n",
       "      <td>3</td>\n",
       "      <td>3</td>\n",
       "    </tr>\n",
       "  </tbody>\n",
       "</table>\n",
       "<p>564 rows × 2 columns</p>\n",
       "</div>"
      ],
      "text/plain": [
       "     Orginal  Predicted\n",
       "0          2          2\n",
       "1          6          6\n",
       "2          5          5\n",
       "3          3          3\n",
       "4          3          4\n",
       "..       ...        ...\n",
       "559        6          6\n",
       "560        3          3\n",
       "561        4          4\n",
       "562        6          6\n",
       "563        3          3\n",
       "\n",
       "[564 rows x 2 columns]"
      ]
     },
     "execution_count": 164,
     "metadata": {},
     "output_type": "execute_result"
    }
   ],
   "source": [
    "a =np.array(y_test)\n",
    "predicted=np.array(CV_rfc.predict(x_test))\n",
    "Global_Power_Plant=pd.DataFrame({'Orginal':a,'Predicted':predicted}, index=range(len(a)))\n",
    "Global_Power_Plant"
   ]
  },
  {
   "cell_type": "code",
   "execution_count": 165,
   "id": "daa3f6f8",
   "metadata": {},
   "outputs": [],
   "source": [
    "#  for Target column is \"capacity_mw\":"
   ]
  },
  {
   "cell_type": "code",
   "execution_count": 166,
   "id": "674ada0f",
   "metadata": {},
   "outputs": [],
   "source": [
    "# creating new train test split using the random state.\n",
    "x_train,x_test,y_train,y_test=train_test_split(x1,y1,test_size=.30,random_state=35)"
   ]
  },
  {
   "cell_type": "code",
   "execution_count": 167,
   "id": "5e12caef",
   "metadata": {},
   "outputs": [
    {
     "data": {
      "text/plain": [
       "((855, 10), (855,))"
      ]
     },
     "execution_count": 167,
     "metadata": {},
     "output_type": "execute_result"
    }
   ],
   "source": [
    "x1.shape, y1.shape"
   ]
  },
  {
   "cell_type": "code",
   "execution_count": 168,
   "id": "7dc1e994",
   "metadata": {},
   "outputs": [
    {
     "data": {
      "text/plain": [
       "((598, 10), (598,), (257, 10), (257,))"
      ]
     },
     "execution_count": 168,
     "metadata": {},
     "output_type": "execute_result"
    }
   ],
   "source": [
    "x_train.shape,y_train.shape, x_test.shape,y_test.shape"
   ]
  },
  {
   "cell_type": "markdown",
   "id": "0306d295",
   "metadata": {},
   "source": [
    "# Linear regression:"
   ]
  },
  {
   "cell_type": "code",
   "execution_count": 169,
   "id": "8ef1a2dc",
   "metadata": {},
   "outputs": [],
   "source": [
    "from sklearn.linear_model import LinearRegression"
   ]
  },
  {
   "cell_type": "code",
   "execution_count": 170,
   "id": "0331c893",
   "metadata": {},
   "outputs": [
    {
     "name": "stdout",
     "output_type": "stream",
     "text": [
      "R2 score:  0.4235631829443154\n",
      "Mean abs error:  254.31321227418962\n",
      "Mean squared error:  125031.46893996737\n",
      "Root Mean Squared Error:  353.5978915943467\n"
     ]
    }
   ],
   "source": [
    "lr=LinearRegression()\n",
    "lr.fit(x_train,y_train)\n",
    "#prediction\n",
    "pred_lr=lr.predict(x_test)\n",
    "\n",
    "#checking R2 Score\n",
    "print(\"R2 score: \", r2_score(y_test, pred_lr))\n",
    "#checking Mean abs error\n",
    "print(\"Mean abs error: \", mean_absolute_error(y_test, pred_lr))\n",
    "#checking Mean squared error\n",
    "print(\"Mean squared error: \",mean_squared_error(y_test,pred_lr))\n",
    "#checking Root Mean squared error\n",
    "print(\"Root Mean Squared Error: \", np.sqrt(mean_squared_error(y_test,pred_lr)))"
   ]
  },
  {
   "cell_type": "markdown",
   "id": "aa8959b1",
   "metadata": {},
   "source": [
    "# Random forest Regression Model:"
   ]
  },
  {
   "cell_type": "code",
   "execution_count": 171,
   "id": "34e9e639",
   "metadata": {},
   "outputs": [
    {
     "name": "stdout",
     "output_type": "stream",
     "text": [
      "R2 score:  0.8256430004841284\n",
      "Mean abs error:  91.15630240775155\n",
      "Mean squared error:  37818.735938458776\n",
      "Root Mean Squared Error:  194.47039861752424\n"
     ]
    }
   ],
   "source": [
    "# Checking R2 score for Random Forest Regressor\n",
    "RFR=RandomForestRegressor(n_estimators=600, random_state=28)\n",
    "RFR.fit(x_train,y_train)\n",
    "# prediction\n",
    "pred_RFR=RFR.predict(x_test)\n",
    "\n",
    "#printing R2 Score\n",
    "print(\"R2 score: \", r2_score(y_test, pred_RFR))\n",
    "#printing Mean abs error\n",
    "print(\"Mean abs error: \", mean_absolute_error(y_test, pred_RFR))\n",
    "#printing Mean squared error\n",
    "print(\"Mean squared error: \", mean_squared_error(y_test,pred_RFR))\n",
    "#printing Root Mean squared error\n",
    "print(\"Root Mean Squared Error: \", np.sqrt(mean_squared_error(y_test,pred_RFR)))"
   ]
  },
  {
   "cell_type": "markdown",
   "id": "d363b197",
   "metadata": {},
   "source": [
    "# KNN regressor:"
   ]
  },
  {
   "cell_type": "code",
   "execution_count": 172,
   "id": "a7d10339",
   "metadata": {},
   "outputs": [
    {
     "name": "stdout",
     "output_type": "stream",
     "text": [
      "R2 score:  0.7203943028339759\n",
      "Mean abs error:  119.37926113272806\n",
      "Mean squared error:  60647.602662191726\n",
      "Root Mean Squared Error:  246.26733982034997\n"
     ]
    }
   ],
   "source": [
    "# Checking R2 score for KNN Regressor\n",
    "knn=KNeighborsRegressor(n_neighbors=9 )\n",
    "knn.fit(x_train,y_train)\n",
    "# prediction\n",
    "pred_knn=knn.predict(x_test)\n",
    "\n",
    "#printing R2 Score\n",
    "print(\"R2 score: \", r2_score(y_test, pred_knn))\n",
    "#printing Mean abs error\n",
    "print(\"Mean abs error: \", mean_absolute_error(y_test, pred_knn))\n",
    "#printing Mean squared error\n",
    "print(\"Mean squared error: \", mean_squared_error(y_test,pred_knn))\n",
    "#printing Root Mean squared error\n",
    "print(\"Root Mean Squared Error: \", np.sqrt(mean_squared_error(y_test,pred_knn)))"
   ]
  },
  {
   "cell_type": "markdown",
   "id": "0f0f3c83",
   "metadata": {},
   "source": [
    "# Decision Tree Regressor:"
   ]
  },
  {
   "cell_type": "code",
   "execution_count": 173,
   "id": "7a31f18f",
   "metadata": {},
   "outputs": [
    {
     "name": "stdout",
     "output_type": "stream",
     "text": [
      "R2 score:  0.6908551436411783\n",
      "Mean abs error:  118.65344876783399\n",
      "Mean squared error:  67054.76534828059\n",
      "Root Mean Squared Error:  258.94934900146126\n"
     ]
    }
   ],
   "source": [
    "# Checking R2 score for Decision Tree Regressor \n",
    "DTR= DecisionTreeRegressor(random_state=29)\n",
    "DTR.fit(x_train,y_train)\n",
    "# prediction\n",
    "pred_DTR=DTR.predict(x_test)\n",
    "\n",
    "#printing R2 Score\n",
    "print(\"R2 score: \", r2_score(y_test, pred_DTR))\n",
    "#printing Mean abs error\n",
    "print(\"Mean abs error: \", mean_absolute_error(y_test, pred_DTR))\n",
    "#printing Mean squared error\n",
    "print(\"Mean squared error: \", mean_squared_error(y_test,pred_DTR))\n",
    "#printing Root Mean squared error\n",
    "print(\"Root Mean Squared Error: \", np.sqrt(mean_squared_error(y_test,pred_DTR)))"
   ]
  },
  {
   "cell_type": "code",
   "execution_count": 174,
   "id": "4cb9cae5",
   "metadata": {},
   "outputs": [
    {
     "name": "stdout",
     "output_type": "stream",
     "text": [
      "The CV score  for Linear_regression is : 0.36815504004738553\n"
     ]
    }
   ],
   "source": [
    "print('The CV score  for Linear_regression is :',cross_val_score(lr,x1,y1,cv=7).mean())"
   ]
  },
  {
   "cell_type": "code",
   "execution_count": 175,
   "id": "44b756e0",
   "metadata": {},
   "outputs": [
    {
     "name": "stdout",
     "output_type": "stream",
     "text": [
      "The CV  score for  the Random forest regressor is: 0.7793147744268438\n"
     ]
    }
   ],
   "source": [
    "print(\"The CV  score for  the Random forest regressor is:\",cross_val_score(RFR,x1,y1,cv=7).mean())"
   ]
  },
  {
   "cell_type": "code",
   "execution_count": 176,
   "id": "e00405ae",
   "metadata": {},
   "outputs": [
    {
     "name": "stdout",
     "output_type": "stream",
     "text": [
      "The CV score  for  the KNN regressor is : 0.6966138052734522\n"
     ]
    }
   ],
   "source": [
    "print('The CV score  for  the KNN regressor is :',cross_val_score(knn,x1,y1,cv=7).mean())"
   ]
  },
  {
   "cell_type": "code",
   "execution_count": 177,
   "id": "24f68327",
   "metadata": {},
   "outputs": [
    {
     "name": "stdout",
     "output_type": "stream",
     "text": [
      "The CV score  for  the DTR is : 0.5839862785853557\n"
     ]
    }
   ],
   "source": [
    "print('The CV score  for  the DTR is :',cross_val_score(DTR,x1,y1,cv=7).mean())"
   ]
  },
  {
   "cell_type": "markdown",
   "id": "42219c64",
   "metadata": {},
   "source": [
    "# Conclusion:\n",
    "\n",
    "We got the accuracy score of 83% for the Target variabe primary_fuel and 77% for the Target Variable Capacity_mw using random forest algorithm . The accuracy score is recorded after using cross validation score , so there is no chance of overfitting and underfitting . So ,the model performance is quite satifying for predicting the results."
   ]
  },
  {
   "cell_type": "code",
   "execution_count": null,
   "id": "d7becd7d",
   "metadata": {},
   "outputs": [],
   "source": []
  }
 ],
 "metadata": {
  "kernelspec": {
   "display_name": "Python 3 (ipykernel)",
   "language": "python",
   "name": "python3"
  },
  "language_info": {
   "codemirror_mode": {
    "name": "ipython",
    "version": 3
   },
   "file_extension": ".py",
   "mimetype": "text/x-python",
   "name": "python",
   "nbconvert_exporter": "python",
   "pygments_lexer": "ipython3",
   "version": "3.9.12"
  }
 },
 "nbformat": 4,
 "nbformat_minor": 5
}
